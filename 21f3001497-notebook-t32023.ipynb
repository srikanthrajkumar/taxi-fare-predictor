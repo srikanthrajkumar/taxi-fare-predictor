{
 "cells": [
  {
   "cell_type": "code",
   "execution_count": 1,
   "id": "6fc0962a",
   "metadata": {
    "_cell_guid": "b1076dfc-b9ad-4769-8c92-a6c4dae69d19",
    "_uuid": "8f2839f25d086af736a60e9eeb907d3b93b6e0e5",
    "execution": {
     "iopub.execute_input": "2023-12-15T06:34:03.564055Z",
     "iopub.status.busy": "2023-12-15T06:34:03.563244Z",
     "iopub.status.idle": "2023-12-15T06:34:04.495979Z",
     "shell.execute_reply": "2023-12-15T06:34:04.494403Z"
    },
    "papermill": {
     "duration": 0.966003,
     "end_time": "2023-12-15T06:34:04.498767",
     "exception": false,
     "start_time": "2023-12-15T06:34:03.532764",
     "status": "completed"
    },
    "tags": []
   },
   "outputs": [
    {
     "name": "stdout",
     "output_type": "stream",
     "text": [
      "/kaggle/input/taxi-fare-guru-total-amount-prediction-challenge/sample.csv.csv\n",
      "/kaggle/input/taxi-fare-guru-total-amount-prediction-challenge/train.csv\n",
      "/kaggle/input/taxi-fare-guru-total-amount-prediction-challenge/test.csv\n"
     ]
    }
   ],
   "source": [
    "# This Python 3 environment comes with many helpful analytics libraries installed\n",
    "# It is defined by the kaggle/python Docker image: https://github.com/kaggle/docker-python\n",
    "# For example, here's several helpful packages to load\n",
    "\n",
    "import numpy as np # linear algebra\n",
    "import pandas as pd # data processing, CSV file I/O (e.g. pd.read_csv)\n",
    "\n",
    "# Input data files are available in the read-only \"../input/\" directory\n",
    "# For example, running this (by clicking run or pressing Shift+Enter) will list all files under the input directory\n",
    "\n",
    "import os\n",
    "for dirname, _, filenames in os.walk('/kaggle/input'):\n",
    "    for filename in filenames:\n",
    "        print(os.path.join(dirname, filename))\n",
    "\n",
    "# You can write up to 20GB to the current directory (/kaggle/working/) that gets preserved as output when you create a version using \"Save & Run All\" \n",
    "# You can also write temporary files to /kaggle/temp/, but they won't be saved outside of the current session"
   ]
  },
  {
   "cell_type": "markdown",
   "id": "62c5a4fd",
   "metadata": {
    "papermill": {
     "duration": 0.027848,
     "end_time": "2023-12-15T06:34:04.554277",
     "exception": false,
     "start_time": "2023-12-15T06:34:04.526429",
     "status": "completed"
    },
    "tags": []
   },
   "source": [
    "**Things I need to test out:**\n",
    "* Is it better to predict just the actual fare amount (total - tip - congestion .... ) or the total amount itself?\n",
    "* Is store_fwd_flag even useful?"
   ]
  },
  {
   "cell_type": "code",
   "execution_count": 2,
   "id": "5290a547",
   "metadata": {
    "execution": {
     "iopub.execute_input": "2023-12-15T06:34:04.611637Z",
     "iopub.status.busy": "2023-12-15T06:34:04.611050Z",
     "iopub.status.idle": "2023-12-15T06:34:04.649150Z",
     "shell.execute_reply": "2023-12-15T06:34:04.647889Z"
    },
    "papermill": {
     "duration": 0.069672,
     "end_time": "2023-12-15T06:34:04.651865",
     "exception": false,
     "start_time": "2023-12-15T06:34:04.582193",
     "status": "completed"
    },
    "tags": []
   },
   "outputs": [
    {
     "data": {
      "text/html": [
       "<div>\n",
       "<style scoped>\n",
       "    .dataframe tbody tr th:only-of-type {\n",
       "        vertical-align: middle;\n",
       "    }\n",
       "\n",
       "    .dataframe tbody tr th {\n",
       "        vertical-align: top;\n",
       "    }\n",
       "\n",
       "    .dataframe thead th {\n",
       "        text-align: right;\n",
       "    }\n",
       "</style>\n",
       "<table border=\"1\" class=\"dataframe\">\n",
       "  <thead>\n",
       "    <tr style=\"text-align: right;\">\n",
       "      <th></th>\n",
       "      <th>ID</th>\n",
       "      <th>total_amount</th>\n",
       "    </tr>\n",
       "  </thead>\n",
       "  <tbody>\n",
       "    <tr>\n",
       "      <th>0</th>\n",
       "      <td>1</td>\n",
       "      <td>24.456348</td>\n",
       "    </tr>\n",
       "    <tr>\n",
       "      <th>1</th>\n",
       "      <td>2</td>\n",
       "      <td>24.374058</td>\n",
       "    </tr>\n",
       "    <tr>\n",
       "      <th>2</th>\n",
       "      <td>3</td>\n",
       "      <td>19.878154</td>\n",
       "    </tr>\n",
       "    <tr>\n",
       "      <th>3</th>\n",
       "      <td>4</td>\n",
       "      <td>25.015569</td>\n",
       "    </tr>\n",
       "    <tr>\n",
       "      <th>4</th>\n",
       "      <td>5</td>\n",
       "      <td>22.252489</td>\n",
       "    </tr>\n",
       "    <tr>\n",
       "      <th>...</th>\n",
       "      <td>...</td>\n",
       "      <td>...</td>\n",
       "    </tr>\n",
       "    <tr>\n",
       "      <th>995</th>\n",
       "      <td>996</td>\n",
       "      <td>24.438531</td>\n",
       "    </tr>\n",
       "    <tr>\n",
       "      <th>996</th>\n",
       "      <td>997</td>\n",
       "      <td>26.773706</td>\n",
       "    </tr>\n",
       "    <tr>\n",
       "      <th>997</th>\n",
       "      <td>998</td>\n",
       "      <td>22.192718</td>\n",
       "    </tr>\n",
       "    <tr>\n",
       "      <th>998</th>\n",
       "      <td>999</td>\n",
       "      <td>142.698686</td>\n",
       "    </tr>\n",
       "    <tr>\n",
       "      <th>999</th>\n",
       "      <td>1000</td>\n",
       "      <td>18.952374</td>\n",
       "    </tr>\n",
       "  </tbody>\n",
       "</table>\n",
       "<p>1000 rows × 2 columns</p>\n",
       "</div>"
      ],
      "text/plain": [
       "       ID  total_amount\n",
       "0       1     24.456348\n",
       "1       2     24.374058\n",
       "2       3     19.878154\n",
       "3       4     25.015569\n",
       "4       5     22.252489\n",
       "..    ...           ...\n",
       "995   996     24.438531\n",
       "996   997     26.773706\n",
       "997   998     22.192718\n",
       "998   999    142.698686\n",
       "999  1000     18.952374\n",
       "\n",
       "[1000 rows x 2 columns]"
      ]
     },
     "execution_count": 2,
     "metadata": {},
     "output_type": "execute_result"
    }
   ],
   "source": [
    "sample = pd.read_csv(\"/kaggle/input/taxi-fare-guru-total-amount-prediction-challenge/sample.csv.csv\")\n",
    "sample"
   ]
  },
  {
   "cell_type": "code",
   "execution_count": 3,
   "id": "bad12bf4",
   "metadata": {
    "execution": {
     "iopub.execute_input": "2023-12-15T06:34:04.708935Z",
     "iopub.status.busy": "2023-12-15T06:34:04.708422Z",
     "iopub.status.idle": "2023-12-15T06:34:04.989017Z",
     "shell.execute_reply": "2023-12-15T06:34:04.987864Z"
    },
    "papermill": {
     "duration": 0.312599,
     "end_time": "2023-12-15T06:34:04.991920",
     "exception": false,
     "start_time": "2023-12-15T06:34:04.679321",
     "status": "completed"
    },
    "tags": []
   },
   "outputs": [
    {
     "data": {
      "text/html": [
       "<div>\n",
       "<style scoped>\n",
       "    .dataframe tbody tr th:only-of-type {\n",
       "        vertical-align: middle;\n",
       "    }\n",
       "\n",
       "    .dataframe tbody tr th {\n",
       "        vertical-align: top;\n",
       "    }\n",
       "\n",
       "    .dataframe thead th {\n",
       "        text-align: right;\n",
       "    }\n",
       "</style>\n",
       "<table border=\"1\" class=\"dataframe\">\n",
       "  <thead>\n",
       "    <tr style=\"text-align: right;\">\n",
       "      <th></th>\n",
       "      <th>VendorID</th>\n",
       "      <th>tpep_pickup_datetime</th>\n",
       "      <th>tpep_dropoff_datetime</th>\n",
       "      <th>passenger_count</th>\n",
       "      <th>trip_distance</th>\n",
       "      <th>RatecodeID</th>\n",
       "      <th>store_and_fwd_flag</th>\n",
       "      <th>PULocationID</th>\n",
       "      <th>DOLocationID</th>\n",
       "      <th>payment_type</th>\n",
       "      <th>extra</th>\n",
       "      <th>tip_amount</th>\n",
       "      <th>tolls_amount</th>\n",
       "      <th>improvement_surcharge</th>\n",
       "      <th>congestion_surcharge</th>\n",
       "      <th>Airport_fee</th>\n",
       "    </tr>\n",
       "  </thead>\n",
       "  <tbody>\n",
       "    <tr>\n",
       "      <th>0</th>\n",
       "      <td>1</td>\n",
       "      <td>2023-06-29 00:21:20</td>\n",
       "      <td>2023-06-29 00:25:20</td>\n",
       "      <td>1.0</td>\n",
       "      <td>4.95</td>\n",
       "      <td>1.0</td>\n",
       "      <td>N</td>\n",
       "      <td>20</td>\n",
       "      <td>3</td>\n",
       "      <td>Credit Card</td>\n",
       "      <td>1.0</td>\n",
       "      <td>6.067612</td>\n",
       "      <td>0.0</td>\n",
       "      <td>1.0</td>\n",
       "      <td>2.5</td>\n",
       "      <td>0.00</td>\n",
       "    </tr>\n",
       "    <tr>\n",
       "      <th>1</th>\n",
       "      <td>1</td>\n",
       "      <td>2023-06-30 17:44:43</td>\n",
       "      <td>2023-06-30 17:53:13</td>\n",
       "      <td>1.0</td>\n",
       "      <td>2.10</td>\n",
       "      <td>1.0</td>\n",
       "      <td>N</td>\n",
       "      <td>9</td>\n",
       "      <td>81</td>\n",
       "      <td>Credit Card</td>\n",
       "      <td>2.5</td>\n",
       "      <td>6.191269</td>\n",
       "      <td>0.0</td>\n",
       "      <td>1.0</td>\n",
       "      <td>2.5</td>\n",
       "      <td>0.00</td>\n",
       "    </tr>\n",
       "    <tr>\n",
       "      <th>2</th>\n",
       "      <td>1</td>\n",
       "      <td>2023-06-29 18:17:04</td>\n",
       "      <td>2023-06-29 19:23:48</td>\n",
       "      <td>1.0</td>\n",
       "      <td>0.95</td>\n",
       "      <td>1.0</td>\n",
       "      <td>N</td>\n",
       "      <td>92</td>\n",
       "      <td>90</td>\n",
       "      <td>Cash</td>\n",
       "      <td>2.5</td>\n",
       "      <td>3.983872</td>\n",
       "      <td>0.0</td>\n",
       "      <td>1.0</td>\n",
       "      <td>2.5</td>\n",
       "      <td>0.00</td>\n",
       "    </tr>\n",
       "    <tr>\n",
       "      <th>3</th>\n",
       "      <td>0</td>\n",
       "      <td>2023-06-30 21:33:53</td>\n",
       "      <td>2023-06-30 21:46:20</td>\n",
       "      <td>1.0</td>\n",
       "      <td>0.80</td>\n",
       "      <td>1.0</td>\n",
       "      <td>N</td>\n",
       "      <td>19</td>\n",
       "      <td>102</td>\n",
       "      <td>Credit Card</td>\n",
       "      <td>3.5</td>\n",
       "      <td>6.839341</td>\n",
       "      <td>0.0</td>\n",
       "      <td>1.0</td>\n",
       "      <td>2.5</td>\n",
       "      <td>0.00</td>\n",
       "    </tr>\n",
       "    <tr>\n",
       "      <th>4</th>\n",
       "      <td>1</td>\n",
       "      <td>2023-06-29 14:53:54</td>\n",
       "      <td>2023-06-29 15:22:17</td>\n",
       "      <td>1.0</td>\n",
       "      <td>4.01</td>\n",
       "      <td>1.0</td>\n",
       "      <td>N</td>\n",
       "      <td>131</td>\n",
       "      <td>229</td>\n",
       "      <td>Cash</td>\n",
       "      <td>0.0</td>\n",
       "      <td>1.468943</td>\n",
       "      <td>0.0</td>\n",
       "      <td>1.0</td>\n",
       "      <td>0.0</td>\n",
       "      <td>0.00</td>\n",
       "    </tr>\n",
       "    <tr>\n",
       "      <th>...</th>\n",
       "      <td>...</td>\n",
       "      <td>...</td>\n",
       "      <td>...</td>\n",
       "      <td>...</td>\n",
       "      <td>...</td>\n",
       "      <td>...</td>\n",
       "      <td>...</td>\n",
       "      <td>...</td>\n",
       "      <td>...</td>\n",
       "      <td>...</td>\n",
       "      <td>...</td>\n",
       "      <td>...</td>\n",
       "      <td>...</td>\n",
       "      <td>...</td>\n",
       "      <td>...</td>\n",
       "      <td>...</td>\n",
       "    </tr>\n",
       "    <tr>\n",
       "      <th>49995</th>\n",
       "      <td>1</td>\n",
       "      <td>2023-06-29 17:41:59</td>\n",
       "      <td>2023-06-29 18:30:36</td>\n",
       "      <td>1.0</td>\n",
       "      <td>0.61</td>\n",
       "      <td>1.0</td>\n",
       "      <td>N</td>\n",
       "      <td>48</td>\n",
       "      <td>72</td>\n",
       "      <td>Credit Card</td>\n",
       "      <td>2.5</td>\n",
       "      <td>4.043482</td>\n",
       "      <td>0.0</td>\n",
       "      <td>1.0</td>\n",
       "      <td>2.5</td>\n",
       "      <td>0.00</td>\n",
       "    </tr>\n",
       "    <tr>\n",
       "      <th>49996</th>\n",
       "      <td>1</td>\n",
       "      <td>2023-06-30 01:25:25</td>\n",
       "      <td>2023-06-30 01:10:40</td>\n",
       "      <td>1.0</td>\n",
       "      <td>5.02</td>\n",
       "      <td>1.0</td>\n",
       "      <td>N</td>\n",
       "      <td>57</td>\n",
       "      <td>103</td>\n",
       "      <td>Cash</td>\n",
       "      <td>1.0</td>\n",
       "      <td>2.895882</td>\n",
       "      <td>0.0</td>\n",
       "      <td>1.0</td>\n",
       "      <td>0.0</td>\n",
       "      <td>1.75</td>\n",
       "    </tr>\n",
       "    <tr>\n",
       "      <th>49997</th>\n",
       "      <td>1</td>\n",
       "      <td>2023-06-30 22:28:44</td>\n",
       "      <td>2023-06-30 21:49:37</td>\n",
       "      <td>1.0</td>\n",
       "      <td>1.92</td>\n",
       "      <td>1.0</td>\n",
       "      <td>N</td>\n",
       "      <td>150</td>\n",
       "      <td>78</td>\n",
       "      <td>Credit Card</td>\n",
       "      <td>1.0</td>\n",
       "      <td>5.636590</td>\n",
       "      <td>0.0</td>\n",
       "      <td>1.0</td>\n",
       "      <td>2.5</td>\n",
       "      <td>0.00</td>\n",
       "    </tr>\n",
       "    <tr>\n",
       "      <th>49998</th>\n",
       "      <td>0</td>\n",
       "      <td>2023-06-30 02:37:18</td>\n",
       "      <td>2023-06-30 02:10:33</td>\n",
       "      <td>1.0</td>\n",
       "      <td>5.40</td>\n",
       "      <td>1.0</td>\n",
       "      <td>N</td>\n",
       "      <td>4</td>\n",
       "      <td>154</td>\n",
       "      <td>Credit Card</td>\n",
       "      <td>3.5</td>\n",
       "      <td>7.293144</td>\n",
       "      <td>0.0</td>\n",
       "      <td>1.0</td>\n",
       "      <td>2.5</td>\n",
       "      <td>0.00</td>\n",
       "    </tr>\n",
       "    <tr>\n",
       "      <th>49999</th>\n",
       "      <td>1</td>\n",
       "      <td>2023-06-30 18:05:15</td>\n",
       "      <td>2023-06-30 17:15:16</td>\n",
       "      <td>1.0</td>\n",
       "      <td>1.31</td>\n",
       "      <td>1.0</td>\n",
       "      <td>N</td>\n",
       "      <td>7</td>\n",
       "      <td>174</td>\n",
       "      <td>Cash</td>\n",
       "      <td>2.5</td>\n",
       "      <td>1.966592</td>\n",
       "      <td>0.0</td>\n",
       "      <td>1.0</td>\n",
       "      <td>2.5</td>\n",
       "      <td>0.00</td>\n",
       "    </tr>\n",
       "  </tbody>\n",
       "</table>\n",
       "<p>50000 rows × 16 columns</p>\n",
       "</div>"
      ],
      "text/plain": [
       "       VendorID tpep_pickup_datetime tpep_dropoff_datetime  passenger_count  \\\n",
       "0             1  2023-06-29 00:21:20   2023-06-29 00:25:20              1.0   \n",
       "1             1  2023-06-30 17:44:43   2023-06-30 17:53:13              1.0   \n",
       "2             1  2023-06-29 18:17:04   2023-06-29 19:23:48              1.0   \n",
       "3             0  2023-06-30 21:33:53   2023-06-30 21:46:20              1.0   \n",
       "4             1  2023-06-29 14:53:54   2023-06-29 15:22:17              1.0   \n",
       "...         ...                  ...                   ...              ...   \n",
       "49995         1  2023-06-29 17:41:59   2023-06-29 18:30:36              1.0   \n",
       "49996         1  2023-06-30 01:25:25   2023-06-30 01:10:40              1.0   \n",
       "49997         1  2023-06-30 22:28:44   2023-06-30 21:49:37              1.0   \n",
       "49998         0  2023-06-30 02:37:18   2023-06-30 02:10:33              1.0   \n",
       "49999         1  2023-06-30 18:05:15   2023-06-30 17:15:16              1.0   \n",
       "\n",
       "       trip_distance  RatecodeID store_and_fwd_flag  PULocationID  \\\n",
       "0               4.95         1.0                  N            20   \n",
       "1               2.10         1.0                  N             9   \n",
       "2               0.95         1.0                  N            92   \n",
       "3               0.80         1.0                  N            19   \n",
       "4               4.01         1.0                  N           131   \n",
       "...              ...         ...                ...           ...   \n",
       "49995           0.61         1.0                  N            48   \n",
       "49996           5.02         1.0                  N            57   \n",
       "49997           1.92         1.0                  N           150   \n",
       "49998           5.40         1.0                  N             4   \n",
       "49999           1.31         1.0                  N             7   \n",
       "\n",
       "       DOLocationID payment_type  extra  tip_amount  tolls_amount  \\\n",
       "0                 3  Credit Card    1.0    6.067612           0.0   \n",
       "1                81  Credit Card    2.5    6.191269           0.0   \n",
       "2                90         Cash    2.5    3.983872           0.0   \n",
       "3               102  Credit Card    3.5    6.839341           0.0   \n",
       "4               229         Cash    0.0    1.468943           0.0   \n",
       "...             ...          ...    ...         ...           ...   \n",
       "49995            72  Credit Card    2.5    4.043482           0.0   \n",
       "49996           103         Cash    1.0    2.895882           0.0   \n",
       "49997            78  Credit Card    1.0    5.636590           0.0   \n",
       "49998           154  Credit Card    3.5    7.293144           0.0   \n",
       "49999           174         Cash    2.5    1.966592           0.0   \n",
       "\n",
       "       improvement_surcharge  congestion_surcharge  Airport_fee  \n",
       "0                        1.0                   2.5         0.00  \n",
       "1                        1.0                   2.5         0.00  \n",
       "2                        1.0                   2.5         0.00  \n",
       "3                        1.0                   2.5         0.00  \n",
       "4                        1.0                   0.0         0.00  \n",
       "...                      ...                   ...          ...  \n",
       "49995                    1.0                   2.5         0.00  \n",
       "49996                    1.0                   0.0         1.75  \n",
       "49997                    1.0                   2.5         0.00  \n",
       "49998                    1.0                   2.5         0.00  \n",
       "49999                    1.0                   2.5         0.00  \n",
       "\n",
       "[50000 rows x 16 columns]"
      ]
     },
     "execution_count": 3,
     "metadata": {},
     "output_type": "execute_result"
    }
   ],
   "source": [
    "test = pd.read_csv(\"/kaggle/input/taxi-fare-guru-total-amount-prediction-challenge/test.csv\")\n",
    "test"
   ]
  },
  {
   "cell_type": "code",
   "execution_count": 4,
   "id": "b8d31d59",
   "metadata": {
    "execution": {
     "iopub.execute_input": "2023-12-15T06:34:05.051922Z",
     "iopub.status.busy": "2023-12-15T06:34:05.051481Z",
     "iopub.status.idle": "2023-12-15T06:34:05.940610Z",
     "shell.execute_reply": "2023-12-15T06:34:05.939194Z"
    },
    "papermill": {
     "duration": 0.926776,
     "end_time": "2023-12-15T06:34:05.947086",
     "exception": false,
     "start_time": "2023-12-15T06:34:05.020310",
     "status": "completed"
    },
    "tags": []
   },
   "outputs": [
    {
     "data": {
      "text/html": [
       "<div>\n",
       "<style scoped>\n",
       "    .dataframe tbody tr th:only-of-type {\n",
       "        vertical-align: middle;\n",
       "    }\n",
       "\n",
       "    .dataframe tbody tr th {\n",
       "        vertical-align: top;\n",
       "    }\n",
       "\n",
       "    .dataframe thead th {\n",
       "        text-align: right;\n",
       "    }\n",
       "</style>\n",
       "<table border=\"1\" class=\"dataframe\">\n",
       "  <thead>\n",
       "    <tr style=\"text-align: right;\">\n",
       "      <th></th>\n",
       "      <th>VendorID</th>\n",
       "      <th>tpep_pickup_datetime</th>\n",
       "      <th>tpep_dropoff_datetime</th>\n",
       "      <th>passenger_count</th>\n",
       "      <th>trip_distance</th>\n",
       "      <th>RatecodeID</th>\n",
       "      <th>store_and_fwd_flag</th>\n",
       "      <th>PULocationID</th>\n",
       "      <th>DOLocationID</th>\n",
       "      <th>payment_type</th>\n",
       "      <th>extra</th>\n",
       "      <th>tip_amount</th>\n",
       "      <th>tolls_amount</th>\n",
       "      <th>improvement_surcharge</th>\n",
       "      <th>total_amount</th>\n",
       "      <th>congestion_surcharge</th>\n",
       "      <th>Airport_fee</th>\n",
       "    </tr>\n",
       "  </thead>\n",
       "  <tbody>\n",
       "    <tr>\n",
       "      <th>0</th>\n",
       "      <td>1</td>\n",
       "      <td>2023-06-28 17:20:21</td>\n",
       "      <td>2023-06-28 16:34:45</td>\n",
       "      <td>1.0</td>\n",
       "      <td>2.14</td>\n",
       "      <td>1.0</td>\n",
       "      <td>N</td>\n",
       "      <td>120</td>\n",
       "      <td>9</td>\n",
       "      <td>Credit Card</td>\n",
       "      <td>2.5</td>\n",
       "      <td>7.165589</td>\n",
       "      <td>0.0</td>\n",
       "      <td>1.0</td>\n",
       "      <td>20.64</td>\n",
       "      <td>2.5</td>\n",
       "      <td>0.00</td>\n",
       "    </tr>\n",
       "    <tr>\n",
       "      <th>1</th>\n",
       "      <td>0</td>\n",
       "      <td>2023-06-29 23:05:01</td>\n",
       "      <td>2023-06-29 22:01:35</td>\n",
       "      <td>1.0</td>\n",
       "      <td>2.70</td>\n",
       "      <td>1.0</td>\n",
       "      <td>N</td>\n",
       "      <td>15</td>\n",
       "      <td>215</td>\n",
       "      <td>Credit Card</td>\n",
       "      <td>3.5</td>\n",
       "      <td>6.067401</td>\n",
       "      <td>0.0</td>\n",
       "      <td>1.0</td>\n",
       "      <td>25.55</td>\n",
       "      <td>2.5</td>\n",
       "      <td>0.00</td>\n",
       "    </tr>\n",
       "    <tr>\n",
       "      <th>2</th>\n",
       "      <td>1</td>\n",
       "      <td>2023-06-30 10:19:31</td>\n",
       "      <td>2023-06-30 11:13:10</td>\n",
       "      <td>1.0</td>\n",
       "      <td>1.15</td>\n",
       "      <td>1.0</td>\n",
       "      <td>N</td>\n",
       "      <td>167</td>\n",
       "      <td>223</td>\n",
       "      <td>Credit Card</td>\n",
       "      <td>0.0</td>\n",
       "      <td>4.111547</td>\n",
       "      <td>0.0</td>\n",
       "      <td>1.0</td>\n",
       "      <td>17.64</td>\n",
       "      <td>2.5</td>\n",
       "      <td>0.00</td>\n",
       "    </tr>\n",
       "    <tr>\n",
       "      <th>3</th>\n",
       "      <td>0</td>\n",
       "      <td>2023-06-29 13:23:09</td>\n",
       "      <td>2023-06-29 14:20:01</td>\n",
       "      <td>1.0</td>\n",
       "      <td>0.40</td>\n",
       "      <td>1.0</td>\n",
       "      <td>N</td>\n",
       "      <td>128</td>\n",
       "      <td>239</td>\n",
       "      <td>Credit Card</td>\n",
       "      <td>2.5</td>\n",
       "      <td>6.411079</td>\n",
       "      <td>0.0</td>\n",
       "      <td>1.0</td>\n",
       "      <td>12.80</td>\n",
       "      <td>2.5</td>\n",
       "      <td>0.00</td>\n",
       "    </tr>\n",
       "    <tr>\n",
       "      <th>4</th>\n",
       "      <td>1</td>\n",
       "      <td>2023-06-29 22:03:32</td>\n",
       "      <td>2023-06-29 22:22:22</td>\n",
       "      <td>3.0</td>\n",
       "      <td>1.10</td>\n",
       "      <td>1.0</td>\n",
       "      <td>N</td>\n",
       "      <td>203</td>\n",
       "      <td>52</td>\n",
       "      <td>Credit Card</td>\n",
       "      <td>1.0</td>\n",
       "      <td>4.769377</td>\n",
       "      <td>0.0</td>\n",
       "      <td>1.0</td>\n",
       "      <td>18.00</td>\n",
       "      <td>2.5</td>\n",
       "      <td>0.00</td>\n",
       "    </tr>\n",
       "    <tr>\n",
       "      <th>...</th>\n",
       "      <td>...</td>\n",
       "      <td>...</td>\n",
       "      <td>...</td>\n",
       "      <td>...</td>\n",
       "      <td>...</td>\n",
       "      <td>...</td>\n",
       "      <td>...</td>\n",
       "      <td>...</td>\n",
       "      <td>...</td>\n",
       "      <td>...</td>\n",
       "      <td>...</td>\n",
       "      <td>...</td>\n",
       "      <td>...</td>\n",
       "      <td>...</td>\n",
       "      <td>...</td>\n",
       "      <td>...</td>\n",
       "      <td>...</td>\n",
       "    </tr>\n",
       "    <tr>\n",
       "      <th>174995</th>\n",
       "      <td>1</td>\n",
       "      <td>2023-06-30 22:50:57</td>\n",
       "      <td>2023-06-30 22:22:22</td>\n",
       "      <td>3.0</td>\n",
       "      <td>3.45</td>\n",
       "      <td>1.0</td>\n",
       "      <td>N</td>\n",
       "      <td>147</td>\n",
       "      <td>167</td>\n",
       "      <td>Credit Card</td>\n",
       "      <td>1.0</td>\n",
       "      <td>8.732495</td>\n",
       "      <td>0.0</td>\n",
       "      <td>1.0</td>\n",
       "      <td>28.08</td>\n",
       "      <td>2.5</td>\n",
       "      <td>0.00</td>\n",
       "    </tr>\n",
       "    <tr>\n",
       "      <th>174996</th>\n",
       "      <td>1</td>\n",
       "      <td>2023-06-30 13:03:33</td>\n",
       "      <td>2023-06-30 14:04:57</td>\n",
       "      <td>1.0</td>\n",
       "      <td>9.44</td>\n",
       "      <td>1.0</td>\n",
       "      <td>N</td>\n",
       "      <td>154</td>\n",
       "      <td>191</td>\n",
       "      <td>Cash</td>\n",
       "      <td>5.0</td>\n",
       "      <td>0.283275</td>\n",
       "      <td>0.0</td>\n",
       "      <td>1.0</td>\n",
       "      <td>59.95</td>\n",
       "      <td>2.5</td>\n",
       "      <td>1.75</td>\n",
       "    </tr>\n",
       "    <tr>\n",
       "      <th>174997</th>\n",
       "      <td>0</td>\n",
       "      <td>2023-06-29 11:03:32</td>\n",
       "      <td>2023-06-29 12:13:34</td>\n",
       "      <td>1.0</td>\n",
       "      <td>2.40</td>\n",
       "      <td>1.0</td>\n",
       "      <td>N</td>\n",
       "      <td>168</td>\n",
       "      <td>106</td>\n",
       "      <td>Credit Card</td>\n",
       "      <td>2.5</td>\n",
       "      <td>4.245354</td>\n",
       "      <td>0.0</td>\n",
       "      <td>1.0</td>\n",
       "      <td>33.50</td>\n",
       "      <td>2.5</td>\n",
       "      <td>0.00</td>\n",
       "    </tr>\n",
       "    <tr>\n",
       "      <th>174998</th>\n",
       "      <td>1</td>\n",
       "      <td>2023-06-29 19:47:17</td>\n",
       "      <td>2023-06-29 19:08:55</td>\n",
       "      <td>1.0</td>\n",
       "      <td>4.71</td>\n",
       "      <td>1.0</td>\n",
       "      <td>N</td>\n",
       "      <td>240</td>\n",
       "      <td>100</td>\n",
       "      <td>Credit Card</td>\n",
       "      <td>2.5</td>\n",
       "      <td>10.479776</td>\n",
       "      <td>0.0</td>\n",
       "      <td>1.0</td>\n",
       "      <td>40.80</td>\n",
       "      <td>2.5</td>\n",
       "      <td>0.00</td>\n",
       "    </tr>\n",
       "    <tr>\n",
       "      <th>174999</th>\n",
       "      <td>1</td>\n",
       "      <td>2023-06-30 21:26:43</td>\n",
       "      <td>2023-06-30 22:54:42</td>\n",
       "      <td>1.0</td>\n",
       "      <td>1.01</td>\n",
       "      <td>1.0</td>\n",
       "      <td>N</td>\n",
       "      <td>153</td>\n",
       "      <td>72</td>\n",
       "      <td>Credit Card</td>\n",
       "      <td>1.0</td>\n",
       "      <td>6.541699</td>\n",
       "      <td>0.0</td>\n",
       "      <td>1.0</td>\n",
       "      <td>16.32</td>\n",
       "      <td>2.5</td>\n",
       "      <td>0.00</td>\n",
       "    </tr>\n",
       "  </tbody>\n",
       "</table>\n",
       "<p>175000 rows × 17 columns</p>\n",
       "</div>"
      ],
      "text/plain": [
       "        VendorID tpep_pickup_datetime tpep_dropoff_datetime  passenger_count  \\\n",
       "0              1  2023-06-28 17:20:21   2023-06-28 16:34:45              1.0   \n",
       "1              0  2023-06-29 23:05:01   2023-06-29 22:01:35              1.0   \n",
       "2              1  2023-06-30 10:19:31   2023-06-30 11:13:10              1.0   \n",
       "3              0  2023-06-29 13:23:09   2023-06-29 14:20:01              1.0   \n",
       "4              1  2023-06-29 22:03:32   2023-06-29 22:22:22              3.0   \n",
       "...          ...                  ...                   ...              ...   \n",
       "174995         1  2023-06-30 22:50:57   2023-06-30 22:22:22              3.0   \n",
       "174996         1  2023-06-30 13:03:33   2023-06-30 14:04:57              1.0   \n",
       "174997         0  2023-06-29 11:03:32   2023-06-29 12:13:34              1.0   \n",
       "174998         1  2023-06-29 19:47:17   2023-06-29 19:08:55              1.0   \n",
       "174999         1  2023-06-30 21:26:43   2023-06-30 22:54:42              1.0   \n",
       "\n",
       "        trip_distance  RatecodeID store_and_fwd_flag  PULocationID  \\\n",
       "0                2.14         1.0                  N           120   \n",
       "1                2.70         1.0                  N            15   \n",
       "2                1.15         1.0                  N           167   \n",
       "3                0.40         1.0                  N           128   \n",
       "4                1.10         1.0                  N           203   \n",
       "...               ...         ...                ...           ...   \n",
       "174995           3.45         1.0                  N           147   \n",
       "174996           9.44         1.0                  N           154   \n",
       "174997           2.40         1.0                  N           168   \n",
       "174998           4.71         1.0                  N           240   \n",
       "174999           1.01         1.0                  N           153   \n",
       "\n",
       "        DOLocationID payment_type  extra  tip_amount  tolls_amount  \\\n",
       "0                  9  Credit Card    2.5    7.165589           0.0   \n",
       "1                215  Credit Card    3.5    6.067401           0.0   \n",
       "2                223  Credit Card    0.0    4.111547           0.0   \n",
       "3                239  Credit Card    2.5    6.411079           0.0   \n",
       "4                 52  Credit Card    1.0    4.769377           0.0   \n",
       "...              ...          ...    ...         ...           ...   \n",
       "174995           167  Credit Card    1.0    8.732495           0.0   \n",
       "174996           191         Cash    5.0    0.283275           0.0   \n",
       "174997           106  Credit Card    2.5    4.245354           0.0   \n",
       "174998           100  Credit Card    2.5   10.479776           0.0   \n",
       "174999            72  Credit Card    1.0    6.541699           0.0   \n",
       "\n",
       "        improvement_surcharge  total_amount  congestion_surcharge  Airport_fee  \n",
       "0                         1.0         20.64                   2.5         0.00  \n",
       "1                         1.0         25.55                   2.5         0.00  \n",
       "2                         1.0         17.64                   2.5         0.00  \n",
       "3                         1.0         12.80                   2.5         0.00  \n",
       "4                         1.0         18.00                   2.5         0.00  \n",
       "...                       ...           ...                   ...          ...  \n",
       "174995                    1.0         28.08                   2.5         0.00  \n",
       "174996                    1.0         59.95                   2.5         1.75  \n",
       "174997                    1.0         33.50                   2.5         0.00  \n",
       "174998                    1.0         40.80                   2.5         0.00  \n",
       "174999                    1.0         16.32                   2.5         0.00  \n",
       "\n",
       "[175000 rows x 17 columns]"
      ]
     },
     "execution_count": 4,
     "metadata": {},
     "output_type": "execute_result"
    }
   ],
   "source": [
    "data = pd.read_csv(\"/kaggle/input/taxi-fare-guru-total-amount-prediction-challenge/train.csv\")\n",
    "data"
   ]
  },
  {
   "cell_type": "code",
   "execution_count": 5,
   "id": "368233b0",
   "metadata": {
    "execution": {
     "iopub.execute_input": "2023-12-15T06:34:06.089069Z",
     "iopub.status.busy": "2023-12-15T06:34:06.087803Z",
     "iopub.status.idle": "2023-12-15T06:34:06.189658Z",
     "shell.execute_reply": "2023-12-15T06:34:06.188804Z"
    },
    "papermill": {
     "duration": 0.202284,
     "end_time": "2023-12-15T06:34:06.192163",
     "exception": false,
     "start_time": "2023-12-15T06:34:05.989879",
     "status": "completed"
    },
    "tags": []
   },
   "outputs": [
    {
     "name": "stdout",
     "output_type": "stream",
     "text": [
      "<class 'pandas.core.frame.DataFrame'>\n",
      "RangeIndex: 175000 entries, 0 to 174999\n",
      "Data columns (total 17 columns):\n",
      " #   Column                 Non-Null Count   Dtype  \n",
      "---  ------                 --------------   -----  \n",
      " 0   VendorID               175000 non-null  int64  \n",
      " 1   tpep_pickup_datetime   175000 non-null  object \n",
      " 2   tpep_dropoff_datetime  175000 non-null  object \n",
      " 3   passenger_count        168923 non-null  float64\n",
      " 4   trip_distance          175000 non-null  float64\n",
      " 5   RatecodeID             168923 non-null  float64\n",
      " 6   store_and_fwd_flag     168923 non-null  object \n",
      " 7   PULocationID           175000 non-null  int64  \n",
      " 8   DOLocationID           175000 non-null  int64  \n",
      " 9   payment_type           175000 non-null  object \n",
      " 10  extra                  175000 non-null  float64\n",
      " 11  tip_amount             175000 non-null  float64\n",
      " 12  tolls_amount           175000 non-null  float64\n",
      " 13  improvement_surcharge  175000 non-null  float64\n",
      " 14  total_amount           175000 non-null  float64\n",
      " 15  congestion_surcharge   168923 non-null  float64\n",
      " 16  Airport_fee            168923 non-null  float64\n",
      "dtypes: float64(10), int64(3), object(4)\n",
      "memory usage: 22.7+ MB\n"
     ]
    }
   ],
   "source": [
    "data.info()"
   ]
  },
  {
   "cell_type": "markdown",
   "id": "49986e5f",
   "metadata": {
    "papermill": {
     "duration": 0.031333,
     "end_time": "2023-12-15T06:34:06.255952",
     "exception": false,
     "start_time": "2023-12-15T06:34:06.224619",
     "status": "completed"
    },
    "tags": []
   },
   "source": [
    "# Preprocessing"
   ]
  },
  {
   "cell_type": "markdown",
   "id": "92a8d7db",
   "metadata": {
    "papermill": {
     "duration": 0.031512,
     "end_time": "2023-12-15T06:34:06.316624",
     "exception": false,
     "start_time": "2023-12-15T06:34:06.285112",
     "status": "completed"
    },
    "tags": []
   },
   "source": [
    "##### Things to improve preprocessing\n",
    "* Different categorization of hours\n",
    "* Discounted fares\n",
    "* MinMaxScaler\n",
    "* PCA\n",
    "* KNNImputer CV k=8\n",
    "* "
   ]
  },
  {
   "cell_type": "code",
   "execution_count": 6,
   "id": "785b05a7",
   "metadata": {
    "execution": {
     "iopub.execute_input": "2023-12-15T06:34:06.376630Z",
     "iopub.status.busy": "2023-12-15T06:34:06.376208Z",
     "iopub.status.idle": "2023-12-15T06:34:06.394065Z",
     "shell.execute_reply": "2023-12-15T06:34:06.392979Z"
    },
    "papermill": {
     "duration": 0.051203,
     "end_time": "2023-12-15T06:34:06.397035",
     "exception": false,
     "start_time": "2023-12-15T06:34:06.345832",
     "status": "completed"
    },
    "tags": []
   },
   "outputs": [],
   "source": [
    "target = data['total_amount']\n",
    "features = data.drop(columns=['total_amount'])"
   ]
  },
  {
   "cell_type": "code",
   "execution_count": 7,
   "id": "384634d6",
   "metadata": {
    "execution": {
     "iopub.execute_input": "2023-12-15T06:34:06.457802Z",
     "iopub.status.busy": "2023-12-15T06:34:06.456763Z",
     "iopub.status.idle": "2023-12-15T06:34:08.420282Z",
     "shell.execute_reply": "2023-12-15T06:34:08.418820Z"
    },
    "papermill": {
     "duration": 1.996787,
     "end_time": "2023-12-15T06:34:08.423243",
     "exception": false,
     "start_time": "2023-12-15T06:34:06.426456",
     "status": "completed"
    },
    "tags": []
   },
   "outputs": [],
   "source": [
    "import pandas as pd\n",
    "import numpy as np\n",
    "from sklearn.base import BaseEstimator, TransformerMixin\n",
    "from sklearn.cluster import KMeans\n",
    "from sklearn.pipeline import Pipeline\n",
    "from sklearn.compose import ColumnTransformer\n",
    "from sklearn.impute import SimpleImputer, KNNImputer\n",
    "from sklearn.preprocessing import FunctionTransformer, OrdinalEncoder, OneHotEncoder, MinMaxScaler\n",
    "\n",
    "# Converts the data\n",
    "def converter(data):\n",
    "    data['tpep_pickup_datetime'] = pd.to_datetime(data['tpep_pickup_datetime'])\n",
    "    data['tpep_dropoff_datetime'] = pd.to_datetime(data['tpep_dropoff_datetime'])\n",
    "    data['pickup_dayofweek'] = data['tpep_pickup_datetime'].dt.dayofweek\n",
    "    data['pickup_hour'] = data['tpep_pickup_datetime'].dt.hour\n",
    "    data['dropoff_hour'] = data['tpep_dropoff_datetime'].dt.hour\n",
    "    data['dropoff_month'] = data['tpep_dropoff_datetime'].dt.month\n",
    "    data['trip_duration'] = (data['tpep_dropoff_datetime'] - data['tpep_pickup_datetime']).abs().dt.total_seconds()\n",
    "    pu_frequency = data['PULocationID'].value_counts() / len(data)\n",
    "    do_frequency = data['DOLocationID'].value_counts() / len(data)\n",
    "    data['PULocationID'] = data['PULocationID'].map(pu_frequency)\n",
    "    data['DOLocationID'] = data['DOLocationID'].map(do_frequency)\n",
    "    return data\n",
    "\n",
    "converter_transformer = FunctionTransformer(converter)\n",
    "\n",
    "# Makes a new column called \"tip_cluster\" based on estimates derived from the Elbow Method\n",
    "class TipClusterTransformer(BaseEstimator, TransformerMixin):\n",
    "    def __init__(self, n_clusters=2, random_state=42):\n",
    "        self.n_clusters = n_clusters\n",
    "        self.random_state = random_state\n",
    "        self.kmeans = KMeans(n_clusters=self.n_clusters, random_state=self.random_state)\n",
    "\n",
    "    def fit(self, X, y=None):\n",
    "        self.kmeans.fit(X[['tip_amount']])\n",
    "        return self\n",
    "\n",
    "    def transform(self, X, y=None):\n",
    "        X = X.copy()\n",
    "        X['tip_cluster'] = self.kmeans.predict(X[['tip_amount']])\n",
    "        return X\n",
    "\n",
    "# Makes a new column called \"time_cluster\" based on estimates derived from the Elbow Method\n",
    "class TimeClusterTransformer(BaseEstimator, TransformerMixin):\n",
    "    def __init__(self, n_clusters=2, random_state=42):\n",
    "        self.n_clusters = n_clusters\n",
    "        self.random_state = random_state\n",
    "        self.kmeans = KMeans(n_clusters=self.n_clusters, random_state=self.random_state)\n",
    "\n",
    "    def fit(self, X, y=None):\n",
    "        self.kmeans.fit(X[['trip_duration']])\n",
    "        return self\n",
    "\n",
    "    def transform(self, X, y=None):\n",
    "        X = X.copy()\n",
    "        X['time_cluster'] = self.kmeans.predict(X[['trip_duration']])\n",
    "        return X\n",
    "\n",
    "preprocessor = ColumnTransformer(\n",
    "    transformers=[\n",
    "        ('imputer_encoder', Pipeline([\n",
    "            ('imputer', SimpleImputer(strategy='most_frequent')),\n",
    "            ('ordinal_encoder', OrdinalEncoder())\n",
    "        ]), ['store_and_fwd_flag']),\n",
    "        ('onehot', OneHotEncoder(sparse=False), ['payment_type']),\n",
    "        ('drop_tpep_pickup_datetime', 'drop', ['tpep_pickup_datetime']),\n",
    "        ('drop_tpep_dropoff_datetime', 'drop', ['tpep_dropoff_datetime']),\n",
    "        ('drop_PULocationID', 'drop', ['PULocationID']),\n",
    "        ('drop_DOLocationID', 'drop', ['DOLocationID'])\n",
    "    ],\n",
    "    remainder='passthrough'\n",
    ")\n",
    "\n",
    "\n",
    "# Full Pipeline for the Main Preprocessing (RandomForestRegressor)\n",
    "full_pipeline = Pipeline([\n",
    "    ('converter', converter_transformer),\n",
    "    ('tip_cluster', TipClusterTransformer(n_clusters=2, random_state=42)),\n",
    "    ('time_cluster', TimeClusterTransformer(n_clusters=2, random_state=42)),\n",
    "    ('preprocessor', preprocessor),\n",
    "    ('imputer', KNNImputer(n_neighbors=5)),\n",
    "    ('scaler', MinMaxScaler())\n",
    "])"
   ]
  },
  {
   "cell_type": "code",
   "execution_count": 8,
   "id": "eca55c1c",
   "metadata": {
    "execution": {
     "iopub.execute_input": "2023-12-15T06:34:08.483671Z",
     "iopub.status.busy": "2023-12-15T06:34:08.483235Z",
     "iopub.status.idle": "2023-12-15T06:37:14.985238Z",
     "shell.execute_reply": "2023-12-15T06:37:14.983617Z"
    },
    "papermill": {
     "duration": 186.536095,
     "end_time": "2023-12-15T06:37:14.988813",
     "exception": false,
     "start_time": "2023-12-15T06:34:08.452718",
     "status": "completed"
    },
    "tags": []
   },
   "outputs": [
    {
     "name": "stderr",
     "output_type": "stream",
     "text": [
      "/opt/conda/lib/python3.10/site-packages/sklearn/cluster/_kmeans.py:870: FutureWarning: The default value of `n_init` will change from 10 to 'auto' in 1.4. Set the value of `n_init` explicitly to suppress the warning\n",
      "  warnings.warn(\n",
      "/opt/conda/lib/python3.10/site-packages/sklearn/cluster/_kmeans.py:870: FutureWarning: The default value of `n_init` will change from 10 to 'auto' in 1.4. Set the value of `n_init` explicitly to suppress the warning\n",
      "  warnings.warn(\n",
      "/opt/conda/lib/python3.10/site-packages/sklearn/preprocessing/_encoders.py:868: FutureWarning: `sparse` was renamed to `sparse_output` in version 1.2 and will be removed in 1.4. `sparse_output` is ignored unless you leave `sparse` to its default value.\n",
      "  warnings.warn(\n"
     ]
    }
   ],
   "source": [
    "transformed_features = full_pipeline.fit_transform(features)"
   ]
  },
  {
   "cell_type": "code",
   "execution_count": 9,
   "id": "37bcd08d",
   "metadata": {
    "execution": {
     "iopub.execute_input": "2023-12-15T06:37:15.054276Z",
     "iopub.status.busy": "2023-12-15T06:37:15.053813Z",
     "iopub.status.idle": "2023-12-15T06:37:15.060691Z",
     "shell.execute_reply": "2023-12-15T06:37:15.059322Z"
    },
    "papermill": {
     "duration": 0.043738,
     "end_time": "2023-12-15T06:37:15.063578",
     "exception": false,
     "start_time": "2023-12-15T06:37:15.019840",
     "status": "completed"
    },
    "tags": []
   },
   "outputs": [],
   "source": [
    "from sklearn.model_selection import cross_val_score\n",
    "from sklearn.preprocessing import PolynomialFeatures, StandardScaler\n",
    "from sklearn.linear_model import LinearRegression\n",
    "from sklearn.pipeline import Pipeline\n",
    "from sklearn.model_selection import train_test_split\n",
    "from sklearn.linear_model import LinearRegression\n",
    "from sklearn.metrics import mean_squared_error, r2_score"
   ]
  },
  {
   "cell_type": "code",
   "execution_count": 10,
   "id": "f9cc8436",
   "metadata": {
    "execution": {
     "iopub.execute_input": "2023-12-15T06:37:15.125881Z",
     "iopub.status.busy": "2023-12-15T06:37:15.125418Z",
     "iopub.status.idle": "2023-12-15T06:37:15.193387Z",
     "shell.execute_reply": "2023-12-15T06:37:15.192225Z"
    },
    "papermill": {
     "duration": 0.101967,
     "end_time": "2023-12-15T06:37:15.195826",
     "exception": false,
     "start_time": "2023-12-15T06:37:15.093859",
     "status": "completed"
    },
    "tags": []
   },
   "outputs": [
    {
     "data": {
      "text/plain": [
       "(140000, 23)"
      ]
     },
     "execution_count": 10,
     "metadata": {},
     "output_type": "execute_result"
    }
   ],
   "source": [
    "X_train, X_test, y_train, y_test = train_test_split(transformed_features, target, test_size=0.2, random_state=42)\n",
    "X_train.shape"
   ]
  },
  {
   "cell_type": "code",
   "execution_count": 11,
   "id": "7050155d",
   "metadata": {
    "execution": {
     "iopub.execute_input": "2023-12-15T06:37:15.256757Z",
     "iopub.status.busy": "2023-12-15T06:37:15.256138Z",
     "iopub.status.idle": "2023-12-15T06:37:15.434429Z",
     "shell.execute_reply": "2023-12-15T06:37:15.432853Z"
    },
    "papermill": {
     "duration": 0.214031,
     "end_time": "2023-12-15T06:37:15.439073",
     "exception": false,
     "start_time": "2023-12-15T06:37:15.225042",
     "status": "completed"
    },
    "tags": []
   },
   "outputs": [
    {
     "data": {
      "text/html": [
       "<style>#sk-container-id-1 {color: black;background-color: white;}#sk-container-id-1 pre{padding: 0;}#sk-container-id-1 div.sk-toggleable {background-color: white;}#sk-container-id-1 label.sk-toggleable__label {cursor: pointer;display: block;width: 100%;margin-bottom: 0;padding: 0.3em;box-sizing: border-box;text-align: center;}#sk-container-id-1 label.sk-toggleable__label-arrow:before {content: \"▸\";float: left;margin-right: 0.25em;color: #696969;}#sk-container-id-1 label.sk-toggleable__label-arrow:hover:before {color: black;}#sk-container-id-1 div.sk-estimator:hover label.sk-toggleable__label-arrow:before {color: black;}#sk-container-id-1 div.sk-toggleable__content {max-height: 0;max-width: 0;overflow: hidden;text-align: left;background-color: #f0f8ff;}#sk-container-id-1 div.sk-toggleable__content pre {margin: 0.2em;color: black;border-radius: 0.25em;background-color: #f0f8ff;}#sk-container-id-1 input.sk-toggleable__control:checked~div.sk-toggleable__content {max-height: 200px;max-width: 100%;overflow: auto;}#sk-container-id-1 input.sk-toggleable__control:checked~label.sk-toggleable__label-arrow:before {content: \"▾\";}#sk-container-id-1 div.sk-estimator input.sk-toggleable__control:checked~label.sk-toggleable__label {background-color: #d4ebff;}#sk-container-id-1 div.sk-label input.sk-toggleable__control:checked~label.sk-toggleable__label {background-color: #d4ebff;}#sk-container-id-1 input.sk-hidden--visually {border: 0;clip: rect(1px 1px 1px 1px);clip: rect(1px, 1px, 1px, 1px);height: 1px;margin: -1px;overflow: hidden;padding: 0;position: absolute;width: 1px;}#sk-container-id-1 div.sk-estimator {font-family: monospace;background-color: #f0f8ff;border: 1px dotted black;border-radius: 0.25em;box-sizing: border-box;margin-bottom: 0.5em;}#sk-container-id-1 div.sk-estimator:hover {background-color: #d4ebff;}#sk-container-id-1 div.sk-parallel-item::after {content: \"\";width: 100%;border-bottom: 1px solid gray;flex-grow: 1;}#sk-container-id-1 div.sk-label:hover label.sk-toggleable__label {background-color: #d4ebff;}#sk-container-id-1 div.sk-serial::before {content: \"\";position: absolute;border-left: 1px solid gray;box-sizing: border-box;top: 0;bottom: 0;left: 50%;z-index: 0;}#sk-container-id-1 div.sk-serial {display: flex;flex-direction: column;align-items: center;background-color: white;padding-right: 0.2em;padding-left: 0.2em;position: relative;}#sk-container-id-1 div.sk-item {position: relative;z-index: 1;}#sk-container-id-1 div.sk-parallel {display: flex;align-items: stretch;justify-content: center;background-color: white;position: relative;}#sk-container-id-1 div.sk-item::before, #sk-container-id-1 div.sk-parallel-item::before {content: \"\";position: absolute;border-left: 1px solid gray;box-sizing: border-box;top: 0;bottom: 0;left: 50%;z-index: -1;}#sk-container-id-1 div.sk-parallel-item {display: flex;flex-direction: column;z-index: 1;position: relative;background-color: white;}#sk-container-id-1 div.sk-parallel-item:first-child::after {align-self: flex-end;width: 50%;}#sk-container-id-1 div.sk-parallel-item:last-child::after {align-self: flex-start;width: 50%;}#sk-container-id-1 div.sk-parallel-item:only-child::after {width: 0;}#sk-container-id-1 div.sk-dashed-wrapped {border: 1px dashed gray;margin: 0 0.4em 0.5em 0.4em;box-sizing: border-box;padding-bottom: 0.4em;background-color: white;}#sk-container-id-1 div.sk-label label {font-family: monospace;font-weight: bold;display: inline-block;line-height: 1.2em;}#sk-container-id-1 div.sk-label-container {text-align: center;}#sk-container-id-1 div.sk-container {/* jupyter's `normalize.less` sets `[hidden] { display: none; }` but bootstrap.min.css set `[hidden] { display: none !important; }` so we also need the `!important` here to be able to override the default hidden behavior on the sphinx rendered scikit-learn.org. See: https://github.com/scikit-learn/scikit-learn/issues/21755 */display: inline-block !important;position: relative;}#sk-container-id-1 div.sk-text-repr-fallback {display: none;}</style><div id=\"sk-container-id-1\" class=\"sk-top-container\"><div class=\"sk-text-repr-fallback\"><pre>LinearRegression()</pre><b>In a Jupyter environment, please rerun this cell to show the HTML representation or trust the notebook. <br />On GitHub, the HTML representation is unable to render, please try loading this page with nbviewer.org.</b></div><div class=\"sk-container\" hidden><div class=\"sk-item\"><div class=\"sk-estimator sk-toggleable\"><input class=\"sk-toggleable__control sk-hidden--visually\" id=\"sk-estimator-id-1\" type=\"checkbox\" checked><label for=\"sk-estimator-id-1\" class=\"sk-toggleable__label sk-toggleable__label-arrow\">LinearRegression</label><div class=\"sk-toggleable__content\"><pre>LinearRegression()</pre></div></div></div></div></div>"
      ],
      "text/plain": [
       "LinearRegression()"
      ]
     },
     "execution_count": 11,
     "metadata": {},
     "output_type": "execute_result"
    }
   ],
   "source": [
    "model = LinearRegression()\n",
    "model.fit(X_train, y_train)"
   ]
  },
  {
   "cell_type": "code",
   "execution_count": 12,
   "id": "6262b35c",
   "metadata": {
    "execution": {
     "iopub.execute_input": "2023-12-15T06:37:15.540853Z",
     "iopub.status.busy": "2023-12-15T06:37:15.540425Z",
     "iopub.status.idle": "2023-12-15T06:37:15.563353Z",
     "shell.execute_reply": "2023-12-15T06:37:15.561692Z"
    },
    "papermill": {
     "duration": 0.065575,
     "end_time": "2023-12-15T06:37:15.567903",
     "exception": false,
     "start_time": "2023-12-15T06:37:15.502328",
     "status": "completed"
    },
    "tags": []
   },
   "outputs": [
    {
     "name": "stdout",
     "output_type": "stream",
     "text": [
      "R^2 on training set: 0.7354880722067716\n",
      "R^2 on test set: 0.730049175183312\n"
     ]
    }
   ],
   "source": [
    "r2_train = model.score(X_train, y_train)\n",
    "\n",
    "r2_test = model.score(X_test, y_test)\n",
    "\n",
    "print(f\"R^2 on training set: {r2_train}\")\n",
    "print(f\"R^2 on test set: {r2_test}\")"
   ]
  },
  {
   "cell_type": "code",
   "execution_count": null,
   "id": "08fb22f7",
   "metadata": {
    "papermill": {
     "duration": 0.055099,
     "end_time": "2023-12-15T06:37:15.686644",
     "exception": false,
     "start_time": "2023-12-15T06:37:15.631545",
     "status": "completed"
    },
    "tags": []
   },
   "outputs": [],
   "source": []
  },
  {
   "cell_type": "markdown",
   "id": "fa2eab77",
   "metadata": {
    "papermill": {
     "duration": 0.030015,
     "end_time": "2023-12-15T06:37:15.749336",
     "exception": false,
     "start_time": "2023-12-15T06:37:15.719321",
     "status": "completed"
    },
    "tags": []
   },
   "source": [
    "### With Time and Tip Cluster \n",
    "* R^2 on training set: 0.7354880722067716\n",
    "* R^2 on test set: 0.730049175183312"
   ]
  },
  {
   "cell_type": "code",
   "execution_count": 13,
   "id": "62546103",
   "metadata": {
    "execution": {
     "iopub.execute_input": "2023-12-15T06:37:15.811419Z",
     "iopub.status.busy": "2023-12-15T06:37:15.811021Z",
     "iopub.status.idle": "2023-12-15T06:49:35.233774Z",
     "shell.execute_reply": "2023-12-15T06:49:35.232835Z"
    },
    "papermill": {
     "duration": 739.486115,
     "end_time": "2023-12-15T06:49:35.265684",
     "exception": false,
     "start_time": "2023-12-15T06:37:15.779569",
     "status": "completed"
    },
    "tags": []
   },
   "outputs": [
    {
     "data": {
      "text/html": [
       "<style>#sk-container-id-2 {color: black;background-color: white;}#sk-container-id-2 pre{padding: 0;}#sk-container-id-2 div.sk-toggleable {background-color: white;}#sk-container-id-2 label.sk-toggleable__label {cursor: pointer;display: block;width: 100%;margin-bottom: 0;padding: 0.3em;box-sizing: border-box;text-align: center;}#sk-container-id-2 label.sk-toggleable__label-arrow:before {content: \"▸\";float: left;margin-right: 0.25em;color: #696969;}#sk-container-id-2 label.sk-toggleable__label-arrow:hover:before {color: black;}#sk-container-id-2 div.sk-estimator:hover label.sk-toggleable__label-arrow:before {color: black;}#sk-container-id-2 div.sk-toggleable__content {max-height: 0;max-width: 0;overflow: hidden;text-align: left;background-color: #f0f8ff;}#sk-container-id-2 div.sk-toggleable__content pre {margin: 0.2em;color: black;border-radius: 0.25em;background-color: #f0f8ff;}#sk-container-id-2 input.sk-toggleable__control:checked~div.sk-toggleable__content {max-height: 200px;max-width: 100%;overflow: auto;}#sk-container-id-2 input.sk-toggleable__control:checked~label.sk-toggleable__label-arrow:before {content: \"▾\";}#sk-container-id-2 div.sk-estimator input.sk-toggleable__control:checked~label.sk-toggleable__label {background-color: #d4ebff;}#sk-container-id-2 div.sk-label input.sk-toggleable__control:checked~label.sk-toggleable__label {background-color: #d4ebff;}#sk-container-id-2 input.sk-hidden--visually {border: 0;clip: rect(1px 1px 1px 1px);clip: rect(1px, 1px, 1px, 1px);height: 1px;margin: -1px;overflow: hidden;padding: 0;position: absolute;width: 1px;}#sk-container-id-2 div.sk-estimator {font-family: monospace;background-color: #f0f8ff;border: 1px dotted black;border-radius: 0.25em;box-sizing: border-box;margin-bottom: 0.5em;}#sk-container-id-2 div.sk-estimator:hover {background-color: #d4ebff;}#sk-container-id-2 div.sk-parallel-item::after {content: \"\";width: 100%;border-bottom: 1px solid gray;flex-grow: 1;}#sk-container-id-2 div.sk-label:hover label.sk-toggleable__label {background-color: #d4ebff;}#sk-container-id-2 div.sk-serial::before {content: \"\";position: absolute;border-left: 1px solid gray;box-sizing: border-box;top: 0;bottom: 0;left: 50%;z-index: 0;}#sk-container-id-2 div.sk-serial {display: flex;flex-direction: column;align-items: center;background-color: white;padding-right: 0.2em;padding-left: 0.2em;position: relative;}#sk-container-id-2 div.sk-item {position: relative;z-index: 1;}#sk-container-id-2 div.sk-parallel {display: flex;align-items: stretch;justify-content: center;background-color: white;position: relative;}#sk-container-id-2 div.sk-item::before, #sk-container-id-2 div.sk-parallel-item::before {content: \"\";position: absolute;border-left: 1px solid gray;box-sizing: border-box;top: 0;bottom: 0;left: 50%;z-index: -1;}#sk-container-id-2 div.sk-parallel-item {display: flex;flex-direction: column;z-index: 1;position: relative;background-color: white;}#sk-container-id-2 div.sk-parallel-item:first-child::after {align-self: flex-end;width: 50%;}#sk-container-id-2 div.sk-parallel-item:last-child::after {align-self: flex-start;width: 50%;}#sk-container-id-2 div.sk-parallel-item:only-child::after {width: 0;}#sk-container-id-2 div.sk-dashed-wrapped {border: 1px dashed gray;margin: 0 0.4em 0.5em 0.4em;box-sizing: border-box;padding-bottom: 0.4em;background-color: white;}#sk-container-id-2 div.sk-label label {font-family: monospace;font-weight: bold;display: inline-block;line-height: 1.2em;}#sk-container-id-2 div.sk-label-container {text-align: center;}#sk-container-id-2 div.sk-container {/* jupyter's `normalize.less` sets `[hidden] { display: none; }` but bootstrap.min.css set `[hidden] { display: none !important; }` so we also need the `!important` here to be able to override the default hidden behavior on the sphinx rendered scikit-learn.org. See: https://github.com/scikit-learn/scikit-learn/issues/21755 */display: inline-block !important;position: relative;}#sk-container-id-2 div.sk-text-repr-fallback {display: none;}</style><div id=\"sk-container-id-2\" class=\"sk-top-container\"><div class=\"sk-text-repr-fallback\"><pre>RandomForestRegressor(n_estimators=400, random_state=42)</pre><b>In a Jupyter environment, please rerun this cell to show the HTML representation or trust the notebook. <br />On GitHub, the HTML representation is unable to render, please try loading this page with nbviewer.org.</b></div><div class=\"sk-container\" hidden><div class=\"sk-item\"><div class=\"sk-estimator sk-toggleable\"><input class=\"sk-toggleable__control sk-hidden--visually\" id=\"sk-estimator-id-2\" type=\"checkbox\" checked><label for=\"sk-estimator-id-2\" class=\"sk-toggleable__label sk-toggleable__label-arrow\">RandomForestRegressor</label><div class=\"sk-toggleable__content\"><pre>RandomForestRegressor(n_estimators=400, random_state=42)</pre></div></div></div></div></div>"
      ],
      "text/plain": [
       "RandomForestRegressor(n_estimators=400, random_state=42)"
      ]
     },
     "execution_count": 13,
     "metadata": {},
     "output_type": "execute_result"
    }
   ],
   "source": [
    "from sklearn.ensemble import RandomForestRegressor\n",
    "from sklearn.model_selection import cross_val_score\n",
    "from sklearn.metrics import mean_squared_error\n",
    "import numpy as np\n",
    "from sklearn.ensemble import RandomForestRegressor\n",
    "from sklearn.model_selection import cross_val_score\n",
    "\n",
    "rf_regressor_1 = RandomForestRegressor(random_state=42, n_estimators = 400)\n",
    "\n",
    "#cv_scores = cross_val_score(rf_regressor_1, transformed_features, target, cv=5, scoring='r2')\n",
    "rf_regressor_1.fit(transformed_features, target)"
   ]
  },
  {
   "cell_type": "code",
   "execution_count": 14,
   "id": "b953df0e",
   "metadata": {
    "execution": {
     "iopub.execute_input": "2023-12-15T06:49:35.328096Z",
     "iopub.status.busy": "2023-12-15T06:49:35.327372Z",
     "iopub.status.idle": "2023-12-15T06:50:16.015735Z",
     "shell.execute_reply": "2023-12-15T06:50:16.014564Z"
    },
    "papermill": {
     "duration": 40.751841,
     "end_time": "2023-12-15T06:50:16.047973",
     "exception": false,
     "start_time": "2023-12-15T06:49:35.296132",
     "status": "completed"
    },
    "tags": []
   },
   "outputs": [
    {
     "name": "stdout",
     "output_type": "stream",
     "text": [
      "R^2 on training set: 0.9919019294874483\n",
      "R^2 on test set: 0.9949019775380824\n"
     ]
    }
   ],
   "source": [
    "r2_train = rf_regressor_1.score(X_train, y_train)\n",
    "\n",
    "r2_test = rf_regressor_1.score(X_test, y_test)\n",
    "\n",
    "print(f\"R^2 on training set: {r2_train}\")\n",
    "print(f\"R^2 on test set: {r2_test}\")"
   ]
  },
  {
   "cell_type": "markdown",
   "id": "9e2854a8",
   "metadata": {
    "papermill": {
     "duration": 0.02974,
     "end_time": "2023-12-15T06:50:16.108072",
     "exception": false,
     "start_time": "2023-12-15T06:50:16.078332",
     "status": "completed"
    },
    "tags": []
   },
   "source": [
    "* R^2 on training set: 0.9920516629643522\n",
    "* R^2 on test set: 0.9616157379799184"
   ]
  },
  {
   "cell_type": "code",
   "execution_count": 15,
   "id": "0a773330",
   "metadata": {
    "execution": {
     "iopub.execute_input": "2023-12-15T06:50:16.172165Z",
     "iopub.status.busy": "2023-12-15T06:50:16.171512Z",
     "iopub.status.idle": "2023-12-15T06:50:16.176128Z",
     "shell.execute_reply": "2023-12-15T06:50:16.175261Z"
    },
    "papermill": {
     "duration": 0.039981,
     "end_time": "2023-12-15T06:50:16.178403",
     "exception": false,
     "start_time": "2023-12-15T06:50:16.138422",
     "status": "completed"
    },
    "tags": []
   },
   "outputs": [],
   "source": [
    "#rf_regressor_1.fit(transformed_features, target)"
   ]
  },
  {
   "cell_type": "code",
   "execution_count": 16,
   "id": "aeea4fa4",
   "metadata": {
    "execution": {
     "iopub.execute_input": "2023-12-15T06:50:16.241118Z",
     "iopub.status.busy": "2023-12-15T06:50:16.240449Z",
     "iopub.status.idle": "2023-12-15T06:50:19.367784Z",
     "shell.execute_reply": "2023-12-15T06:50:19.366698Z"
    },
    "papermill": {
     "duration": 3.162055,
     "end_time": "2023-12-15T06:50:19.370716",
     "exception": false,
     "start_time": "2023-12-15T06:50:16.208661",
     "status": "completed"
    },
    "tags": []
   },
   "outputs": [
    {
     "name": "stderr",
     "output_type": "stream",
     "text": [
      "/opt/conda/lib/python3.10/site-packages/sklearn/experimental/enable_hist_gradient_boosting.py:16: UserWarning: Since version 1.0, it is not needed to import enable_hist_gradient_boosting anymore. HistGradientBoostingClassifier and HistGradientBoostingRegressor are now stable and can be normally imported from sklearn.ensemble.\n",
      "  warnings.warn(\n"
     ]
    },
    {
     "name": "stdout",
     "output_type": "stream",
     "text": [
      "R-squared (R2): 0.9420407626012233\n"
     ]
    }
   ],
   "source": [
    "from sklearn.experimental import enable_hist_gradient_boosting\n",
    "from sklearn.ensemble import HistGradientBoostingRegressor\n",
    "from sklearn.model_selection import train_test_split\n",
    "from sklearn.datasets import make_regression\n",
    "from sklearn.metrics import r2_score\n",
    "\n",
    "regressor = HistGradientBoostingRegressor(\n",
    "    random_state=42,\n",
    "    learning_rate=0.1105358046457723,\n",
    "    max_iter=665,\n",
    "    max_leaf_nodes=42,\n",
    "    min_samples_leaf=24\n",
    ")\n",
    "\n",
    "regressor.fit(X_train, y_train)\n",
    "\n",
    "y_pred = regressor.predict(X_test)\n",
    "\n",
    "r2 = r2_score(y_test, y_pred)\n",
    "\n",
    "print(f\"R-squared (R2): {r2}\")"
   ]
  },
  {
   "cell_type": "markdown",
   "id": "8f3c41ca",
   "metadata": {
    "papermill": {
     "duration": 0.030012,
     "end_time": "2023-12-15T06:50:19.431965",
     "exception": false,
     "start_time": "2023-12-15T06:50:19.401953",
     "status": "completed"
    },
    "tags": []
   },
   "source": [
    "### Preprocessing Broken Down"
   ]
  },
  {
   "cell_type": "code",
   "execution_count": 17,
   "id": "1e8c6ba3",
   "metadata": {
    "execution": {
     "iopub.execute_input": "2023-12-15T06:50:19.497913Z",
     "iopub.status.busy": "2023-12-15T06:50:19.496645Z",
     "iopub.status.idle": "2023-12-15T06:50:19.545045Z",
     "shell.execute_reply": "2023-12-15T06:50:19.543479Z"
    },
    "papermill": {
     "duration": 0.084494,
     "end_time": "2023-12-15T06:50:19.548422",
     "exception": false,
     "start_time": "2023-12-15T06:50:19.463928",
     "status": "completed"
    },
    "tags": []
   },
   "outputs": [
    {
     "data": {
      "text/html": [
       "<div>\n",
       "<style scoped>\n",
       "    .dataframe tbody tr th:only-of-type {\n",
       "        vertical-align: middle;\n",
       "    }\n",
       "\n",
       "    .dataframe tbody tr th {\n",
       "        vertical-align: top;\n",
       "    }\n",
       "\n",
       "    .dataframe thead th {\n",
       "        text-align: right;\n",
       "    }\n",
       "</style>\n",
       "<table border=\"1\" class=\"dataframe\">\n",
       "  <thead>\n",
       "    <tr style=\"text-align: right;\">\n",
       "      <th></th>\n",
       "      <th>VendorID</th>\n",
       "      <th>tpep_pickup_datetime</th>\n",
       "      <th>tpep_dropoff_datetime</th>\n",
       "      <th>passenger_count</th>\n",
       "      <th>trip_distance</th>\n",
       "      <th>RatecodeID</th>\n",
       "      <th>store_and_fwd_flag</th>\n",
       "      <th>PULocationID</th>\n",
       "      <th>DOLocationID</th>\n",
       "      <th>payment_type</th>\n",
       "      <th>extra</th>\n",
       "      <th>tip_amount</th>\n",
       "      <th>tolls_amount</th>\n",
       "      <th>improvement_surcharge</th>\n",
       "      <th>total_amount</th>\n",
       "      <th>congestion_surcharge</th>\n",
       "      <th>Airport_fee</th>\n",
       "    </tr>\n",
       "  </thead>\n",
       "  <tbody>\n",
       "    <tr>\n",
       "      <th>0</th>\n",
       "      <td>1</td>\n",
       "      <td>2023-06-28 17:20:21</td>\n",
       "      <td>2023-06-28 16:34:45</td>\n",
       "      <td>1.0</td>\n",
       "      <td>2.14</td>\n",
       "      <td>1.0</td>\n",
       "      <td>N</td>\n",
       "      <td>120</td>\n",
       "      <td>9</td>\n",
       "      <td>Credit Card</td>\n",
       "      <td>2.5</td>\n",
       "      <td>7.165589</td>\n",
       "      <td>0.0</td>\n",
       "      <td>1.0</td>\n",
       "      <td>20.64</td>\n",
       "      <td>2.5</td>\n",
       "      <td>0.00</td>\n",
       "    </tr>\n",
       "    <tr>\n",
       "      <th>1</th>\n",
       "      <td>0</td>\n",
       "      <td>2023-06-29 23:05:01</td>\n",
       "      <td>2023-06-29 22:01:35</td>\n",
       "      <td>1.0</td>\n",
       "      <td>2.70</td>\n",
       "      <td>1.0</td>\n",
       "      <td>N</td>\n",
       "      <td>15</td>\n",
       "      <td>215</td>\n",
       "      <td>Credit Card</td>\n",
       "      <td>3.5</td>\n",
       "      <td>6.067401</td>\n",
       "      <td>0.0</td>\n",
       "      <td>1.0</td>\n",
       "      <td>25.55</td>\n",
       "      <td>2.5</td>\n",
       "      <td>0.00</td>\n",
       "    </tr>\n",
       "    <tr>\n",
       "      <th>2</th>\n",
       "      <td>1</td>\n",
       "      <td>2023-06-30 10:19:31</td>\n",
       "      <td>2023-06-30 11:13:10</td>\n",
       "      <td>1.0</td>\n",
       "      <td>1.15</td>\n",
       "      <td>1.0</td>\n",
       "      <td>N</td>\n",
       "      <td>167</td>\n",
       "      <td>223</td>\n",
       "      <td>Credit Card</td>\n",
       "      <td>0.0</td>\n",
       "      <td>4.111547</td>\n",
       "      <td>0.0</td>\n",
       "      <td>1.0</td>\n",
       "      <td>17.64</td>\n",
       "      <td>2.5</td>\n",
       "      <td>0.00</td>\n",
       "    </tr>\n",
       "    <tr>\n",
       "      <th>3</th>\n",
       "      <td>0</td>\n",
       "      <td>2023-06-29 13:23:09</td>\n",
       "      <td>2023-06-29 14:20:01</td>\n",
       "      <td>1.0</td>\n",
       "      <td>0.40</td>\n",
       "      <td>1.0</td>\n",
       "      <td>N</td>\n",
       "      <td>128</td>\n",
       "      <td>239</td>\n",
       "      <td>Credit Card</td>\n",
       "      <td>2.5</td>\n",
       "      <td>6.411079</td>\n",
       "      <td>0.0</td>\n",
       "      <td>1.0</td>\n",
       "      <td>12.80</td>\n",
       "      <td>2.5</td>\n",
       "      <td>0.00</td>\n",
       "    </tr>\n",
       "    <tr>\n",
       "      <th>4</th>\n",
       "      <td>1</td>\n",
       "      <td>2023-06-29 22:03:32</td>\n",
       "      <td>2023-06-29 22:22:22</td>\n",
       "      <td>3.0</td>\n",
       "      <td>1.10</td>\n",
       "      <td>1.0</td>\n",
       "      <td>N</td>\n",
       "      <td>203</td>\n",
       "      <td>52</td>\n",
       "      <td>Credit Card</td>\n",
       "      <td>1.0</td>\n",
       "      <td>4.769377</td>\n",
       "      <td>0.0</td>\n",
       "      <td>1.0</td>\n",
       "      <td>18.00</td>\n",
       "      <td>2.5</td>\n",
       "      <td>0.00</td>\n",
       "    </tr>\n",
       "    <tr>\n",
       "      <th>...</th>\n",
       "      <td>...</td>\n",
       "      <td>...</td>\n",
       "      <td>...</td>\n",
       "      <td>...</td>\n",
       "      <td>...</td>\n",
       "      <td>...</td>\n",
       "      <td>...</td>\n",
       "      <td>...</td>\n",
       "      <td>...</td>\n",
       "      <td>...</td>\n",
       "      <td>...</td>\n",
       "      <td>...</td>\n",
       "      <td>...</td>\n",
       "      <td>...</td>\n",
       "      <td>...</td>\n",
       "      <td>...</td>\n",
       "      <td>...</td>\n",
       "    </tr>\n",
       "    <tr>\n",
       "      <th>174995</th>\n",
       "      <td>1</td>\n",
       "      <td>2023-06-30 22:50:57</td>\n",
       "      <td>2023-06-30 22:22:22</td>\n",
       "      <td>3.0</td>\n",
       "      <td>3.45</td>\n",
       "      <td>1.0</td>\n",
       "      <td>N</td>\n",
       "      <td>147</td>\n",
       "      <td>167</td>\n",
       "      <td>Credit Card</td>\n",
       "      <td>1.0</td>\n",
       "      <td>8.732495</td>\n",
       "      <td>0.0</td>\n",
       "      <td>1.0</td>\n",
       "      <td>28.08</td>\n",
       "      <td>2.5</td>\n",
       "      <td>0.00</td>\n",
       "    </tr>\n",
       "    <tr>\n",
       "      <th>174996</th>\n",
       "      <td>1</td>\n",
       "      <td>2023-06-30 13:03:33</td>\n",
       "      <td>2023-06-30 14:04:57</td>\n",
       "      <td>1.0</td>\n",
       "      <td>9.44</td>\n",
       "      <td>1.0</td>\n",
       "      <td>N</td>\n",
       "      <td>154</td>\n",
       "      <td>191</td>\n",
       "      <td>Cash</td>\n",
       "      <td>5.0</td>\n",
       "      <td>0.283275</td>\n",
       "      <td>0.0</td>\n",
       "      <td>1.0</td>\n",
       "      <td>59.95</td>\n",
       "      <td>2.5</td>\n",
       "      <td>1.75</td>\n",
       "    </tr>\n",
       "    <tr>\n",
       "      <th>174997</th>\n",
       "      <td>0</td>\n",
       "      <td>2023-06-29 11:03:32</td>\n",
       "      <td>2023-06-29 12:13:34</td>\n",
       "      <td>1.0</td>\n",
       "      <td>2.40</td>\n",
       "      <td>1.0</td>\n",
       "      <td>N</td>\n",
       "      <td>168</td>\n",
       "      <td>106</td>\n",
       "      <td>Credit Card</td>\n",
       "      <td>2.5</td>\n",
       "      <td>4.245354</td>\n",
       "      <td>0.0</td>\n",
       "      <td>1.0</td>\n",
       "      <td>33.50</td>\n",
       "      <td>2.5</td>\n",
       "      <td>0.00</td>\n",
       "    </tr>\n",
       "    <tr>\n",
       "      <th>174998</th>\n",
       "      <td>1</td>\n",
       "      <td>2023-06-29 19:47:17</td>\n",
       "      <td>2023-06-29 19:08:55</td>\n",
       "      <td>1.0</td>\n",
       "      <td>4.71</td>\n",
       "      <td>1.0</td>\n",
       "      <td>N</td>\n",
       "      <td>240</td>\n",
       "      <td>100</td>\n",
       "      <td>Credit Card</td>\n",
       "      <td>2.5</td>\n",
       "      <td>10.479776</td>\n",
       "      <td>0.0</td>\n",
       "      <td>1.0</td>\n",
       "      <td>40.80</td>\n",
       "      <td>2.5</td>\n",
       "      <td>0.00</td>\n",
       "    </tr>\n",
       "    <tr>\n",
       "      <th>174999</th>\n",
       "      <td>1</td>\n",
       "      <td>2023-06-30 21:26:43</td>\n",
       "      <td>2023-06-30 22:54:42</td>\n",
       "      <td>1.0</td>\n",
       "      <td>1.01</td>\n",
       "      <td>1.0</td>\n",
       "      <td>N</td>\n",
       "      <td>153</td>\n",
       "      <td>72</td>\n",
       "      <td>Credit Card</td>\n",
       "      <td>1.0</td>\n",
       "      <td>6.541699</td>\n",
       "      <td>0.0</td>\n",
       "      <td>1.0</td>\n",
       "      <td>16.32</td>\n",
       "      <td>2.5</td>\n",
       "      <td>0.00</td>\n",
       "    </tr>\n",
       "  </tbody>\n",
       "</table>\n",
       "<p>175000 rows × 17 columns</p>\n",
       "</div>"
      ],
      "text/plain": [
       "        VendorID tpep_pickup_datetime tpep_dropoff_datetime  passenger_count  \\\n",
       "0              1  2023-06-28 17:20:21   2023-06-28 16:34:45              1.0   \n",
       "1              0  2023-06-29 23:05:01   2023-06-29 22:01:35              1.0   \n",
       "2              1  2023-06-30 10:19:31   2023-06-30 11:13:10              1.0   \n",
       "3              0  2023-06-29 13:23:09   2023-06-29 14:20:01              1.0   \n",
       "4              1  2023-06-29 22:03:32   2023-06-29 22:22:22              3.0   \n",
       "...          ...                  ...                   ...              ...   \n",
       "174995         1  2023-06-30 22:50:57   2023-06-30 22:22:22              3.0   \n",
       "174996         1  2023-06-30 13:03:33   2023-06-30 14:04:57              1.0   \n",
       "174997         0  2023-06-29 11:03:32   2023-06-29 12:13:34              1.0   \n",
       "174998         1  2023-06-29 19:47:17   2023-06-29 19:08:55              1.0   \n",
       "174999         1  2023-06-30 21:26:43   2023-06-30 22:54:42              1.0   \n",
       "\n",
       "        trip_distance  RatecodeID store_and_fwd_flag  PULocationID  \\\n",
       "0                2.14         1.0                  N           120   \n",
       "1                2.70         1.0                  N            15   \n",
       "2                1.15         1.0                  N           167   \n",
       "3                0.40         1.0                  N           128   \n",
       "4                1.10         1.0                  N           203   \n",
       "...               ...         ...                ...           ...   \n",
       "174995           3.45         1.0                  N           147   \n",
       "174996           9.44         1.0                  N           154   \n",
       "174997           2.40         1.0                  N           168   \n",
       "174998           4.71         1.0                  N           240   \n",
       "174999           1.01         1.0                  N           153   \n",
       "\n",
       "        DOLocationID payment_type  extra  tip_amount  tolls_amount  \\\n",
       "0                  9  Credit Card    2.5    7.165589           0.0   \n",
       "1                215  Credit Card    3.5    6.067401           0.0   \n",
       "2                223  Credit Card    0.0    4.111547           0.0   \n",
       "3                239  Credit Card    2.5    6.411079           0.0   \n",
       "4                 52  Credit Card    1.0    4.769377           0.0   \n",
       "...              ...          ...    ...         ...           ...   \n",
       "174995           167  Credit Card    1.0    8.732495           0.0   \n",
       "174996           191         Cash    5.0    0.283275           0.0   \n",
       "174997           106  Credit Card    2.5    4.245354           0.0   \n",
       "174998           100  Credit Card    2.5   10.479776           0.0   \n",
       "174999            72  Credit Card    1.0    6.541699           0.0   \n",
       "\n",
       "        improvement_surcharge  total_amount  congestion_surcharge  Airport_fee  \n",
       "0                         1.0         20.64                   2.5         0.00  \n",
       "1                         1.0         25.55                   2.5         0.00  \n",
       "2                         1.0         17.64                   2.5         0.00  \n",
       "3                         1.0         12.80                   2.5         0.00  \n",
       "4                         1.0         18.00                   2.5         0.00  \n",
       "...                       ...           ...                   ...          ...  \n",
       "174995                    1.0         28.08                   2.5         0.00  \n",
       "174996                    1.0         59.95                   2.5         1.75  \n",
       "174997                    1.0         33.50                   2.5         0.00  \n",
       "174998                    1.0         40.80                   2.5         0.00  \n",
       "174999                    1.0         16.32                   2.5         0.00  \n",
       "\n",
       "[175000 rows x 17 columns]"
      ]
     },
     "execution_count": 17,
     "metadata": {},
     "output_type": "execute_result"
    }
   ],
   "source": [
    "combined_data = data.copy()\n",
    "combined_data"
   ]
  },
  {
   "cell_type": "code",
   "execution_count": 18,
   "id": "5d7ddd4a",
   "metadata": {
    "execution": {
     "iopub.execute_input": "2023-12-15T06:50:19.613873Z",
     "iopub.status.busy": "2023-12-15T06:50:19.613413Z",
     "iopub.status.idle": "2023-12-15T06:50:19.791241Z",
     "shell.execute_reply": "2023-12-15T06:50:19.789933Z"
    },
    "papermill": {
     "duration": 0.213425,
     "end_time": "2023-12-15T06:50:19.793972",
     "exception": false,
     "start_time": "2023-12-15T06:50:19.580547",
     "status": "completed"
    },
    "tags": []
   },
   "outputs": [
    {
     "data": {
      "text/html": [
       "<div>\n",
       "<style scoped>\n",
       "    .dataframe tbody tr th:only-of-type {\n",
       "        vertical-align: middle;\n",
       "    }\n",
       "\n",
       "    .dataframe tbody tr th {\n",
       "        vertical-align: top;\n",
       "    }\n",
       "\n",
       "    .dataframe thead th {\n",
       "        text-align: right;\n",
       "    }\n",
       "</style>\n",
       "<table border=\"1\" class=\"dataframe\">\n",
       "  <thead>\n",
       "    <tr style=\"text-align: right;\">\n",
       "      <th></th>\n",
       "      <th>VendorID</th>\n",
       "      <th>tpep_pickup_datetime</th>\n",
       "      <th>tpep_dropoff_datetime</th>\n",
       "      <th>passenger_count</th>\n",
       "      <th>trip_distance</th>\n",
       "      <th>RatecodeID</th>\n",
       "      <th>store_and_fwd_flag</th>\n",
       "      <th>PULocationID</th>\n",
       "      <th>DOLocationID</th>\n",
       "      <th>payment_type</th>\n",
       "      <th>extra</th>\n",
       "      <th>tip_amount</th>\n",
       "      <th>tolls_amount</th>\n",
       "      <th>improvement_surcharge</th>\n",
       "      <th>total_amount</th>\n",
       "      <th>congestion_surcharge</th>\n",
       "      <th>Airport_fee</th>\n",
       "    </tr>\n",
       "  </thead>\n",
       "  <tbody>\n",
       "    <tr>\n",
       "      <th>0</th>\n",
       "      <td>1</td>\n",
       "      <td>2023-06-28 17:20:21</td>\n",
       "      <td>2023-06-28 16:34:45</td>\n",
       "      <td>1.0</td>\n",
       "      <td>2.14</td>\n",
       "      <td>1.0</td>\n",
       "      <td>N</td>\n",
       "      <td>120</td>\n",
       "      <td>9</td>\n",
       "      <td>Credit Card</td>\n",
       "      <td>2.5</td>\n",
       "      <td>7.165589</td>\n",
       "      <td>0.0</td>\n",
       "      <td>1.0</td>\n",
       "      <td>20.64</td>\n",
       "      <td>2.5</td>\n",
       "      <td>0.00</td>\n",
       "    </tr>\n",
       "    <tr>\n",
       "      <th>1</th>\n",
       "      <td>0</td>\n",
       "      <td>2023-06-29 23:05:01</td>\n",
       "      <td>2023-06-29 22:01:35</td>\n",
       "      <td>1.0</td>\n",
       "      <td>2.70</td>\n",
       "      <td>1.0</td>\n",
       "      <td>N</td>\n",
       "      <td>15</td>\n",
       "      <td>215</td>\n",
       "      <td>Credit Card</td>\n",
       "      <td>3.5</td>\n",
       "      <td>6.067401</td>\n",
       "      <td>0.0</td>\n",
       "      <td>1.0</td>\n",
       "      <td>25.55</td>\n",
       "      <td>2.5</td>\n",
       "      <td>0.00</td>\n",
       "    </tr>\n",
       "    <tr>\n",
       "      <th>2</th>\n",
       "      <td>1</td>\n",
       "      <td>2023-06-30 10:19:31</td>\n",
       "      <td>2023-06-30 11:13:10</td>\n",
       "      <td>1.0</td>\n",
       "      <td>1.15</td>\n",
       "      <td>1.0</td>\n",
       "      <td>N</td>\n",
       "      <td>167</td>\n",
       "      <td>223</td>\n",
       "      <td>Credit Card</td>\n",
       "      <td>0.0</td>\n",
       "      <td>4.111547</td>\n",
       "      <td>0.0</td>\n",
       "      <td>1.0</td>\n",
       "      <td>17.64</td>\n",
       "      <td>2.5</td>\n",
       "      <td>0.00</td>\n",
       "    </tr>\n",
       "    <tr>\n",
       "      <th>3</th>\n",
       "      <td>0</td>\n",
       "      <td>2023-06-29 13:23:09</td>\n",
       "      <td>2023-06-29 14:20:01</td>\n",
       "      <td>1.0</td>\n",
       "      <td>0.40</td>\n",
       "      <td>1.0</td>\n",
       "      <td>N</td>\n",
       "      <td>128</td>\n",
       "      <td>239</td>\n",
       "      <td>Credit Card</td>\n",
       "      <td>2.5</td>\n",
       "      <td>6.411079</td>\n",
       "      <td>0.0</td>\n",
       "      <td>1.0</td>\n",
       "      <td>12.80</td>\n",
       "      <td>2.5</td>\n",
       "      <td>0.00</td>\n",
       "    </tr>\n",
       "    <tr>\n",
       "      <th>4</th>\n",
       "      <td>1</td>\n",
       "      <td>2023-06-29 22:03:32</td>\n",
       "      <td>2023-06-29 22:22:22</td>\n",
       "      <td>3.0</td>\n",
       "      <td>1.10</td>\n",
       "      <td>1.0</td>\n",
       "      <td>N</td>\n",
       "      <td>203</td>\n",
       "      <td>52</td>\n",
       "      <td>Credit Card</td>\n",
       "      <td>1.0</td>\n",
       "      <td>4.769377</td>\n",
       "      <td>0.0</td>\n",
       "      <td>1.0</td>\n",
       "      <td>18.00</td>\n",
       "      <td>2.5</td>\n",
       "      <td>0.00</td>\n",
       "    </tr>\n",
       "    <tr>\n",
       "      <th>...</th>\n",
       "      <td>...</td>\n",
       "      <td>...</td>\n",
       "      <td>...</td>\n",
       "      <td>...</td>\n",
       "      <td>...</td>\n",
       "      <td>...</td>\n",
       "      <td>...</td>\n",
       "      <td>...</td>\n",
       "      <td>...</td>\n",
       "      <td>...</td>\n",
       "      <td>...</td>\n",
       "      <td>...</td>\n",
       "      <td>...</td>\n",
       "      <td>...</td>\n",
       "      <td>...</td>\n",
       "      <td>...</td>\n",
       "      <td>...</td>\n",
       "    </tr>\n",
       "    <tr>\n",
       "      <th>174995</th>\n",
       "      <td>1</td>\n",
       "      <td>2023-06-30 22:50:57</td>\n",
       "      <td>2023-06-30 22:22:22</td>\n",
       "      <td>3.0</td>\n",
       "      <td>3.45</td>\n",
       "      <td>1.0</td>\n",
       "      <td>N</td>\n",
       "      <td>147</td>\n",
       "      <td>167</td>\n",
       "      <td>Credit Card</td>\n",
       "      <td>1.0</td>\n",
       "      <td>8.732495</td>\n",
       "      <td>0.0</td>\n",
       "      <td>1.0</td>\n",
       "      <td>28.08</td>\n",
       "      <td>2.5</td>\n",
       "      <td>0.00</td>\n",
       "    </tr>\n",
       "    <tr>\n",
       "      <th>174996</th>\n",
       "      <td>1</td>\n",
       "      <td>2023-06-30 13:03:33</td>\n",
       "      <td>2023-06-30 14:04:57</td>\n",
       "      <td>1.0</td>\n",
       "      <td>9.44</td>\n",
       "      <td>1.0</td>\n",
       "      <td>N</td>\n",
       "      <td>154</td>\n",
       "      <td>191</td>\n",
       "      <td>Cash</td>\n",
       "      <td>5.0</td>\n",
       "      <td>0.283275</td>\n",
       "      <td>0.0</td>\n",
       "      <td>1.0</td>\n",
       "      <td>59.95</td>\n",
       "      <td>2.5</td>\n",
       "      <td>1.75</td>\n",
       "    </tr>\n",
       "    <tr>\n",
       "      <th>174997</th>\n",
       "      <td>0</td>\n",
       "      <td>2023-06-29 11:03:32</td>\n",
       "      <td>2023-06-29 12:13:34</td>\n",
       "      <td>1.0</td>\n",
       "      <td>2.40</td>\n",
       "      <td>1.0</td>\n",
       "      <td>N</td>\n",
       "      <td>168</td>\n",
       "      <td>106</td>\n",
       "      <td>Credit Card</td>\n",
       "      <td>2.5</td>\n",
       "      <td>4.245354</td>\n",
       "      <td>0.0</td>\n",
       "      <td>1.0</td>\n",
       "      <td>33.50</td>\n",
       "      <td>2.5</td>\n",
       "      <td>0.00</td>\n",
       "    </tr>\n",
       "    <tr>\n",
       "      <th>174998</th>\n",
       "      <td>1</td>\n",
       "      <td>2023-06-29 19:47:17</td>\n",
       "      <td>2023-06-29 19:08:55</td>\n",
       "      <td>1.0</td>\n",
       "      <td>4.71</td>\n",
       "      <td>1.0</td>\n",
       "      <td>N</td>\n",
       "      <td>240</td>\n",
       "      <td>100</td>\n",
       "      <td>Credit Card</td>\n",
       "      <td>2.5</td>\n",
       "      <td>10.479776</td>\n",
       "      <td>0.0</td>\n",
       "      <td>1.0</td>\n",
       "      <td>40.80</td>\n",
       "      <td>2.5</td>\n",
       "      <td>0.00</td>\n",
       "    </tr>\n",
       "    <tr>\n",
       "      <th>174999</th>\n",
       "      <td>1</td>\n",
       "      <td>2023-06-30 21:26:43</td>\n",
       "      <td>2023-06-30 22:54:42</td>\n",
       "      <td>1.0</td>\n",
       "      <td>1.01</td>\n",
       "      <td>1.0</td>\n",
       "      <td>N</td>\n",
       "      <td>153</td>\n",
       "      <td>72</td>\n",
       "      <td>Credit Card</td>\n",
       "      <td>1.0</td>\n",
       "      <td>6.541699</td>\n",
       "      <td>0.0</td>\n",
       "      <td>1.0</td>\n",
       "      <td>16.32</td>\n",
       "      <td>2.5</td>\n",
       "      <td>0.00</td>\n",
       "    </tr>\n",
       "  </tbody>\n",
       "</table>\n",
       "<p>175000 rows × 17 columns</p>\n",
       "</div>"
      ],
      "text/plain": [
       "        VendorID tpep_pickup_datetime tpep_dropoff_datetime  passenger_count  \\\n",
       "0              1  2023-06-28 17:20:21   2023-06-28 16:34:45              1.0   \n",
       "1              0  2023-06-29 23:05:01   2023-06-29 22:01:35              1.0   \n",
       "2              1  2023-06-30 10:19:31   2023-06-30 11:13:10              1.0   \n",
       "3              0  2023-06-29 13:23:09   2023-06-29 14:20:01              1.0   \n",
       "4              1  2023-06-29 22:03:32   2023-06-29 22:22:22              3.0   \n",
       "...          ...                  ...                   ...              ...   \n",
       "174995         1  2023-06-30 22:50:57   2023-06-30 22:22:22              3.0   \n",
       "174996         1  2023-06-30 13:03:33   2023-06-30 14:04:57              1.0   \n",
       "174997         0  2023-06-29 11:03:32   2023-06-29 12:13:34              1.0   \n",
       "174998         1  2023-06-29 19:47:17   2023-06-29 19:08:55              1.0   \n",
       "174999         1  2023-06-30 21:26:43   2023-06-30 22:54:42              1.0   \n",
       "\n",
       "        trip_distance  RatecodeID store_and_fwd_flag  PULocationID  \\\n",
       "0                2.14         1.0                  N           120   \n",
       "1                2.70         1.0                  N            15   \n",
       "2                1.15         1.0                  N           167   \n",
       "3                0.40         1.0                  N           128   \n",
       "4                1.10         1.0                  N           203   \n",
       "...               ...         ...                ...           ...   \n",
       "174995           3.45         1.0                  N           147   \n",
       "174996           9.44         1.0                  N           154   \n",
       "174997           2.40         1.0                  N           168   \n",
       "174998           4.71         1.0                  N           240   \n",
       "174999           1.01         1.0                  N           153   \n",
       "\n",
       "        DOLocationID payment_type  extra  tip_amount  tolls_amount  \\\n",
       "0                  9  Credit Card    2.5    7.165589           0.0   \n",
       "1                215  Credit Card    3.5    6.067401           0.0   \n",
       "2                223  Credit Card    0.0    4.111547           0.0   \n",
       "3                239  Credit Card    2.5    6.411079           0.0   \n",
       "4                 52  Credit Card    1.0    4.769377           0.0   \n",
       "...              ...          ...    ...         ...           ...   \n",
       "174995           167  Credit Card    1.0    8.732495           0.0   \n",
       "174996           191         Cash    5.0    0.283275           0.0   \n",
       "174997           106  Credit Card    2.5    4.245354           0.0   \n",
       "174998           100  Credit Card    2.5   10.479776           0.0   \n",
       "174999            72  Credit Card    1.0    6.541699           0.0   \n",
       "\n",
       "        improvement_surcharge  total_amount  congestion_surcharge  Airport_fee  \n",
       "0                         1.0         20.64                   2.5         0.00  \n",
       "1                         1.0         25.55                   2.5         0.00  \n",
       "2                         1.0         17.64                   2.5         0.00  \n",
       "3                         1.0         12.80                   2.5         0.00  \n",
       "4                         1.0         18.00                   2.5         0.00  \n",
       "...                       ...           ...                   ...          ...  \n",
       "174995                    1.0         28.08                   2.5         0.00  \n",
       "174996                    1.0         59.95                   2.5         1.75  \n",
       "174997                    1.0         33.50                   2.5         0.00  \n",
       "174998                    1.0         40.80                   2.5         0.00  \n",
       "174999                    1.0         16.32                   2.5         0.00  \n",
       "\n",
       "[175000 rows x 17 columns]"
      ]
     },
     "execution_count": 18,
     "metadata": {},
     "output_type": "execute_result"
    }
   ],
   "source": [
    "combined_data['tpep_pickup_datetime'] = pd.to_datetime(combined_data['tpep_pickup_datetime'])\n",
    "combined_data['tpep_dropoff_datetime'] = pd.to_datetime(combined_data['tpep_dropoff_datetime'])\n",
    "combined_data"
   ]
  },
  {
   "cell_type": "code",
   "execution_count": 19,
   "id": "9616746c",
   "metadata": {
    "execution": {
     "iopub.execute_input": "2023-12-15T06:50:19.863682Z",
     "iopub.status.busy": "2023-12-15T06:50:19.863190Z",
     "iopub.status.idle": "2023-12-15T06:50:19.947454Z",
     "shell.execute_reply": "2023-12-15T06:50:19.946062Z"
    },
    "papermill": {
     "duration": 0.121738,
     "end_time": "2023-12-15T06:50:19.950310",
     "exception": false,
     "start_time": "2023-12-15T06:50:19.828572",
     "status": "completed"
    },
    "tags": []
   },
   "outputs": [],
   "source": [
    "combined_data['pickup_dayofweek'] = combined_data['tpep_pickup_datetime'].dt.dayofweek\n",
    "\n",
    "combined_data['pickup_hour'] = combined_data['tpep_pickup_datetime'].dt.hour\n",
    "\n",
    "combined_data['dropoff_hour'] = combined_data['tpep_dropoff_datetime'].dt.hour\n",
    "\n",
    "combined_data['dropoff_month'] = combined_data['tpep_dropoff_datetime'].dt.month\n",
    "\n",
    "combined_data['trip_duration'] = (combined_data['tpep_dropoff_datetime'] - combined_data['tpep_pickup_datetime']).abs().dt.total_seconds()"
   ]
  },
  {
   "cell_type": "code",
   "execution_count": 20,
   "id": "1384322f",
   "metadata": {
    "execution": {
     "iopub.execute_input": "2023-12-15T06:50:20.019438Z",
     "iopub.status.busy": "2023-12-15T06:50:20.018976Z",
     "iopub.status.idle": "2023-12-15T06:50:20.027929Z",
     "shell.execute_reply": "2023-12-15T06:50:20.026845Z"
    },
    "papermill": {
     "duration": 0.046499,
     "end_time": "2023-12-15T06:50:20.030376",
     "exception": false,
     "start_time": "2023-12-15T06:50:19.983877",
     "status": "completed"
    },
    "tags": []
   },
   "outputs": [
    {
     "data": {
      "text/plain": [
       "(175000, 22)"
      ]
     },
     "execution_count": 20,
     "metadata": {},
     "output_type": "execute_result"
    }
   ],
   "source": [
    "combined_data.shape"
   ]
  },
  {
   "cell_type": "markdown",
   "id": "6f5220b3",
   "metadata": {
    "papermill": {
     "duration": 0.032178,
     "end_time": "2023-12-15T06:50:20.094825",
     "exception": false,
     "start_time": "2023-12-15T06:50:20.062647",
     "status": "completed"
    },
    "tags": []
   },
   "source": [
    "## Categorizing Hour\n",
    "\n",
    "* #### Option 1:\n",
    "Manually deciding"
   ]
  },
  {
   "cell_type": "code",
   "execution_count": 21,
   "id": "c27b0131",
   "metadata": {
    "execution": {
     "iopub.execute_input": "2023-12-15T06:50:20.162255Z",
     "iopub.status.busy": "2023-12-15T06:50:20.161396Z",
     "iopub.status.idle": "2023-12-15T06:50:20.763724Z",
     "shell.execute_reply": "2023-12-15T06:50:20.762417Z"
    },
    "papermill": {
     "duration": 0.638595,
     "end_time": "2023-12-15T06:50:20.766222",
     "exception": false,
     "start_time": "2023-12-15T06:50:20.127627",
     "status": "completed"
    },
    "tags": []
   },
   "outputs": [
    {
     "data": {
      "image/png": "[encoded data removed]",
      "text/plain": [
       "<Figure size 1200x600 with 2 Axes>"
      ]
     },
     "metadata": {},
     "output_type": "display_data"
    }
   ],
   "source": [
    "import matplotlib.pyplot as plt\n",
    "\n",
    "# This finds the mean total_amount by hour\n",
    "mean_amount_by_hour = combined_data.groupby('pickup_hour')['total_amount'].mean()\n",
    "\n",
    "# This finds the number of rides by pickup hour\n",
    "pickup_hour_counts = combined_data.groupby('pickup_hour').size()\n",
    "\n",
    "#This plots the number of rides by pickup hour\n",
    "fig, ax1 = plt.subplots(figsize=(12, 6))\n",
    "ax1.bar(pickup_hour_counts.index, pickup_hour_counts, color='b', alpha=0.6, label='Number of Rides')\n",
    "ax1.set_xlabel('Pickup Hour')\n",
    "ax1.set_ylabel('Number of Rides')\n",
    "ax1.tick_params('y')\n",
    "\n",
    "# This plots the mean total_amount by hour\n",
    "ax2 = ax1.twinx()\n",
    "ax2.plot(mean_amount_by_hour.index, mean_amount_by_hour, color='r', marker='o', label='Mean Total Amount')\n",
    "ax2.set_ylabel('Mean Total Amount')\n",
    "ax2.tick_params('y')\n",
    "\n",
    "plt.title('Number of Rides and Mean Total Amount by Pickup Hour')\n",
    "ax1.legend(loc='upper left')\n",
    "ax2.legend(loc='upper right')\n",
    "plt.show()"
   ]
  },
  {
   "cell_type": "code",
   "execution_count": 22,
   "id": "5bc307c8",
   "metadata": {
    "execution": {
     "iopub.execute_input": "2023-12-15T06:50:20.843214Z",
     "iopub.status.busy": "2023-12-15T06:50:20.842488Z",
     "iopub.status.idle": "2023-12-15T06:50:20.848846Z",
     "shell.execute_reply": "2023-12-15T06:50:20.847830Z"
    },
    "papermill": {
     "duration": 0.048655,
     "end_time": "2023-12-15T06:50:20.852172",
     "exception": false,
     "start_time": "2023-12-15T06:50:20.803517",
     "status": "completed"
    },
    "tags": []
   },
   "outputs": [],
   "source": [
    "def categorize_hour(hour):\n",
    "    if 0 <= hour <= 7:\n",
    "        return 0\n",
    "    elif 8 <= hour <= 15:\n",
    "        return 1\n",
    "    else:\n",
    "        return 2"
   ]
  },
  {
   "cell_type": "markdown",
   "id": "50a5b3c7",
   "metadata": {
    "papermill": {
     "duration": 0.033673,
     "end_time": "2023-12-15T06:50:20.920307",
     "exception": false,
     "start_time": "2023-12-15T06:50:20.886634",
     "status": "completed"
    },
    "tags": []
   },
   "source": [
    "* #### Option 2:\n",
    "KMeans elbow method (2) or (3)"
   ]
  },
  {
   "cell_type": "markdown",
   "id": "361f21c6",
   "metadata": {
    "papermill": {
     "duration": 0.035839,
     "end_time": "2023-12-15T06:50:20.990193",
     "exception": false,
     "start_time": "2023-12-15T06:50:20.954354",
     "status": "completed"
    },
    "tags": []
   },
   "source": [
    "#### Choosing n_clusters\n",
    "* Using elbow method"
   ]
  },
  {
   "cell_type": "code",
   "execution_count": 23,
   "id": "8707573c",
   "metadata": {
    "execution": {
     "iopub.execute_input": "2023-12-15T06:50:21.064789Z",
     "iopub.status.busy": "2023-12-15T06:50:21.064306Z",
     "iopub.status.idle": "2023-12-15T06:50:27.929479Z",
     "shell.execute_reply": "2023-12-15T06:50:27.928222Z"
    },
    "papermill": {
     "duration": 6.906349,
     "end_time": "2023-12-15T06:50:27.932236",
     "exception": false,
     "start_time": "2023-12-15T06:50:21.025887",
     "status": "completed"
    },
    "tags": []
   },
   "outputs": [
    {
     "data": {
      "image/png": "[encoded data removed]",
      "text/plain": [
       "<Figure size 1000x500 with 1 Axes>"
      ]
     },
     "metadata": {},
     "output_type": "display_data"
    }
   ],
   "source": [
    "from sklearn.cluster import KMeans\n",
    "import matplotlib.pyplot as plt\n",
    "\n",
    "inertia = []\n",
    "for i in range(1, 11):\n",
    "    kmeans = KMeans(n_clusters=i, init='k-means++', max_iter=300, n_init=10, random_state=42)\n",
    "    kmeans.fit(combined_data['trip_duration'].values.reshape(-1, 1))\n",
    "    inertia.append(kmeans.inertia_)\n",
    "\n",
    "plt.figure(figsize=(10, 5))\n",
    "plt.plot(range(1, 11), inertia, 'bx-')\n",
    "plt.title('Elbow Method')\n",
    "plt.xlabel('Number of clusters')\n",
    "plt.ylabel('Inertia')\n",
    "plt.show()"
   ]
  },
  {
   "cell_type": "markdown",
   "id": "2313a42e",
   "metadata": {
    "papermill": {
     "duration": 0.034039,
     "end_time": "2023-12-15T06:50:28.000836",
     "exception": false,
     "start_time": "2023-12-15T06:50:27.966797",
     "status": "completed"
    },
    "tags": []
   },
   "source": [
    "**We can conclude here that the optimal number of clusters based on the elbow method is 2 or 3.** When applying the elbow method to determine the optimal number of clusters in a dataset, we aim to find a point where the addition of more clusters provides diminishing returns in explaining the variation within the data.\n",
    "\n",
    "However, choosing between 2 or 3 clusters might require further consideration or domain knowledge. Since this elbow plot doesn't have a clear, decisive bend and instead shows a gradual decline without a distinct elbow, it could indicate a more subjective decision in determining the number of clusters."
   ]
  },
  {
   "cell_type": "code",
   "execution_count": 24,
   "id": "42b32373",
   "metadata": {
    "execution": {
     "iopub.execute_input": "2023-12-15T06:50:28.071070Z",
     "iopub.status.busy": "2023-12-15T06:50:28.070628Z",
     "iopub.status.idle": "2023-12-15T06:50:28.263118Z",
     "shell.execute_reply": "2023-12-15T06:50:28.261909Z"
    },
    "papermill": {
     "duration": 0.230252,
     "end_time": "2023-12-15T06:50:28.265794",
     "exception": false,
     "start_time": "2023-12-15T06:50:28.035542",
     "status": "completed"
    },
    "tags": []
   },
   "outputs": [
    {
     "name": "stderr",
     "output_type": "stream",
     "text": [
      "/opt/conda/lib/python3.10/site-packages/sklearn/cluster/_kmeans.py:870: FutureWarning: The default value of `n_init` will change from 10 to 'auto' in 1.4. Set the value of `n_init` explicitly to suppress the warning\n",
      "  warnings.warn(\n"
     ]
    }
   ],
   "source": [
    "# We have to figure out whether picking KMeans for n_clusters = 2 or n_clusters = 3 works better\n",
    "\n",
    "# Here, I am performing the case of picking n_clusters = 2\n",
    "\n",
    "from sklearn.cluster import KMeans\n",
    "\n",
    "kmeans = KMeans(n_clusters=2, random_state=42)\n",
    "\n",
    "kmeans.fit(combined_data['trip_duration'].values.reshape(-1, 1))\n",
    "\n",
    "combined_data['time_cluster'] = kmeans.labels_"
   ]
  },
  {
   "cell_type": "code",
   "execution_count": 25,
   "id": "cd7c4901",
   "metadata": {
    "execution": {
     "iopub.execute_input": "2023-12-15T06:50:28.336695Z",
     "iopub.status.busy": "2023-12-15T06:50:28.335806Z",
     "iopub.status.idle": "2023-12-15T06:50:28.670047Z",
     "shell.execute_reply": "2023-12-15T06:50:28.668723Z"
    },
    "papermill": {
     "duration": 0.373298,
     "end_time": "2023-12-15T06:50:28.673211",
     "exception": false,
     "start_time": "2023-12-15T06:50:28.299913",
     "status": "completed"
    },
    "tags": []
   },
   "outputs": [
    {
     "name": "stderr",
     "output_type": "stream",
     "text": [
      "/opt/conda/lib/python3.10/site-packages/sklearn/cluster/_kmeans.py:870: FutureWarning: The default value of `n_init` will change from 10 to 'auto' in 1.4. Set the value of `n_init` explicitly to suppress the warning\n",
      "  warnings.warn(\n"
     ]
    }
   ],
   "source": [
    "# Here, I am performing the case of picking n_clusters = 3\n",
    "\n",
    "from sklearn.cluster import KMeans\n",
    "\n",
    "kmeans_3 = KMeans(n_clusters=3, random_state=42)\n",
    "\n",
    "kmeans_3.fit(combined_data['trip_duration'].values.reshape(-1, 1))\n",
    "\n",
    "combined_data['time_cluster_1'] = kmeans_3.labels_"
   ]
  },
  {
   "cell_type": "code",
   "execution_count": 26,
   "id": "81da762e",
   "metadata": {
    "execution": {
     "iopub.execute_input": "2023-12-15T06:50:28.744403Z",
     "iopub.status.busy": "2023-12-15T06:50:28.743141Z",
     "iopub.status.idle": "2023-12-15T06:50:29.590350Z",
     "shell.execute_reply": "2023-12-15T06:50:29.587491Z"
    },
    "papermill": {
     "duration": 0.886381,
     "end_time": "2023-12-15T06:50:29.593917",
     "exception": false,
     "start_time": "2023-12-15T06:50:28.707536",
     "status": "completed"
    },
    "tags": []
   },
   "outputs": [
    {
     "data": {
      "image/png": "[encoded data removed]",
      "text/plain": [
       "<Figure size 640x480 with 1 Axes>"
      ]
     },
     "metadata": {},
     "output_type": "display_data"
    }
   ],
   "source": [
    "import matplotlib.pyplot as plt\n",
    "import seaborn as sns\n",
    "\n",
    "average_amount_per_cluster = combined_data.groupby('time_cluster')['total_amount'].mean()\n",
    "\n",
    "sns.barplot(x=average_amount_per_cluster.index, y=average_amount_per_cluster.values)\n",
    "plt.title('Average Total Amount for Each Time Cluster')\n",
    "plt.xlabel('Time Cluster')\n",
    "plt.ylabel('Average Total Amount')\n",
    "plt.xticks(range(len(average_amount_per_cluster)))\n",
    "plt.show()"
   ]
  },
  {
   "cell_type": "code",
   "execution_count": 27,
   "id": "2134f2e4",
   "metadata": {
    "execution": {
     "iopub.execute_input": "2023-12-15T06:50:29.672356Z",
     "iopub.status.busy": "2023-12-15T06:50:29.671905Z",
     "iopub.status.idle": "2023-12-15T06:50:29.971143Z",
     "shell.execute_reply": "2023-12-15T06:50:29.969973Z"
    },
    "papermill": {
     "duration": 0.340965,
     "end_time": "2023-12-15T06:50:29.974592",
     "exception": false,
     "start_time": "2023-12-15T06:50:29.633627",
     "status": "completed"
    },
    "tags": []
   },
   "outputs": [
    {
     "data": {
      "image/png": "[encoded data removed]",
      "text/plain": [
       "<Figure size 640x480 with 1 Axes>"
      ]
     },
     "metadata": {},
     "output_type": "display_data"
    }
   ],
   "source": [
    "import matplotlib.pyplot as plt\n",
    "import seaborn as sns\n",
    "\n",
    "average_amount_per_cluster = combined_data.groupby('time_cluster_1')['total_amount'].mean()\n",
    "\n",
    "sns.barplot(x=average_amount_per_cluster.index, y=average_amount_per_cluster.values)\n",
    "plt.title('Average Total Amount for Each Time Cluster')\n",
    "plt.xlabel('Time Cluster')\n",
    "plt.ylabel('Average Total Amount')\n",
    "plt.xticks(range(len(average_amount_per_cluster)))\n",
    "plt.show()"
   ]
  },
  {
   "cell_type": "markdown",
   "id": "af29cd68",
   "metadata": {
    "papermill": {
     "duration": 0.037608,
     "end_time": "2023-12-15T06:50:30.053343",
     "exception": false,
     "start_time": "2023-12-15T06:50:30.015735",
     "status": "completed"
    },
    "tags": []
   },
   "source": [
    "#### Choosing n_clusters for Tip Amount\n",
    "* Using elbow method"
   ]
  },
  {
   "cell_type": "code",
   "execution_count": 28,
   "id": "614527e7",
   "metadata": {
    "execution": {
     "iopub.execute_input": "2023-12-15T06:50:30.130600Z",
     "iopub.status.busy": "2023-12-15T06:50:30.128935Z",
     "iopub.status.idle": "2023-12-15T06:50:40.342266Z",
     "shell.execute_reply": "2023-12-15T06:50:40.341016Z"
    },
    "papermill": {
     "duration": 10.254867,
     "end_time": "2023-12-15T06:50:40.344945",
     "exception": false,
     "start_time": "2023-12-15T06:50:30.090078",
     "status": "completed"
    },
    "tags": []
   },
   "outputs": [
    {
     "data": {
      "image/png": "[encoded data removed]",
      "text/plain": [
       "<Figure size 1000x500 with 1 Axes>"
      ]
     },
     "metadata": {},
     "output_type": "display_data"
    }
   ],
   "source": [
    "from sklearn.cluster import KMeans\n",
    "import matplotlib.pyplot as plt\n",
    "\n",
    "inertia = []\n",
    "for i in range(1, 11):\n",
    "    kmeans = KMeans(n_clusters=i, init='k-means++', max_iter=300, n_init=10, random_state=42)\n",
    "    kmeans.fit(combined_data['tip_amount'].values.reshape(-1, 1))\n",
    "    inertia.append(kmeans.inertia_)\n",
    "\n",
    "plt.figure(figsize=(10, 5))\n",
    "plt.plot(range(1, 11), inertia, 'bx-')\n",
    "plt.title('Elbow Method')\n",
    "plt.xlabel('Number of clusters')\n",
    "plt.ylabel('Inertia')\n",
    "plt.show()"
   ]
  },
  {
   "cell_type": "code",
   "execution_count": 29,
   "id": "ada1ebcb",
   "metadata": {
    "execution": {
     "iopub.execute_input": "2023-12-15T06:50:40.418841Z",
     "iopub.status.busy": "2023-12-15T06:50:40.418013Z",
     "iopub.status.idle": "2023-12-15T06:50:40.722875Z",
     "shell.execute_reply": "2023-12-15T06:50:40.721393Z"
    },
    "papermill": {
     "duration": 0.344607,
     "end_time": "2023-12-15T06:50:40.725962",
     "exception": false,
     "start_time": "2023-12-15T06:50:40.381355",
     "status": "completed"
    },
    "tags": []
   },
   "outputs": [
    {
     "name": "stderr",
     "output_type": "stream",
     "text": [
      "/opt/conda/lib/python3.10/site-packages/sklearn/cluster/_kmeans.py:870: FutureWarning: The default value of `n_init` will change from 10 to 'auto' in 1.4. Set the value of `n_init` explicitly to suppress the warning\n",
      "  warnings.warn(\n"
     ]
    }
   ],
   "source": [
    "# We have to figure out whether picking KMeans for n_clusters = 2 or n_clusters = 3 works better\n",
    "\n",
    "# Here, I am performing the case of picking n_clusters = 2\n",
    "\n",
    "from sklearn.cluster import KMeans\n",
    "\n",
    "kmeans = KMeans(n_clusters=2, random_state=42)\n",
    "\n",
    "kmeans.fit(combined_data['tip_amount'].values.reshape(-1, 1))\n",
    "\n",
    "combined_data['tip_cluster'] = kmeans.labels_"
   ]
  },
  {
   "cell_type": "markdown",
   "id": "531fff25",
   "metadata": {
    "papermill": {
     "duration": 0.039772,
     "end_time": "2023-12-15T06:50:40.803276",
     "exception": false,
     "start_time": "2023-12-15T06:50:40.763504",
     "status": "completed"
    },
    "tags": []
   },
   "source": [
    "## Categorizing PULocationID and DOLocationID\n",
    "\n",
    "* #### Option 1:\n",
    "Frequency encoding"
   ]
  },
  {
   "cell_type": "code",
   "execution_count": 30,
   "id": "85450d57",
   "metadata": {
    "execution": {
     "iopub.execute_input": "2023-12-15T06:50:40.881965Z",
     "iopub.status.busy": "2023-12-15T06:50:40.881543Z",
     "iopub.status.idle": "2023-12-15T06:50:40.900010Z",
     "shell.execute_reply": "2023-12-15T06:50:40.898584Z"
    },
    "papermill": {
     "duration": 0.058673,
     "end_time": "2023-12-15T06:50:40.903119",
     "exception": false,
     "start_time": "2023-12-15T06:50:40.844446",
     "status": "completed"
    },
    "tags": []
   },
   "outputs": [],
   "source": [
    "pu_frequency = combined_data['PULocationID'].value_counts() / len(data)\n",
    "do_frequency = combined_data['DOLocationID'].value_counts() / len(data)\n",
    "\n",
    "combined_data['PULocationID'] = combined_data['PULocationID'].map(pu_frequency)\n",
    "combined_data['DOLocationID'] = combined_data['DOLocationID'].map(do_frequency)"
   ]
  },
  {
   "cell_type": "code",
   "execution_count": 31,
   "id": "a14e9f51",
   "metadata": {
    "execution": {
     "iopub.execute_input": "2023-12-15T06:50:40.983276Z",
     "iopub.status.busy": "2023-12-15T06:50:40.982859Z",
     "iopub.status.idle": "2023-12-15T06:50:41.089064Z",
     "shell.execute_reply": "2023-12-15T06:50:41.087254Z"
    },
    "papermill": {
     "duration": 0.14949,
     "end_time": "2023-12-15T06:50:41.091901",
     "exception": false,
     "start_time": "2023-12-15T06:50:40.942411",
     "status": "completed"
    },
    "tags": []
   },
   "outputs": [
    {
     "data": {
      "text/html": [
       "<div>\n",
       "<style scoped>\n",
       "    .dataframe tbody tr th:only-of-type {\n",
       "        vertical-align: middle;\n",
       "    }\n",
       "\n",
       "    .dataframe tbody tr th {\n",
       "        vertical-align: top;\n",
       "    }\n",
       "\n",
       "    .dataframe thead th {\n",
       "        text-align: right;\n",
       "    }\n",
       "</style>\n",
       "<table border=\"1\" class=\"dataframe\">\n",
       "  <thead>\n",
       "    <tr style=\"text-align: right;\">\n",
       "      <th></th>\n",
       "      <th>VendorID</th>\n",
       "      <th>tpep_pickup_datetime</th>\n",
       "      <th>tpep_dropoff_datetime</th>\n",
       "      <th>passenger_count</th>\n",
       "      <th>trip_distance</th>\n",
       "      <th>RatecodeID</th>\n",
       "      <th>store_and_fwd_flag</th>\n",
       "      <th>PULocationID</th>\n",
       "      <th>DOLocationID</th>\n",
       "      <th>payment_type</th>\n",
       "      <th>...</th>\n",
       "      <th>congestion_surcharge</th>\n",
       "      <th>Airport_fee</th>\n",
       "      <th>pickup_dayofweek</th>\n",
       "      <th>pickup_hour</th>\n",
       "      <th>dropoff_hour</th>\n",
       "      <th>dropoff_month</th>\n",
       "      <th>trip_duration</th>\n",
       "      <th>time_cluster</th>\n",
       "      <th>time_cluster_1</th>\n",
       "      <th>tip_cluster</th>\n",
       "    </tr>\n",
       "  </thead>\n",
       "  <tbody>\n",
       "    <tr>\n",
       "      <th>0</th>\n",
       "      <td>1</td>\n",
       "      <td>2023-06-28 17:20:21</td>\n",
       "      <td>2023-06-28 16:34:45</td>\n",
       "      <td>1.0</td>\n",
       "      <td>2.14</td>\n",
       "      <td>1.0</td>\n",
       "      <td>N</td>\n",
       "      <td>0.003726</td>\n",
       "      <td>0.003491</td>\n",
       "      <td>Credit Card</td>\n",
       "      <td>...</td>\n",
       "      <td>2.5</td>\n",
       "      <td>0.00</td>\n",
       "      <td>2</td>\n",
       "      <td>17</td>\n",
       "      <td>16</td>\n",
       "      <td>6</td>\n",
       "      <td>2736.0</td>\n",
       "      <td>0</td>\n",
       "      <td>1</td>\n",
       "      <td>0</td>\n",
       "    </tr>\n",
       "    <tr>\n",
       "      <th>1</th>\n",
       "      <td>0</td>\n",
       "      <td>2023-06-29 23:05:01</td>\n",
       "      <td>2023-06-29 22:01:35</td>\n",
       "      <td>1.0</td>\n",
       "      <td>2.70</td>\n",
       "      <td>1.0</td>\n",
       "      <td>N</td>\n",
       "      <td>0.003771</td>\n",
       "      <td>0.003743</td>\n",
       "      <td>Credit Card</td>\n",
       "      <td>...</td>\n",
       "      <td>2.5</td>\n",
       "      <td>0.00</td>\n",
       "      <td>3</td>\n",
       "      <td>23</td>\n",
       "      <td>22</td>\n",
       "      <td>6</td>\n",
       "      <td>3806.0</td>\n",
       "      <td>0</td>\n",
       "      <td>0</td>\n",
       "      <td>0</td>\n",
       "    </tr>\n",
       "    <tr>\n",
       "      <th>2</th>\n",
       "      <td>1</td>\n",
       "      <td>2023-06-30 10:19:31</td>\n",
       "      <td>2023-06-30 11:13:10</td>\n",
       "      <td>1.0</td>\n",
       "      <td>1.15</td>\n",
       "      <td>1.0</td>\n",
       "      <td>N</td>\n",
       "      <td>0.003783</td>\n",
       "      <td>0.003760</td>\n",
       "      <td>Credit Card</td>\n",
       "      <td>...</td>\n",
       "      <td>2.5</td>\n",
       "      <td>0.00</td>\n",
       "      <td>4</td>\n",
       "      <td>10</td>\n",
       "      <td>11</td>\n",
       "      <td>6</td>\n",
       "      <td>3219.0</td>\n",
       "      <td>0</td>\n",
       "      <td>0</td>\n",
       "      <td>0</td>\n",
       "    </tr>\n",
       "    <tr>\n",
       "      <th>3</th>\n",
       "      <td>0</td>\n",
       "      <td>2023-06-29 13:23:09</td>\n",
       "      <td>2023-06-29 14:20:01</td>\n",
       "      <td>1.0</td>\n",
       "      <td>0.40</td>\n",
       "      <td>1.0</td>\n",
       "      <td>N</td>\n",
       "      <td>0.003617</td>\n",
       "      <td>0.003766</td>\n",
       "      <td>Credit Card</td>\n",
       "      <td>...</td>\n",
       "      <td>2.5</td>\n",
       "      <td>0.00</td>\n",
       "      <td>3</td>\n",
       "      <td>13</td>\n",
       "      <td>14</td>\n",
       "      <td>6</td>\n",
       "      <td>3412.0</td>\n",
       "      <td>0</td>\n",
       "      <td>0</td>\n",
       "      <td>0</td>\n",
       "    </tr>\n",
       "    <tr>\n",
       "      <th>4</th>\n",
       "      <td>1</td>\n",
       "      <td>2023-06-29 22:03:32</td>\n",
       "      <td>2023-06-29 22:22:22</td>\n",
       "      <td>3.0</td>\n",
       "      <td>1.10</td>\n",
       "      <td>1.0</td>\n",
       "      <td>N</td>\n",
       "      <td>0.003874</td>\n",
       "      <td>0.003646</td>\n",
       "      <td>Credit Card</td>\n",
       "      <td>...</td>\n",
       "      <td>2.5</td>\n",
       "      <td>0.00</td>\n",
       "      <td>3</td>\n",
       "      <td>22</td>\n",
       "      <td>22</td>\n",
       "      <td>6</td>\n",
       "      <td>1130.0</td>\n",
       "      <td>0</td>\n",
       "      <td>1</td>\n",
       "      <td>0</td>\n",
       "    </tr>\n",
       "    <tr>\n",
       "      <th>...</th>\n",
       "      <td>...</td>\n",
       "      <td>...</td>\n",
       "      <td>...</td>\n",
       "      <td>...</td>\n",
       "      <td>...</td>\n",
       "      <td>...</td>\n",
       "      <td>...</td>\n",
       "      <td>...</td>\n",
       "      <td>...</td>\n",
       "      <td>...</td>\n",
       "      <td>...</td>\n",
       "      <td>...</td>\n",
       "      <td>...</td>\n",
       "      <td>...</td>\n",
       "      <td>...</td>\n",
       "      <td>...</td>\n",
       "      <td>...</td>\n",
       "      <td>...</td>\n",
       "      <td>...</td>\n",
       "      <td>...</td>\n",
       "      <td>...</td>\n",
       "    </tr>\n",
       "    <tr>\n",
       "      <th>174995</th>\n",
       "      <td>1</td>\n",
       "      <td>2023-06-30 22:50:57</td>\n",
       "      <td>2023-06-30 22:22:22</td>\n",
       "      <td>3.0</td>\n",
       "      <td>3.45</td>\n",
       "      <td>1.0</td>\n",
       "      <td>N</td>\n",
       "      <td>0.003657</td>\n",
       "      <td>0.004046</td>\n",
       "      <td>Credit Card</td>\n",
       "      <td>...</td>\n",
       "      <td>2.5</td>\n",
       "      <td>0.00</td>\n",
       "      <td>4</td>\n",
       "      <td>22</td>\n",
       "      <td>22</td>\n",
       "      <td>6</td>\n",
       "      <td>1715.0</td>\n",
       "      <td>0</td>\n",
       "      <td>1</td>\n",
       "      <td>0</td>\n",
       "    </tr>\n",
       "    <tr>\n",
       "      <th>174996</th>\n",
       "      <td>1</td>\n",
       "      <td>2023-06-30 13:03:33</td>\n",
       "      <td>2023-06-30 14:04:57</td>\n",
       "      <td>1.0</td>\n",
       "      <td>9.44</td>\n",
       "      <td>1.0</td>\n",
       "      <td>N</td>\n",
       "      <td>0.003651</td>\n",
       "      <td>0.003754</td>\n",
       "      <td>Cash</td>\n",
       "      <td>...</td>\n",
       "      <td>2.5</td>\n",
       "      <td>1.75</td>\n",
       "      <td>4</td>\n",
       "      <td>13</td>\n",
       "      <td>14</td>\n",
       "      <td>6</td>\n",
       "      <td>3684.0</td>\n",
       "      <td>0</td>\n",
       "      <td>0</td>\n",
       "      <td>0</td>\n",
       "    </tr>\n",
       "    <tr>\n",
       "      <th>174997</th>\n",
       "      <td>0</td>\n",
       "      <td>2023-06-29 11:03:32</td>\n",
       "      <td>2023-06-29 12:13:34</td>\n",
       "      <td>1.0</td>\n",
       "      <td>2.40</td>\n",
       "      <td>1.0</td>\n",
       "      <td>N</td>\n",
       "      <td>0.003771</td>\n",
       "      <td>0.003834</td>\n",
       "      <td>Credit Card</td>\n",
       "      <td>...</td>\n",
       "      <td>2.5</td>\n",
       "      <td>0.00</td>\n",
       "      <td>3</td>\n",
       "      <td>11</td>\n",
       "      <td>12</td>\n",
       "      <td>6</td>\n",
       "      <td>4202.0</td>\n",
       "      <td>0</td>\n",
       "      <td>0</td>\n",
       "      <td>0</td>\n",
       "    </tr>\n",
       "    <tr>\n",
       "      <th>174998</th>\n",
       "      <td>1</td>\n",
       "      <td>2023-06-29 19:47:17</td>\n",
       "      <td>2023-06-29 19:08:55</td>\n",
       "      <td>1.0</td>\n",
       "      <td>4.71</td>\n",
       "      <td>1.0</td>\n",
       "      <td>N</td>\n",
       "      <td>0.003800</td>\n",
       "      <td>0.003634</td>\n",
       "      <td>Credit Card</td>\n",
       "      <td>...</td>\n",
       "      <td>2.5</td>\n",
       "      <td>0.00</td>\n",
       "      <td>3</td>\n",
       "      <td>19</td>\n",
       "      <td>19</td>\n",
       "      <td>6</td>\n",
       "      <td>2302.0</td>\n",
       "      <td>0</td>\n",
       "      <td>1</td>\n",
       "      <td>0</td>\n",
       "    </tr>\n",
       "    <tr>\n",
       "      <th>174999</th>\n",
       "      <td>1</td>\n",
       "      <td>2023-06-30 21:26:43</td>\n",
       "      <td>2023-06-30 22:54:42</td>\n",
       "      <td>1.0</td>\n",
       "      <td>1.01</td>\n",
       "      <td>1.0</td>\n",
       "      <td>N</td>\n",
       "      <td>0.003491</td>\n",
       "      <td>0.004034</td>\n",
       "      <td>Credit Card</td>\n",
       "      <td>...</td>\n",
       "      <td>2.5</td>\n",
       "      <td>0.00</td>\n",
       "      <td>4</td>\n",
       "      <td>21</td>\n",
       "      <td>22</td>\n",
       "      <td>6</td>\n",
       "      <td>5279.0</td>\n",
       "      <td>0</td>\n",
       "      <td>0</td>\n",
       "      <td>0</td>\n",
       "    </tr>\n",
       "  </tbody>\n",
       "</table>\n",
       "<p>175000 rows × 25 columns</p>\n",
       "</div>"
      ],
      "text/plain": [
       "        VendorID tpep_pickup_datetime tpep_dropoff_datetime  passenger_count  \\\n",
       "0              1  2023-06-28 17:20:21   2023-06-28 16:34:45              1.0   \n",
       "1              0  2023-06-29 23:05:01   2023-06-29 22:01:35              1.0   \n",
       "2              1  2023-06-30 10:19:31   2023-06-30 11:13:10              1.0   \n",
       "3              0  2023-06-29 13:23:09   2023-06-29 14:20:01              1.0   \n",
       "4              1  2023-06-29 22:03:32   2023-06-29 22:22:22              3.0   \n",
       "...          ...                  ...                   ...              ...   \n",
       "174995         1  2023-06-30 22:50:57   2023-06-30 22:22:22              3.0   \n",
       "174996         1  2023-06-30 13:03:33   2023-06-30 14:04:57              1.0   \n",
       "174997         0  2023-06-29 11:03:32   2023-06-29 12:13:34              1.0   \n",
       "174998         1  2023-06-29 19:47:17   2023-06-29 19:08:55              1.0   \n",
       "174999         1  2023-06-30 21:26:43   2023-06-30 22:54:42              1.0   \n",
       "\n",
       "        trip_distance  RatecodeID store_and_fwd_flag  PULocationID  \\\n",
       "0                2.14         1.0                  N      0.003726   \n",
       "1                2.70         1.0                  N      0.003771   \n",
       "2                1.15         1.0                  N      0.003783   \n",
       "3                0.40         1.0                  N      0.003617   \n",
       "4                1.10         1.0                  N      0.003874   \n",
       "...               ...         ...                ...           ...   \n",
       "174995           3.45         1.0                  N      0.003657   \n",
       "174996           9.44         1.0                  N      0.003651   \n",
       "174997           2.40         1.0                  N      0.003771   \n",
       "174998           4.71         1.0                  N      0.003800   \n",
       "174999           1.01         1.0                  N      0.003491   \n",
       "\n",
       "        DOLocationID payment_type  ...  congestion_surcharge  Airport_fee  \\\n",
       "0           0.003491  Credit Card  ...                   2.5         0.00   \n",
       "1           0.003743  Credit Card  ...                   2.5         0.00   \n",
       "2           0.003760  Credit Card  ...                   2.5         0.00   \n",
       "3           0.003766  Credit Card  ...                   2.5         0.00   \n",
       "4           0.003646  Credit Card  ...                   2.5         0.00   \n",
       "...              ...          ...  ...                   ...          ...   \n",
       "174995      0.004046  Credit Card  ...                   2.5         0.00   \n",
       "174996      0.003754         Cash  ...                   2.5         1.75   \n",
       "174997      0.003834  Credit Card  ...                   2.5         0.00   \n",
       "174998      0.003634  Credit Card  ...                   2.5         0.00   \n",
       "174999      0.004034  Credit Card  ...                   2.5         0.00   \n",
       "\n",
       "        pickup_dayofweek  pickup_hour  dropoff_hour  dropoff_month  \\\n",
       "0                      2           17            16              6   \n",
       "1                      3           23            22              6   \n",
       "2                      4           10            11              6   \n",
       "3                      3           13            14              6   \n",
       "4                      3           22            22              6   \n",
       "...                  ...          ...           ...            ...   \n",
       "174995                 4           22            22              6   \n",
       "174996                 4           13            14              6   \n",
       "174997                 3           11            12              6   \n",
       "174998                 3           19            19              6   \n",
       "174999                 4           21            22              6   \n",
       "\n",
       "        trip_duration  time_cluster  time_cluster_1  tip_cluster  \n",
       "0              2736.0             0               1            0  \n",
       "1              3806.0             0               0            0  \n",
       "2              3219.0             0               0            0  \n",
       "3              3412.0             0               0            0  \n",
       "4              1130.0             0               1            0  \n",
       "...               ...           ...             ...          ...  \n",
       "174995         1715.0             0               1            0  \n",
       "174996         3684.0             0               0            0  \n",
       "174997         4202.0             0               0            0  \n",
       "174998         2302.0             0               1            0  \n",
       "174999         5279.0             0               0            0  \n",
       "\n",
       "[175000 rows x 25 columns]"
      ]
     },
     "execution_count": 31,
     "metadata": {},
     "output_type": "execute_result"
    }
   ],
   "source": [
    "combined_data"
   ]
  },
  {
   "cell_type": "markdown",
   "id": "c65ebfa5",
   "metadata": {
    "papermill": {
     "duration": 0.035855,
     "end_time": "2023-12-15T06:50:41.164702",
     "exception": false,
     "start_time": "2023-12-15T06:50:41.128847",
     "status": "completed"
    },
    "tags": []
   },
   "source": [
    "## Feature Encoding\n"
   ]
  },
  {
   "cell_type": "code",
   "execution_count": 32,
   "id": "b8528ee4",
   "metadata": {
    "execution": {
     "iopub.execute_input": "2023-12-15T06:50:41.241843Z",
     "iopub.status.busy": "2023-12-15T06:50:41.240314Z",
     "iopub.status.idle": "2023-12-15T06:50:41.246488Z",
     "shell.execute_reply": "2023-12-15T06:50:41.245522Z"
    },
    "papermill": {
     "duration": 0.047795,
     "end_time": "2023-12-15T06:50:41.248941",
     "exception": false,
     "start_time": "2023-12-15T06:50:41.201146",
     "status": "completed"
    },
    "tags": []
   },
   "outputs": [],
   "source": [
    "from sklearn.compose import ColumnTransformer\n",
    "from sklearn.pipeline import Pipeline\n",
    "from sklearn.impute import SimpleImputer\n",
    "from sklearn.preprocessing import OneHotEncoder, OrdinalEncoder"
   ]
  },
  {
   "cell_type": "code",
   "execution_count": 33,
   "id": "4598f067",
   "metadata": {
    "execution": {
     "iopub.execute_input": "2023-12-15T06:50:41.325594Z",
     "iopub.status.busy": "2023-12-15T06:50:41.324458Z",
     "iopub.status.idle": "2023-12-15T06:50:41.330957Z",
     "shell.execute_reply": "2023-12-15T06:50:41.329907Z"
    },
    "papermill": {
     "duration": 0.047679,
     "end_time": "2023-12-15T06:50:41.333657",
     "exception": false,
     "start_time": "2023-12-15T06:50:41.285978",
     "status": "completed"
    },
    "tags": []
   },
   "outputs": [],
   "source": [
    "new_preprocessor = ColumnTransformer(\n",
    "    transformers=[\n",
    "        ('imputer_encoder', Pipeline([\n",
    "            ('imputer', SimpleImputer(strategy='most_frequent')),\n",
    "            ('ordinal_encoder', OrdinalEncoder())\n",
    "        ]), ['store_and_fwd_flag']),\n",
    "        ('onehot', OneHotEncoder(sparse=False), ['payment_type'])\n",
    "    ],\n",
    "    remainder='passthrough'\n",
    ")"
   ]
  },
  {
   "cell_type": "code",
   "execution_count": 34,
   "id": "419b8141",
   "metadata": {
    "execution": {
     "iopub.execute_input": "2023-12-15T06:50:41.410269Z",
     "iopub.status.busy": "2023-12-15T06:50:41.409504Z",
     "iopub.status.idle": "2023-12-15T06:50:44.543677Z",
     "shell.execute_reply": "2023-12-15T06:50:44.542181Z"
    },
    "papermill": {
     "duration": 3.176223,
     "end_time": "2023-12-15T06:50:44.547044",
     "exception": false,
     "start_time": "2023-12-15T06:50:41.370821",
     "status": "completed"
    },
    "tags": []
   },
   "outputs": [
    {
     "name": "stderr",
     "output_type": "stream",
     "text": [
      "/opt/conda/lib/python3.10/site-packages/sklearn/preprocessing/_encoders.py:868: FutureWarning: `sparse` was renamed to `sparse_output` in version 1.2 and will be removed in 1.4. `sparse_output` is ignored unless you leave `sparse` to its default value.\n",
      "  warnings.warn(\n"
     ]
    }
   ],
   "source": [
    "processed_data = new_preprocessor.fit_transform(combined_data)\n",
    "\n",
    "onehot_columns = new_preprocessor.named_transformers_['onehot'].get_feature_names_out()\n",
    "\n",
    "transformed_columns = ['store_and_fwd_flag_encoded'] + list(onehot_columns)\n",
    "remaining_columns = [col for col in combined_data.columns if col not in ['store_and_fwd_flag', 'payment_type']]\n",
    "all_columns = transformed_columns + remaining_columns\n",
    "\n",
    "combined_data = pd.DataFrame(processed_data, columns=all_columns)"
   ]
  },
  {
   "cell_type": "code",
   "execution_count": 35,
   "id": "9cac35e5",
   "metadata": {
    "execution": {
     "iopub.execute_input": "2023-12-15T06:50:44.621867Z",
     "iopub.status.busy": "2023-12-15T06:50:44.621136Z",
     "iopub.status.idle": "2023-12-15T06:50:44.628719Z",
     "shell.execute_reply": "2023-12-15T06:50:44.627310Z"
    },
    "papermill": {
     "duration": 0.04802,
     "end_time": "2023-12-15T06:50:44.631296",
     "exception": false,
     "start_time": "2023-12-15T06:50:44.583276",
     "status": "completed"
    },
    "tags": []
   },
   "outputs": [
    {
     "data": {
      "text/plain": [
       "(175000, 29)"
      ]
     },
     "execution_count": 35,
     "metadata": {},
     "output_type": "execute_result"
    }
   ],
   "source": [
    "combined_data.shape"
   ]
  },
  {
   "cell_type": "code",
   "execution_count": 36,
   "id": "1c2c88fe",
   "metadata": {
    "execution": {
     "iopub.execute_input": "2023-12-15T06:50:44.708634Z",
     "iopub.status.busy": "2023-12-15T06:50:44.708147Z",
     "iopub.status.idle": "2023-12-15T06:50:44.803065Z",
     "shell.execute_reply": "2023-12-15T06:50:44.801552Z"
    },
    "papermill": {
     "duration": 0.13785,
     "end_time": "2023-12-15T06:50:44.806134",
     "exception": false,
     "start_time": "2023-12-15T06:50:44.668284",
     "status": "completed"
    },
    "tags": []
   },
   "outputs": [],
   "source": [
    "combined_data.drop(['tpep_pickup_datetime', 'tpep_dropoff_datetime','PULocationID','DOLocationID','total_amount','time_cluster_1'], axis=1, inplace=True)"
   ]
  },
  {
   "cell_type": "code",
   "execution_count": 37,
   "id": "21891a26",
   "metadata": {
    "execution": {
     "iopub.execute_input": "2023-12-15T06:50:44.881859Z",
     "iopub.status.busy": "2023-12-15T06:50:44.881388Z",
     "iopub.status.idle": "2023-12-15T06:50:44.888871Z",
     "shell.execute_reply": "2023-12-15T06:50:44.887990Z"
    },
    "papermill": {
     "duration": 0.04775,
     "end_time": "2023-12-15T06:50:44.891080",
     "exception": false,
     "start_time": "2023-12-15T06:50:44.843330",
     "status": "completed"
    },
    "tags": []
   },
   "outputs": [
    {
     "data": {
      "text/plain": [
       "(175000, 23)"
      ]
     },
     "execution_count": 37,
     "metadata": {},
     "output_type": "execute_result"
    }
   ],
   "source": [
    "combined_data.shape"
   ]
  },
  {
   "cell_type": "markdown",
   "id": "50382443",
   "metadata": {
    "papermill": {
     "duration": 0.036492,
     "end_time": "2023-12-15T06:50:44.963939",
     "exception": false,
     "start_time": "2023-12-15T06:50:44.927447",
     "status": "completed"
    },
    "tags": []
   },
   "source": []
  },
  {
   "cell_type": "markdown",
   "id": "6750ef53",
   "metadata": {
    "papermill": {
     "duration": 0.035652,
     "end_time": "2023-12-15T06:50:45.035746",
     "exception": false,
     "start_time": "2023-12-15T06:50:45.000094",
     "status": "completed"
    },
    "tags": []
   },
   "source": [
    "## KNNImputer\n"
   ]
  },
  {
   "cell_type": "markdown",
   "id": "0cef7085",
   "metadata": {
    "papermill": {
     "duration": 0.035735,
     "end_time": "2023-12-15T06:50:45.107754",
     "exception": false,
     "start_time": "2023-12-15T06:50:45.072019",
     "status": "completed"
    },
    "tags": []
   },
   "source": [
    "from sklearn.impute import KNNImputer\n",
    "from sklearn.preprocessing import StandardScaler\n",
    "from sklearn.linear_model import LinearRegression\n",
    "from sklearn.pipeline import Pipeline\n",
    "from sklearn.model_selection import cross_val_score\n",
    "import numpy as np\n",
    "from sklearn.preprocessing import MinMaxScaler\n",
    "from sklearn.ensemble import RandomForestRegressor\n",
    "\n",
    "average_r2_scores = []\n",
    "\n",
    "for k in range(1, 9):\n",
    "    pipeline = Pipeline([\n",
    "        ('imputer', KNNImputer(n_neighbors=k)),\n",
    "        ('scaler', MinMaxScaler()),\n",
    "        ('regressor', RandomForestRegressor(random_state=42))\n",
    "    ])\n",
    "    scores = cross_val_score(pipeline, combined_data, target, cv=5, scoring='r2')\n",
    "    average_r2_scores.append(np.mean(scores))\n",
    "\n",
    "best_r2_score = max(average_r2_scores)\n",
    "best_k = average_r2_scores.index(best_r2_score) + 1\n",
    "\n",
    "print(f\"The best R^2 score is {best_r2_score} for k = {best_k}\")"
   ]
  },
  {
   "cell_type": "markdown",
   "id": "523d93a2",
   "metadata": {
    "papermill": {
     "duration": 0.036582,
     "end_time": "2023-12-15T06:50:45.182159",
     "exception": false,
     "start_time": "2023-12-15T06:50:45.145577",
     "status": "completed"
    },
    "tags": []
   },
   "source": [
    "**The best R^2 on the training data occurs when n_neigbours is 6.**\n",
    "\n",
    "A n_neighbors value of 6 implies that, for missing value imputation, considering the six nearest neighbors provided the best balance between local information and generalization. It seems that imputing missing values by considering six closest data points helps the model better estimate the missing values."
   ]
  },
  {
   "cell_type": "code",
   "execution_count": 38,
   "id": "2ef54acc",
   "metadata": {
    "execution": {
     "iopub.execute_input": "2023-12-15T06:50:45.256991Z",
     "iopub.status.busy": "2023-12-15T06:50:45.256601Z",
     "iopub.status.idle": "2023-12-15T06:50:45.261770Z",
     "shell.execute_reply": "2023-12-15T06:50:45.260551Z"
    },
    "papermill": {
     "duration": 0.045843,
     "end_time": "2023-12-15T06:50:45.264327",
     "exception": false,
     "start_time": "2023-12-15T06:50:45.218484",
     "status": "completed"
    },
    "tags": []
   },
   "outputs": [],
   "source": [
    "pd.set_option('display.max_columns', None)"
   ]
  },
  {
   "cell_type": "code",
   "execution_count": 39,
   "id": "901758f1",
   "metadata": {
    "execution": {
     "iopub.execute_input": "2023-12-15T06:50:45.339738Z",
     "iopub.status.busy": "2023-12-15T06:50:45.339310Z",
     "iopub.status.idle": "2023-12-15T06:50:45.370137Z",
     "shell.execute_reply": "2023-12-15T06:50:45.368990Z"
    },
    "papermill": {
     "duration": 0.070989,
     "end_time": "2023-12-15T06:50:45.372792",
     "exception": false,
     "start_time": "2023-12-15T06:50:45.301803",
     "status": "completed"
    },
    "tags": []
   },
   "outputs": [
    {
     "data": {
      "text/html": [
       "<div>\n",
       "<style scoped>\n",
       "    .dataframe tbody tr th:only-of-type {\n",
       "        vertical-align: middle;\n",
       "    }\n",
       "\n",
       "    .dataframe tbody tr th {\n",
       "        vertical-align: top;\n",
       "    }\n",
       "\n",
       "    .dataframe thead th {\n",
       "        text-align: right;\n",
       "    }\n",
       "</style>\n",
       "<table border=\"1\" class=\"dataframe\">\n",
       "  <thead>\n",
       "    <tr style=\"text-align: right;\">\n",
       "      <th></th>\n",
       "      <th>store_and_fwd_flag_encoded</th>\n",
       "      <th>payment_type_Cash</th>\n",
       "      <th>payment_type_Credit Card</th>\n",
       "      <th>payment_type_UPI</th>\n",
       "      <th>payment_type_Wallet</th>\n",
       "      <th>payment_type_unknown</th>\n",
       "      <th>VendorID</th>\n",
       "      <th>passenger_count</th>\n",
       "      <th>trip_distance</th>\n",
       "      <th>RatecodeID</th>\n",
       "      <th>extra</th>\n",
       "      <th>tip_amount</th>\n",
       "      <th>tolls_amount</th>\n",
       "      <th>improvement_surcharge</th>\n",
       "      <th>congestion_surcharge</th>\n",
       "      <th>Airport_fee</th>\n",
       "      <th>pickup_dayofweek</th>\n",
       "      <th>pickup_hour</th>\n",
       "      <th>dropoff_hour</th>\n",
       "      <th>dropoff_month</th>\n",
       "      <th>trip_duration</th>\n",
       "      <th>time_cluster</th>\n",
       "      <th>tip_cluster</th>\n",
       "    </tr>\n",
       "  </thead>\n",
       "  <tbody>\n",
       "    <tr>\n",
       "      <th>0</th>\n",
       "      <td>0.0</td>\n",
       "      <td>0.0</td>\n",
       "      <td>1.0</td>\n",
       "      <td>0.0</td>\n",
       "      <td>0.0</td>\n",
       "      <td>0.0</td>\n",
       "      <td>1</td>\n",
       "      <td>1.0</td>\n",
       "      <td>2.14</td>\n",
       "      <td>1.0</td>\n",
       "      <td>2.5</td>\n",
       "      <td>7.165589</td>\n",
       "      <td>0.0</td>\n",
       "      <td>1.0</td>\n",
       "      <td>2.5</td>\n",
       "      <td>0.0</td>\n",
       "      <td>2</td>\n",
       "      <td>17</td>\n",
       "      <td>16</td>\n",
       "      <td>6</td>\n",
       "      <td>2736.0</td>\n",
       "      <td>0</td>\n",
       "      <td>0</td>\n",
       "    </tr>\n",
       "    <tr>\n",
       "      <th>1</th>\n",
       "      <td>0.0</td>\n",
       "      <td>0.0</td>\n",
       "      <td>1.0</td>\n",
       "      <td>0.0</td>\n",
       "      <td>0.0</td>\n",
       "      <td>0.0</td>\n",
       "      <td>0</td>\n",
       "      <td>1.0</td>\n",
       "      <td>2.7</td>\n",
       "      <td>1.0</td>\n",
       "      <td>3.5</td>\n",
       "      <td>6.067401</td>\n",
       "      <td>0.0</td>\n",
       "      <td>1.0</td>\n",
       "      <td>2.5</td>\n",
       "      <td>0.0</td>\n",
       "      <td>3</td>\n",
       "      <td>23</td>\n",
       "      <td>22</td>\n",
       "      <td>6</td>\n",
       "      <td>3806.0</td>\n",
       "      <td>0</td>\n",
       "      <td>0</td>\n",
       "    </tr>\n",
       "    <tr>\n",
       "      <th>2</th>\n",
       "      <td>0.0</td>\n",
       "      <td>0.0</td>\n",
       "      <td>1.0</td>\n",
       "      <td>0.0</td>\n",
       "      <td>0.0</td>\n",
       "      <td>0.0</td>\n",
       "      <td>1</td>\n",
       "      <td>1.0</td>\n",
       "      <td>1.15</td>\n",
       "      <td>1.0</td>\n",
       "      <td>0.0</td>\n",
       "      <td>4.111547</td>\n",
       "      <td>0.0</td>\n",
       "      <td>1.0</td>\n",
       "      <td>2.5</td>\n",
       "      <td>0.0</td>\n",
       "      <td>4</td>\n",
       "      <td>10</td>\n",
       "      <td>11</td>\n",
       "      <td>6</td>\n",
       "      <td>3219.0</td>\n",
       "      <td>0</td>\n",
       "      <td>0</td>\n",
       "    </tr>\n",
       "    <tr>\n",
       "      <th>3</th>\n",
       "      <td>0.0</td>\n",
       "      <td>0.0</td>\n",
       "      <td>1.0</td>\n",
       "      <td>0.0</td>\n",
       "      <td>0.0</td>\n",
       "      <td>0.0</td>\n",
       "      <td>0</td>\n",
       "      <td>1.0</td>\n",
       "      <td>0.4</td>\n",
       "      <td>1.0</td>\n",
       "      <td>2.5</td>\n",
       "      <td>6.411079</td>\n",
       "      <td>0.0</td>\n",
       "      <td>1.0</td>\n",
       "      <td>2.5</td>\n",
       "      <td>0.0</td>\n",
       "      <td>3</td>\n",
       "      <td>13</td>\n",
       "      <td>14</td>\n",
       "      <td>6</td>\n",
       "      <td>3412.0</td>\n",
       "      <td>0</td>\n",
       "      <td>0</td>\n",
       "    </tr>\n",
       "    <tr>\n",
       "      <th>4</th>\n",
       "      <td>0.0</td>\n",
       "      <td>0.0</td>\n",
       "      <td>1.0</td>\n",
       "      <td>0.0</td>\n",
       "      <td>0.0</td>\n",
       "      <td>0.0</td>\n",
       "      <td>1</td>\n",
       "      <td>3.0</td>\n",
       "      <td>1.1</td>\n",
       "      <td>1.0</td>\n",
       "      <td>1.0</td>\n",
       "      <td>4.769377</td>\n",
       "      <td>0.0</td>\n",
       "      <td>1.0</td>\n",
       "      <td>2.5</td>\n",
       "      <td>0.0</td>\n",
       "      <td>3</td>\n",
       "      <td>22</td>\n",
       "      <td>22</td>\n",
       "      <td>6</td>\n",
       "      <td>1130.0</td>\n",
       "      <td>0</td>\n",
       "      <td>0</td>\n",
       "    </tr>\n",
       "    <tr>\n",
       "      <th>...</th>\n",
       "      <td>...</td>\n",
       "      <td>...</td>\n",
       "      <td>...</td>\n",
       "      <td>...</td>\n",
       "      <td>...</td>\n",
       "      <td>...</td>\n",
       "      <td>...</td>\n",
       "      <td>...</td>\n",
       "      <td>...</td>\n",
       "      <td>...</td>\n",
       "      <td>...</td>\n",
       "      <td>...</td>\n",
       "      <td>...</td>\n",
       "      <td>...</td>\n",
       "      <td>...</td>\n",
       "      <td>...</td>\n",
       "      <td>...</td>\n",
       "      <td>...</td>\n",
       "      <td>...</td>\n",
       "      <td>...</td>\n",
       "      <td>...</td>\n",
       "      <td>...</td>\n",
       "      <td>...</td>\n",
       "    </tr>\n",
       "    <tr>\n",
       "      <th>174995</th>\n",
       "      <td>0.0</td>\n",
       "      <td>0.0</td>\n",
       "      <td>1.0</td>\n",
       "      <td>0.0</td>\n",
       "      <td>0.0</td>\n",
       "      <td>0.0</td>\n",
       "      <td>1</td>\n",
       "      <td>3.0</td>\n",
       "      <td>3.45</td>\n",
       "      <td>1.0</td>\n",
       "      <td>1.0</td>\n",
       "      <td>8.732495</td>\n",
       "      <td>0.0</td>\n",
       "      <td>1.0</td>\n",
       "      <td>2.5</td>\n",
       "      <td>0.0</td>\n",
       "      <td>4</td>\n",
       "      <td>22</td>\n",
       "      <td>22</td>\n",
       "      <td>6</td>\n",
       "      <td>1715.0</td>\n",
       "      <td>0</td>\n",
       "      <td>0</td>\n",
       "    </tr>\n",
       "    <tr>\n",
       "      <th>174996</th>\n",
       "      <td>0.0</td>\n",
       "      <td>1.0</td>\n",
       "      <td>0.0</td>\n",
       "      <td>0.0</td>\n",
       "      <td>0.0</td>\n",
       "      <td>0.0</td>\n",
       "      <td>1</td>\n",
       "      <td>1.0</td>\n",
       "      <td>9.44</td>\n",
       "      <td>1.0</td>\n",
       "      <td>5.0</td>\n",
       "      <td>0.283275</td>\n",
       "      <td>0.0</td>\n",
       "      <td>1.0</td>\n",
       "      <td>2.5</td>\n",
       "      <td>1.75</td>\n",
       "      <td>4</td>\n",
       "      <td>13</td>\n",
       "      <td>14</td>\n",
       "      <td>6</td>\n",
       "      <td>3684.0</td>\n",
       "      <td>0</td>\n",
       "      <td>0</td>\n",
       "    </tr>\n",
       "    <tr>\n",
       "      <th>174997</th>\n",
       "      <td>0.0</td>\n",
       "      <td>0.0</td>\n",
       "      <td>1.0</td>\n",
       "      <td>0.0</td>\n",
       "      <td>0.0</td>\n",
       "      <td>0.0</td>\n",
       "      <td>0</td>\n",
       "      <td>1.0</td>\n",
       "      <td>2.4</td>\n",
       "      <td>1.0</td>\n",
       "      <td>2.5</td>\n",
       "      <td>4.245354</td>\n",
       "      <td>0.0</td>\n",
       "      <td>1.0</td>\n",
       "      <td>2.5</td>\n",
       "      <td>0.0</td>\n",
       "      <td>3</td>\n",
       "      <td>11</td>\n",
       "      <td>12</td>\n",
       "      <td>6</td>\n",
       "      <td>4202.0</td>\n",
       "      <td>0</td>\n",
       "      <td>0</td>\n",
       "    </tr>\n",
       "    <tr>\n",
       "      <th>174998</th>\n",
       "      <td>0.0</td>\n",
       "      <td>0.0</td>\n",
       "      <td>1.0</td>\n",
       "      <td>0.0</td>\n",
       "      <td>0.0</td>\n",
       "      <td>0.0</td>\n",
       "      <td>1</td>\n",
       "      <td>1.0</td>\n",
       "      <td>4.71</td>\n",
       "      <td>1.0</td>\n",
       "      <td>2.5</td>\n",
       "      <td>10.479776</td>\n",
       "      <td>0.0</td>\n",
       "      <td>1.0</td>\n",
       "      <td>2.5</td>\n",
       "      <td>0.0</td>\n",
       "      <td>3</td>\n",
       "      <td>19</td>\n",
       "      <td>19</td>\n",
       "      <td>6</td>\n",
       "      <td>2302.0</td>\n",
       "      <td>0</td>\n",
       "      <td>0</td>\n",
       "    </tr>\n",
       "    <tr>\n",
       "      <th>174999</th>\n",
       "      <td>0.0</td>\n",
       "      <td>0.0</td>\n",
       "      <td>1.0</td>\n",
       "      <td>0.0</td>\n",
       "      <td>0.0</td>\n",
       "      <td>0.0</td>\n",
       "      <td>1</td>\n",
       "      <td>1.0</td>\n",
       "      <td>1.01</td>\n",
       "      <td>1.0</td>\n",
       "      <td>1.0</td>\n",
       "      <td>6.541699</td>\n",
       "      <td>0.0</td>\n",
       "      <td>1.0</td>\n",
       "      <td>2.5</td>\n",
       "      <td>0.0</td>\n",
       "      <td>4</td>\n",
       "      <td>21</td>\n",
       "      <td>22</td>\n",
       "      <td>6</td>\n",
       "      <td>5279.0</td>\n",
       "      <td>0</td>\n",
       "      <td>0</td>\n",
       "    </tr>\n",
       "  </tbody>\n",
       "</table>\n",
       "<p>175000 rows × 23 columns</p>\n",
       "</div>"
      ],
      "text/plain": [
       "       store_and_fwd_flag_encoded payment_type_Cash payment_type_Credit Card  \\\n",
       "0                             0.0               0.0                      1.0   \n",
       "1                             0.0               0.0                      1.0   \n",
       "2                             0.0               0.0                      1.0   \n",
       "3                             0.0               0.0                      1.0   \n",
       "4                             0.0               0.0                      1.0   \n",
       "...                           ...               ...                      ...   \n",
       "174995                        0.0               0.0                      1.0   \n",
       "174996                        0.0               1.0                      0.0   \n",
       "174997                        0.0               0.0                      1.0   \n",
       "174998                        0.0               0.0                      1.0   \n",
       "174999                        0.0               0.0                      1.0   \n",
       "\n",
       "       payment_type_UPI payment_type_Wallet payment_type_unknown VendorID  \\\n",
       "0                   0.0                 0.0                  0.0        1   \n",
       "1                   0.0                 0.0                  0.0        0   \n",
       "2                   0.0                 0.0                  0.0        1   \n",
       "3                   0.0                 0.0                  0.0        0   \n",
       "4                   0.0                 0.0                  0.0        1   \n",
       "...                 ...                 ...                  ...      ...   \n",
       "174995              0.0                 0.0                  0.0        1   \n",
       "174996              0.0                 0.0                  0.0        1   \n",
       "174997              0.0                 0.0                  0.0        0   \n",
       "174998              0.0                 0.0                  0.0        1   \n",
       "174999              0.0                 0.0                  0.0        1   \n",
       "\n",
       "       passenger_count trip_distance RatecodeID extra tip_amount tolls_amount  \\\n",
       "0                  1.0          2.14        1.0   2.5   7.165589          0.0   \n",
       "1                  1.0           2.7        1.0   3.5   6.067401          0.0   \n",
       "2                  1.0          1.15        1.0   0.0   4.111547          0.0   \n",
       "3                  1.0           0.4        1.0   2.5   6.411079          0.0   \n",
       "4                  3.0           1.1        1.0   1.0   4.769377          0.0   \n",
       "...                ...           ...        ...   ...        ...          ...   \n",
       "174995             3.0          3.45        1.0   1.0   8.732495          0.0   \n",
       "174996             1.0          9.44        1.0   5.0   0.283275          0.0   \n",
       "174997             1.0           2.4        1.0   2.5   4.245354          0.0   \n",
       "174998             1.0          4.71        1.0   2.5  10.479776          0.0   \n",
       "174999             1.0          1.01        1.0   1.0   6.541699          0.0   \n",
       "\n",
       "       improvement_surcharge congestion_surcharge Airport_fee  \\\n",
       "0                        1.0                  2.5         0.0   \n",
       "1                        1.0                  2.5         0.0   \n",
       "2                        1.0                  2.5         0.0   \n",
       "3                        1.0                  2.5         0.0   \n",
       "4                        1.0                  2.5         0.0   \n",
       "...                      ...                  ...         ...   \n",
       "174995                   1.0                  2.5         0.0   \n",
       "174996                   1.0                  2.5        1.75   \n",
       "174997                   1.0                  2.5         0.0   \n",
       "174998                   1.0                  2.5         0.0   \n",
       "174999                   1.0                  2.5         0.0   \n",
       "\n",
       "       pickup_dayofweek pickup_hour dropoff_hour dropoff_month trip_duration  \\\n",
       "0                     2          17           16             6        2736.0   \n",
       "1                     3          23           22             6        3806.0   \n",
       "2                     4          10           11             6        3219.0   \n",
       "3                     3          13           14             6        3412.0   \n",
       "4                     3          22           22             6        1130.0   \n",
       "...                 ...         ...          ...           ...           ...   \n",
       "174995                4          22           22             6        1715.0   \n",
       "174996                4          13           14             6        3684.0   \n",
       "174997                3          11           12             6        4202.0   \n",
       "174998                3          19           19             6        2302.0   \n",
       "174999                4          21           22             6        5279.0   \n",
       "\n",
       "       time_cluster tip_cluster  \n",
       "0                 0           0  \n",
       "1                 0           0  \n",
       "2                 0           0  \n",
       "3                 0           0  \n",
       "4                 0           0  \n",
       "...             ...         ...  \n",
       "174995            0           0  \n",
       "174996            0           0  \n",
       "174997            0           0  \n",
       "174998            0           0  \n",
       "174999            0           0  \n",
       "\n",
       "[175000 rows x 23 columns]"
      ]
     },
     "execution_count": 39,
     "metadata": {},
     "output_type": "execute_result"
    }
   ],
   "source": [
    "combined_data"
   ]
  },
  {
   "cell_type": "code",
   "execution_count": 40,
   "id": "84a117e6",
   "metadata": {
    "execution": {
     "iopub.execute_input": "2023-12-15T06:50:45.449059Z",
     "iopub.status.busy": "2023-12-15T06:50:45.448661Z",
     "iopub.status.idle": "2023-12-15T06:53:49.235835Z",
     "shell.execute_reply": "2023-12-15T06:53:49.234568Z"
    },
    "papermill": {
     "duration": 183.828767,
     "end_time": "2023-12-15T06:53:49.239024",
     "exception": false,
     "start_time": "2023-12-15T06:50:45.410257",
     "status": "completed"
    },
    "tags": []
   },
   "outputs": [],
   "source": [
    "from sklearn.impute import KNNImputer\n",
    "\n",
    "imputer = KNNImputer(n_neighbors=6)\n",
    "\n",
    "imputed_data = imputer.fit_transform(combined_data)\n",
    "\n",
    "combined_data = pd.DataFrame(imputed_data, columns=combined_data.columns)"
   ]
  },
  {
   "cell_type": "markdown",
   "id": "a79b3ddb",
   "metadata": {
    "papermill": {
     "duration": 0.036378,
     "end_time": "2023-12-15T06:53:49.312417",
     "exception": false,
     "start_time": "2023-12-15T06:53:49.276039",
     "status": "completed"
    },
    "tags": []
   },
   "source": [
    "## Scaling"
   ]
  },
  {
   "cell_type": "code",
   "execution_count": 41,
   "id": "f2bda719",
   "metadata": {
    "execution": {
     "iopub.execute_input": "2023-12-15T06:53:49.387624Z",
     "iopub.status.busy": "2023-12-15T06:53:49.387180Z",
     "iopub.status.idle": "2023-12-15T06:53:49.759173Z",
     "shell.execute_reply": "2023-12-15T06:53:49.757943Z"
    },
    "papermill": {
     "duration": 0.412469,
     "end_time": "2023-12-15T06:53:49.761710",
     "exception": false,
     "start_time": "2023-12-15T06:53:49.349241",
     "status": "completed"
    },
    "tags": []
   },
   "outputs": [
    {
     "data": {
      "image/png": "[encoded data removed]",
      "text/plain": [
       "<Figure size 800x600 with 1 Axes>"
      ]
     },
     "metadata": {},
     "output_type": "display_data"
    }
   ],
   "source": [
    "import matplotlib.pyplot as plt\n",
    "\n",
    "fare_data = data['total_amount']\n",
    "\n",
    "plt.figure(figsize=(8, 6))\n",
    "plt.hist(fare_data, bins=30, color='skyblue', edgecolor='black')\n",
    "plt.title('Histogram of Cab Fares')\n",
    "plt.xlabel('Fare Amount')\n",
    "plt.ylabel('Frequency')\n",
    "plt.grid(True)\n",
    "plt.show()"
   ]
  },
  {
   "cell_type": "code",
   "execution_count": 42,
   "id": "646902d7",
   "metadata": {
    "execution": {
     "iopub.execute_input": "2023-12-15T06:53:49.840545Z",
     "iopub.status.busy": "2023-12-15T06:53:49.839743Z",
     "iopub.status.idle": "2023-12-15T06:53:49.853116Z",
     "shell.execute_reply": "2023-12-15T06:53:49.851948Z"
    },
    "papermill": {
     "duration": 0.055821,
     "end_time": "2023-12-15T06:53:49.855622",
     "exception": false,
     "start_time": "2023-12-15T06:53:49.799801",
     "status": "completed"
    },
    "tags": []
   },
   "outputs": [
    {
     "name": "stdout",
     "output_type": "stream",
     "text": [
      "Shapiro-Wilk Test\n",
      "Statistic: 0.7024597525596619 P-value: 9.906790581803374e-39\n"
     ]
    }
   ],
   "source": [
    "import pandas as pd\n",
    "import scipy.stats as stats\n",
    "import matplotlib.pyplot as plt\n",
    "\n",
    "sampled_data = target.sample(1000, random_state=42)\n",
    "\n",
    "stat, p_value_shapiro = stats.shapiro(sampled_data)\n",
    "print(\"Shapiro-Wilk Test\")\n",
    "print(\"Statistic:\", stat, \"P-value:\", p_value_shapiro)"
   ]
  },
  {
   "cell_type": "code",
   "execution_count": 43,
   "id": "bd3ec0f6",
   "metadata": {
    "execution": {
     "iopub.execute_input": "2023-12-15T06:53:49.936168Z",
     "iopub.status.busy": "2023-12-15T06:53:49.935170Z",
     "iopub.status.idle": "2023-12-15T06:53:49.992286Z",
     "shell.execute_reply": "2023-12-15T06:53:49.991117Z"
    },
    "papermill": {
     "duration": 0.101065,
     "end_time": "2023-12-15T06:53:49.995282",
     "exception": false,
     "start_time": "2023-12-15T06:53:49.894217",
     "status": "completed"
    },
    "tags": []
   },
   "outputs": [],
   "source": [
    "from sklearn.preprocessing import StandardScaler\n",
    "\n",
    "scaler = StandardScaler()\n",
    "scaled_features = scaler.fit_transform(combined_data)"
   ]
  },
  {
   "cell_type": "code",
   "execution_count": 44,
   "id": "9abed7a2",
   "metadata": {
    "execution": {
     "iopub.execute_input": "2023-12-15T06:53:50.076499Z",
     "iopub.status.busy": "2023-12-15T06:53:50.076087Z",
     "iopub.status.idle": "2023-12-15T06:53:50.117346Z",
     "shell.execute_reply": "2023-12-15T06:53:50.115956Z"
    },
    "papermill": {
     "duration": 0.085278,
     "end_time": "2023-12-15T06:53:50.120342",
     "exception": false,
     "start_time": "2023-12-15T06:53:50.035064",
     "status": "completed"
    },
    "tags": []
   },
   "outputs": [],
   "source": [
    "from sklearn.preprocessing import MinMaxScaler\n",
    "\n",
    "scaler = MinMaxScaler()\n",
    "scaled_features = scaler.fit_transform(combined_data)"
   ]
  },
  {
   "cell_type": "markdown",
   "id": "cfe92477",
   "metadata": {
    "papermill": {
     "duration": 0.037046,
     "end_time": "2023-12-15T06:53:50.194641",
     "exception": false,
     "start_time": "2023-12-15T06:53:50.157595",
     "status": "completed"
    },
    "tags": []
   },
   "source": [
    "I finally **opted to use MinMaxScaler** as it scales features to a specific range, between 0 and 1, preserving the relative distances between data points. This scaling might be more intuitive or interpretable in a dataset that contains multiple categorical datapoints compared to the mean-centered and variance-scaled features by StandardScaler."
   ]
  },
  {
   "cell_type": "markdown",
   "id": "cfbae803",
   "metadata": {
    "papermill": {
     "duration": 0.037506,
     "end_time": "2023-12-15T06:53:50.269757",
     "exception": false,
     "start_time": "2023-12-15T06:53:50.232251",
     "status": "completed"
    },
    "tags": []
   },
   "source": [
    "## Model"
   ]
  },
  {
   "cell_type": "code",
   "execution_count": 45,
   "id": "4f84e51d",
   "metadata": {
    "execution": {
     "iopub.execute_input": "2023-12-15T06:53:50.346825Z",
     "iopub.status.busy": "2023-12-15T06:53:50.346346Z",
     "iopub.status.idle": "2023-12-15T06:53:50.353477Z",
     "shell.execute_reply": "2023-12-15T06:53:50.352173Z"
    },
    "papermill": {
     "duration": 0.048758,
     "end_time": "2023-12-15T06:53:50.356018",
     "exception": false,
     "start_time": "2023-12-15T06:53:50.307260",
     "status": "completed"
    },
    "tags": []
   },
   "outputs": [],
   "source": [
    "from sklearn.model_selection import cross_val_score\n",
    "from sklearn.preprocessing import PolynomialFeatures, StandardScaler\n",
    "from sklearn.linear_model import LinearRegression\n",
    "from sklearn.pipeline import Pipeline\n",
    "import numpy as np\n",
    "import pandas as pd\n",
    "import numpy as np\n",
    "from sklearn.model_selection import train_test_split\n",
    "from sklearn.linear_model import LinearRegression\n",
    "from sklearn.metrics import mean_squared_error, r2_score\n",
    "from sklearn.preprocessing import LabelEncoder"
   ]
  },
  {
   "cell_type": "code",
   "execution_count": 46,
   "id": "0782f32b",
   "metadata": {
    "execution": {
     "iopub.execute_input": "2023-12-15T06:53:50.432801Z",
     "iopub.status.busy": "2023-12-15T06:53:50.432360Z",
     "iopub.status.idle": "2023-12-15T06:53:50.502622Z",
     "shell.execute_reply": "2023-12-15T06:53:50.501322Z"
    },
    "papermill": {
     "duration": 0.111885,
     "end_time": "2023-12-15T06:53:50.505311",
     "exception": false,
     "start_time": "2023-12-15T06:53:50.393426",
     "status": "completed"
    },
    "tags": []
   },
   "outputs": [
    {
     "data": {
      "text/plain": [
       "(140000, 23)"
      ]
     },
     "execution_count": 46,
     "metadata": {},
     "output_type": "execute_result"
    }
   ],
   "source": [
    "X_train, X_test, y_train, y_test = train_test_split(scaled_features, target, test_size=0.2, random_state=42)\n",
    "X_train.shape"
   ]
  },
  {
   "cell_type": "markdown",
   "id": "b0209fa2",
   "metadata": {
    "papermill": {
     "duration": 0.037192,
     "end_time": "2023-12-15T06:53:50.581431",
     "exception": false,
     "start_time": "2023-12-15T06:53:50.544239",
     "status": "completed"
    },
    "tags": []
   },
   "source": [
    "## Model 1 - A Linear Regression Model"
   ]
  },
  {
   "cell_type": "code",
   "execution_count": 47,
   "id": "45e8ac6e",
   "metadata": {
    "execution": {
     "iopub.execute_input": "2023-12-15T06:53:50.658116Z",
     "iopub.status.busy": "2023-12-15T06:53:50.657614Z",
     "iopub.status.idle": "2023-12-15T06:53:50.804537Z",
     "shell.execute_reply": "2023-12-15T06:53:50.802928Z"
    },
    "papermill": {
     "duration": 0.190206,
     "end_time": "2023-12-15T06:53:50.809149",
     "exception": false,
     "start_time": "2023-12-15T06:53:50.618943",
     "status": "completed"
    },
    "tags": []
   },
   "outputs": [
    {
     "data": {
      "text/html": [
       "<style>#sk-container-id-3 {color: black;background-color: white;}#sk-container-id-3 pre{padding: 0;}#sk-container-id-3 div.sk-toggleable {background-color: white;}#sk-container-id-3 label.sk-toggleable__label {cursor: pointer;display: block;width: 100%;margin-bottom: 0;padding: 0.3em;box-sizing: border-box;text-align: center;}#sk-container-id-3 label.sk-toggleable__label-arrow:before {content: \"▸\";float: left;margin-right: 0.25em;color: #696969;}#sk-container-id-3 label.sk-toggleable__label-arrow:hover:before {color: black;}#sk-container-id-3 div.sk-estimator:hover label.sk-toggleable__label-arrow:before {color: black;}#sk-container-id-3 div.sk-toggleable__content {max-height: 0;max-width: 0;overflow: hidden;text-align: left;background-color: #f0f8ff;}#sk-container-id-3 div.sk-toggleable__content pre {margin: 0.2em;color: black;border-radius: 0.25em;background-color: #f0f8ff;}#sk-container-id-3 input.sk-toggleable__control:checked~div.sk-toggleable__content {max-height: 200px;max-width: 100%;overflow: auto;}#sk-container-id-3 input.sk-toggleable__control:checked~label.sk-toggleable__label-arrow:before {content: \"▾\";}#sk-container-id-3 div.sk-estimator input.sk-toggleable__control:checked~label.sk-toggleable__label {background-color: #d4ebff;}#sk-container-id-3 div.sk-label input.sk-toggleable__control:checked~label.sk-toggleable__label {background-color: #d4ebff;}#sk-container-id-3 input.sk-hidden--visually {border: 0;clip: rect(1px 1px 1px 1px);clip: rect(1px, 1px, 1px, 1px);height: 1px;margin: -1px;overflow: hidden;padding: 0;position: absolute;width: 1px;}#sk-container-id-3 div.sk-estimator {font-family: monospace;background-color: #f0f8ff;border: 1px dotted black;border-radius: 0.25em;box-sizing: border-box;margin-bottom: 0.5em;}#sk-container-id-3 div.sk-estimator:hover {background-color: #d4ebff;}#sk-container-id-3 div.sk-parallel-item::after {content: \"\";width: 100%;border-bottom: 1px solid gray;flex-grow: 1;}#sk-container-id-3 div.sk-label:hover label.sk-toggleable__label {background-color: #d4ebff;}#sk-container-id-3 div.sk-serial::before {content: \"\";position: absolute;border-left: 1px solid gray;box-sizing: border-box;top: 0;bottom: 0;left: 50%;z-index: 0;}#sk-container-id-3 div.sk-serial {display: flex;flex-direction: column;align-items: center;background-color: white;padding-right: 0.2em;padding-left: 0.2em;position: relative;}#sk-container-id-3 div.sk-item {position: relative;z-index: 1;}#sk-container-id-3 div.sk-parallel {display: flex;align-items: stretch;justify-content: center;background-color: white;position: relative;}#sk-container-id-3 div.sk-item::before, #sk-container-id-3 div.sk-parallel-item::before {content: \"\";position: absolute;border-left: 1px solid gray;box-sizing: border-box;top: 0;bottom: 0;left: 50%;z-index: -1;}#sk-container-id-3 div.sk-parallel-item {display: flex;flex-direction: column;z-index: 1;position: relative;background-color: white;}#sk-container-id-3 div.sk-parallel-item:first-child::after {align-self: flex-end;width: 50%;}#sk-container-id-3 div.sk-parallel-item:last-child::after {align-self: flex-start;width: 50%;}#sk-container-id-3 div.sk-parallel-item:only-child::after {width: 0;}#sk-container-id-3 div.sk-dashed-wrapped {border: 1px dashed gray;margin: 0 0.4em 0.5em 0.4em;box-sizing: border-box;padding-bottom: 0.4em;background-color: white;}#sk-container-id-3 div.sk-label label {font-family: monospace;font-weight: bold;display: inline-block;line-height: 1.2em;}#sk-container-id-3 div.sk-label-container {text-align: center;}#sk-container-id-3 div.sk-container {/* jupyter's `normalize.less` sets `[hidden] { display: none; }` but bootstrap.min.css set `[hidden] { display: none !important; }` so we also need the `!important` here to be able to override the default hidden behavior on the sphinx rendered scikit-learn.org. See: https://github.com/scikit-learn/scikit-learn/issues/21755 */display: inline-block !important;position: relative;}#sk-container-id-3 div.sk-text-repr-fallback {display: none;}</style><div id=\"sk-container-id-3\" class=\"sk-top-container\"><div class=\"sk-text-repr-fallback\"><pre>LinearRegression()</pre><b>In a Jupyter environment, please rerun this cell to show the HTML representation or trust the notebook. <br />On GitHub, the HTML representation is unable to render, please try loading this page with nbviewer.org.</b></div><div class=\"sk-container\" hidden><div class=\"sk-item\"><div class=\"sk-estimator sk-toggleable\"><input class=\"sk-toggleable__control sk-hidden--visually\" id=\"sk-estimator-id-3\" type=\"checkbox\" checked><label for=\"sk-estimator-id-3\" class=\"sk-toggleable__label sk-toggleable__label-arrow\">LinearRegression</label><div class=\"sk-toggleable__content\"><pre>LinearRegression()</pre></div></div></div></div></div>"
      ],
      "text/plain": [
       "LinearRegression()"
      ]
     },
     "execution_count": 47,
     "metadata": {},
     "output_type": "execute_result"
    }
   ],
   "source": [
    "new_model = LinearRegression()\n",
    "new_model.fit(X_train, y_train)"
   ]
  },
  {
   "cell_type": "markdown",
   "id": "4075b942",
   "metadata": {
    "papermill": {
     "duration": 0.043636,
     "end_time": "2023-12-15T06:53:50.934895",
     "exception": false,
     "start_time": "2023-12-15T06:53:50.891259",
     "status": "completed"
    },
    "tags": []
   },
   "source": [
    "**Using just the basic Linear Regression Model, we check the R^2 for different ways of preprocessing to check how it works**"
   ]
  },
  {
   "cell_type": "markdown",
   "id": "c01b18f2",
   "metadata": {
    "papermill": {
     "duration": 0.038422,
     "end_time": "2023-12-15T06:53:51.012232",
     "exception": false,
     "start_time": "2023-12-15T06:53:50.973810",
     "status": "completed"
    },
    "tags": []
   },
   "source": [
    "### Using manual categorisation (morning - afternoon - night)\n",
    "* R^2 on training set: 0.7276043152731864\n",
    "* R^2 on test set: 0.7243290660562227\n",
    "\n",
    "### Using K-means elbow method (n_means = 3)\n",
    "* R^2 on training set: 0.7275216035994128\n",
    "* R^2 on test set: 0.7241809723865218\n",
    "\n",
    "### Using K-means elbow method (n_means = 2)\n",
    "* R^2 on training set: 0.7284557898141801\n",
    "* R^2 on test set: 0.7252344782187111\n",
    "\n",
    "### Adding Dummy Variable (does not change error)\n",
    "* R^2 on training set: 0.7284557898141801\n",
    "* R^2 on test set: 0.7252344782187111\n",
    "\n",
    "### By Including Frequency Encoding of PULocationID and DOLocationID\n",
    "* R^2 on training set: 0.7285059350475068\n",
    "* R^2 on test set: 0.7253179835640304\n",
    "\n",
    "### By Making a Distance Category\n",
    "* R^2 on training set: 0.728491584235275\n",
    "* R^2 on test set: 0.7252734021414668\n",
    "\n",
    "### By Making a Distance Category\n",
    "* R^2 on training set: 0.728491584235275\n",
    "* R^2 on test set: 0.7252734021414668\n",
    "\n",
    "### With Time and Tip Cluster with KNNImputer n_neighbors = 5\n",
    "* R^2 on training set: 0.7354880722067716\n",
    "* R^2 on test set: 0.730049175183312\n",
    "\n",
    "### With Time and Tip Cluster with KNNImputer n_neighbors = 6\n",
    "* R^2 on training set: 0.7355012560341144\n",
    "* R^2 on test set: 0.7299435714526279"
   ]
  },
  {
   "cell_type": "code",
   "execution_count": 48,
   "id": "99ae89be",
   "metadata": {
    "execution": {
     "iopub.execute_input": "2023-12-15T06:53:51.092717Z",
     "iopub.status.busy": "2023-12-15T06:53:51.091382Z",
     "iopub.status.idle": "2023-12-15T06:53:51.115663Z",
     "shell.execute_reply": "2023-12-15T06:53:51.113957Z"
    },
    "papermill": {
     "duration": 0.069849,
     "end_time": "2023-12-15T06:53:51.120613",
     "exception": false,
     "start_time": "2023-12-15T06:53:51.050764",
     "status": "completed"
    },
    "tags": []
   },
   "outputs": [
    {
     "name": "stdout",
     "output_type": "stream",
     "text": [
      "R^2 on training set: 0.7355012560341144\n",
      "R^2 on test set: 0.7299435714526279\n"
     ]
    }
   ],
   "source": [
    "r2_train = new_model.score(X_train, y_train)\n",
    "\n",
    "r2_test = new_model.score(X_test, y_test)\n",
    "\n",
    "print(f\"R^2 on training set: {r2_train}\")\n",
    "print(f\"R^2 on test set: {r2_test}\")"
   ]
  },
  {
   "cell_type": "markdown",
   "id": "58bbbba4",
   "metadata": {
    "papermill": {
     "duration": 0.050943,
     "end_time": "2023-12-15T06:53:51.256267",
     "exception": false,
     "start_time": "2023-12-15T06:53:51.205324",
     "status": "completed"
    },
    "tags": []
   },
   "source": [
    "## Different Linear Models and their test R^2\n",
    "\n",
    "#### Lasso Model\n",
    "* **Alpha: 0.001**\n",
    "* R^2 on training set: 0.7284713139200886\n",
    "* R^2 on test set: 0.7250251061750189\n",
    "\n",
    "\n",
    "* **Alpha: 0.01**\n",
    "* R^2 on training set: 0.7248764836478507\n",
    "* R^2 on test set: 0.7190555330927018\n",
    "\n",
    "\n",
    "* **Alpha: 0.1**\n",
    "* R^2 on training set: 0.5822276552207414\n",
    "* R^2 on test set: 0.567858192960462\n",
    "\n",
    "\n",
    "* **Alpha: 1**\n",
    "* R^2 on training set: 0.2885617906691095\n",
    "* R^2 on test set: 0.28231194947821625\n",
    "\n",
    "\n",
    "* **Alpha: 10**\n",
    "* R^2 on training set: 0.0\n",
    "* R^2 on test set: -3.7584352301278656e-05\n",
    "\n",
    "\n",
    "#### Ridge\n",
    "* R^2 on training set: 0.7274397793988513\n",
    "* R^2 on test set: 0.7221796010935891\n",
    "\n",
    "#### ElasticNet\n",
    "* Best parameters: {'l1_ratio': 1.0, 'alpha': 0.0005336699231206312}\n",
    "* Mean Squared Error: 178.84109394961405\n",
    "* R-squared: 0.725180401281129\n"
   ]
  },
  {
   "cell_type": "markdown",
   "id": "4d158a8b",
   "metadata": {
    "papermill": {
     "duration": 0.038245,
     "end_time": "2023-12-15T06:53:51.333917",
     "exception": false,
     "start_time": "2023-12-15T06:53:51.295672",
     "status": "completed"
    },
    "tags": []
   },
   "source": [
    "## Model 2 - A RandomForestRegression"
   ]
  },
  {
   "cell_type": "code",
   "execution_count": 49,
   "id": "9b3dabe0",
   "metadata": {
    "execution": {
     "iopub.execute_input": "2023-12-15T06:53:51.412178Z",
     "iopub.status.busy": "2023-12-15T06:53:51.411719Z",
     "iopub.status.idle": "2023-12-15T06:53:51.418275Z",
     "shell.execute_reply": "2023-12-15T06:53:51.416858Z"
    },
    "papermill": {
     "duration": 0.04868,
     "end_time": "2023-12-15T06:53:51.420917",
     "exception": false,
     "start_time": "2023-12-15T06:53:51.372237",
     "status": "completed"
    },
    "tags": []
   },
   "outputs": [],
   "source": [
    "import numpy as np\n",
    "import pandas as pd\n",
    "from sklearn.model_selection import train_test_split\n",
    "from sklearn.ensemble import RandomForestRegressor\n",
    "from sklearn.metrics import mean_squared_error, r2_score"
   ]
  },
  {
   "cell_type": "markdown",
   "id": "f0cac039",
   "metadata": {
    "papermill": {
     "duration": 0.037505,
     "end_time": "2023-12-15T06:53:51.496171",
     "exception": false,
     "start_time": "2023-12-15T06:53:51.458666",
     "status": "completed"
    },
    "tags": []
   },
   "source": [
    "from sklearn.ensemble import RandomForestRegressor\n",
    "from sklearn.model_selection import GridSearchCV\n",
    "\n",
    "param_grid = {\n",
    "    'n_estimators': [100, 200, 300],\n",
    "    'max_features': ['sqrt', 'log2'],\n",
    "    'max_depth': [4, 6, 8, 10],\n",
    "    'min_samples_split': [2, 5, 10],\n",
    "    'min_samples_leaf': [1, 2, 4]\n",
    "}\n",
    "\n",
    "rf = RandomForestRegressor(random_state=42)\n",
    "\n",
    "grid_search = GridSearchCV(estimator=rf, param_grid=param_grid, \n",
    "                           cv=3, n_jobs=-1, verbose=2, scoring='r2')\n",
    "\n",
    "grid_search.fit(X_train, y_train)\n",
    "\n",
    "print(\"Best parameters found: \", grid_search.best_params_)"
   ]
  },
  {
   "cell_type": "markdown",
   "id": "bc390a42",
   "metadata": {
    "papermill": {
     "duration": 0.037523,
     "end_time": "2023-12-15T06:53:51.571530",
     "exception": false,
     "start_time": "2023-12-15T06:53:51.534007",
     "status": "completed"
    },
    "tags": []
   },
   "source": [
    "y_pred = grid_search.best_estimator_.predict(X_test)\n",
    "\n",
    "mse = mean_squared_error(y_test, y_pred)\n",
    "r2 = r2_score(y_test, y_pred)\n",
    "\n",
    "print(f\"Mean Squared Error (MSE): {mse}\")\n",
    "print(f\"R-squared (R2): {r2}\")\n",
    "\n",
    "feature_importances = grid_search.best_estimator_.feature_importances_\n",
    "print(\"Feature Importances:\")\n",
    "for i, importance in enumerate(feature_importances):\n",
    "    print(f\"Feature {i + 1}: {importance:.2f}\")"
   ]
  },
  {
   "cell_type": "markdown",
   "id": "2ed46308",
   "metadata": {
    "papermill": {
     "duration": 0.038153,
     "end_time": "2023-12-15T06:53:51.647828",
     "exception": false,
     "start_time": "2023-12-15T06:53:51.609675",
     "status": "completed"
    },
    "tags": []
   },
   "source": [
    "Here, the best model from the Hyperparameter-tuned Model does not provide the best R^2\n",
    "\n",
    "##### R-squared (R2): 0.83429130\n",
    "\n",
    "**GridSearchCV** explores a predefined grid of hyperparameters. In certain scenarios, the complexity of the problem might require a more nuanced exploration of the hyperparameter space, which the predefined grid might not cover comprehensively.\n",
    "\n",
    "**Manual hyperparameter tuning** can be time-consuming and requires a good understanding of the algorithm and problem domain. However, it can often yield better-tuned models that generalize well to unseen data compared to purely automated hyperparameter optimization techniques, especially when dealing with complex algorithms and datasets."
   ]
  },
  {
   "cell_type": "markdown",
   "id": "227415f4",
   "metadata": {
    "papermill": {
     "duration": 0.037682,
     "end_time": "2023-12-15T06:53:51.723889",
     "exception": false,
     "start_time": "2023-12-15T06:53:51.686207",
     "status": "completed"
    },
    "tags": []
   },
   "source": [
    "from sklearn.ensemble import RandomForestRegressor\n",
    "from sklearn.model_selection import cross_val_score\n",
    "from sklearn.metrics import mean_squared_error\n",
    "import numpy as np\n",
    "from sklearn.ensemble import RandomForestRegressor\n",
    "from sklearn.model_selection import cross_val_score\n",
    "\n",
    "new_rf_regressor = RandomForestRegressor(random_state=42, n_estimators = 400)\n",
    "\n",
    "cv_scores = cross_val_score(rf_regressor_1, scaled_features, target, cv=5, scoring='r2')\n",
    "\n",
    "print(\"R² scores for each fold:\", cv_scores)\n",
    "print(\"Average R²:\", np.mean(cv_scores))"
   ]
  },
  {
   "cell_type": "markdown",
   "id": "77596fdd",
   "metadata": {
    "papermill": {
     "duration": 0.037936,
     "end_time": "2023-12-15T06:53:51.801050",
     "exception": false,
     "start_time": "2023-12-15T06:53:51.763114",
     "status": "completed"
    },
    "tags": []
   },
   "source": [
    "### Cross-validated score with n_estimators = 200\n",
    "* R² scores for each fold: [0.91840647, 0.95079546, 0.95253215, 0.94484538, 0.95143161]\n",
    "* Average R²: 0.9436022146118045\n",
    "\n",
    "### Cross-validated score with n_estimators = 300\n",
    "* R² scores for each fold: [0.91954327, 0.95140803, 0.9526156,  0.94483804, 0.95156656]\n",
    "* Average R²: 0.9439943013517993\n",
    "\n",
    "### Cross-validated score with n_estimators = 300, min_samples_leaf = 1\n",
    "* R² scores for each fold: [0.91954327 0.95140803 0.9526156  0.94483804 0.95156656]\n",
    "* Average R²: 0.9439943013517993\n",
    "\n",
    "### Cross-validated score with n_estimators = 300, max_depth = 10\n",
    "* R² scores for each fold: [0.88437108 0.91660642 0.92423821 0.91064935 0.91877865]\n",
    "* Average R²: 0.9109287411751816\n",
    "\n",
    "\n",
    "### Cross-validated score with n_estimators = 400\n",
    "* R² scores for each fold: [0.91967491 0.95122879 0.95249166 0.94501557 0.95164169]\n",
    "* Average R²: 0.944010524"
   ]
  },
  {
   "cell_type": "markdown",
   "id": "9b9b4e88",
   "metadata": {
    "papermill": {
     "duration": 0.038241,
     "end_time": "2023-12-15T06:53:51.878655",
     "exception": false,
     "start_time": "2023-12-15T06:53:51.840414",
     "status": "completed"
    },
    "tags": []
   },
   "source": [
    "**Therefore, picked the best model after hyperparameter tuning as a RandomForestRegressor with parameter n_estimators = 400**"
   ]
  },
  {
   "cell_type": "markdown",
   "id": "3be1cd18",
   "metadata": {
    "papermill": {
     "duration": 0.037548,
     "end_time": "2023-12-15T06:53:51.955002",
     "exception": false,
     "start_time": "2023-12-15T06:53:51.917454",
     "status": "completed"
    },
    "tags": []
   },
   "source": [
    "## Model 3 - HistGradientBoostRegressor"
   ]
  },
  {
   "cell_type": "markdown",
   "id": "2cc3b97e",
   "metadata": {
    "papermill": {
     "duration": 0.037927,
     "end_time": "2023-12-15T06:53:52.031636",
     "exception": false,
     "start_time": "2023-12-15T06:53:51.993709",
     "status": "completed"
    },
    "tags": []
   },
   "source": [
    "import pandas as pd\n",
    "from sklearn.model_selection import train_test_split, RandomizedSearchCV\n",
    "from sklearn.ensemble import HistGradientBoostingRegressor\n",
    "from sklearn.metrics import mean_squared_error, r2_score\n",
    "from scipy.stats import uniform, randint\n",
    "\n",
    "param_distributions = {\n",
    "    'learning_rate': uniform(0.01, 0.2),  # Continuous distribution between 0.01 and 0.21\n",
    "    'max_iter': randint(100, 1000),        # Discrete distribution between 100 and 1000\n",
    "    'max_leaf_nodes': randint(20, 50),     # Discrete distribution between 20 and 50\n",
    "    'min_samples_leaf': randint(20, 50)    # Discrete distribution between 20 and 50\n",
    "}\n",
    "\n",
    "hist_gradient_boosting_model = HistGradientBoostingRegressor(random_state=42)\n",
    "\n",
    "random_search = RandomizedSearchCV(hist_gradient_boosting_model, param_distributions, \n",
    "                                   n_iter=100, scoring='r2', \n",
    "                                   cv=5, random_state=42, verbose=3)\n",
    "\n",
    "random_search.fit(X_train, y_train)"
   ]
  },
  {
   "cell_type": "code",
   "execution_count": 50,
   "id": "6f8f90e4",
   "metadata": {
    "execution": {
     "iopub.execute_input": "2023-12-15T06:53:52.113108Z",
     "iopub.status.busy": "2023-12-15T06:53:52.112114Z",
     "iopub.status.idle": "2023-12-15T06:53:52.149084Z",
     "shell.execute_reply": "2023-12-15T06:53:52.147775Z"
    },
    "papermill": {
     "duration": 0.082169,
     "end_time": "2023-12-15T06:53:52.151865",
     "exception": false,
     "start_time": "2023-12-15T06:53:52.069696",
     "status": "completed"
    },
    "tags": []
   },
   "outputs": [
    {
     "data": {
      "text/html": [
       "<div>\n",
       "<style scoped>\n",
       "    .dataframe tbody tr th:only-of-type {\n",
       "        vertical-align: middle;\n",
       "    }\n",
       "\n",
       "    .dataframe tbody tr th {\n",
       "        vertical-align: top;\n",
       "    }\n",
       "\n",
       "    .dataframe thead th {\n",
       "        text-align: right;\n",
       "    }\n",
       "</style>\n",
       "<table border=\"1\" class=\"dataframe\">\n",
       "  <thead>\n",
       "    <tr style=\"text-align: right;\">\n",
       "      <th></th>\n",
       "      <th>VendorID</th>\n",
       "      <th>tpep_pickup_datetime</th>\n",
       "      <th>tpep_dropoff_datetime</th>\n",
       "      <th>passenger_count</th>\n",
       "      <th>trip_distance</th>\n",
       "      <th>RatecodeID</th>\n",
       "      <th>store_and_fwd_flag</th>\n",
       "      <th>PULocationID</th>\n",
       "      <th>DOLocationID</th>\n",
       "      <th>payment_type</th>\n",
       "      <th>extra</th>\n",
       "      <th>tip_amount</th>\n",
       "      <th>tolls_amount</th>\n",
       "      <th>improvement_surcharge</th>\n",
       "      <th>congestion_surcharge</th>\n",
       "      <th>Airport_fee</th>\n",
       "    </tr>\n",
       "  </thead>\n",
       "  <tbody>\n",
       "    <tr>\n",
       "      <th>0</th>\n",
       "      <td>1</td>\n",
       "      <td>2023-06-29 00:21:20</td>\n",
       "      <td>2023-06-29 00:25:20</td>\n",
       "      <td>1.0</td>\n",
       "      <td>4.95</td>\n",
       "      <td>1.0</td>\n",
       "      <td>N</td>\n",
       "      <td>20</td>\n",
       "      <td>3</td>\n",
       "      <td>Credit Card</td>\n",
       "      <td>1.0</td>\n",
       "      <td>6.067612</td>\n",
       "      <td>0.0</td>\n",
       "      <td>1.0</td>\n",
       "      <td>2.5</td>\n",
       "      <td>0.00</td>\n",
       "    </tr>\n",
       "    <tr>\n",
       "      <th>1</th>\n",
       "      <td>1</td>\n",
       "      <td>2023-06-30 17:44:43</td>\n",
       "      <td>2023-06-30 17:53:13</td>\n",
       "      <td>1.0</td>\n",
       "      <td>2.10</td>\n",
       "      <td>1.0</td>\n",
       "      <td>N</td>\n",
       "      <td>9</td>\n",
       "      <td>81</td>\n",
       "      <td>Credit Card</td>\n",
       "      <td>2.5</td>\n",
       "      <td>6.191269</td>\n",
       "      <td>0.0</td>\n",
       "      <td>1.0</td>\n",
       "      <td>2.5</td>\n",
       "      <td>0.00</td>\n",
       "    </tr>\n",
       "    <tr>\n",
       "      <th>2</th>\n",
       "      <td>1</td>\n",
       "      <td>2023-06-29 18:17:04</td>\n",
       "      <td>2023-06-29 19:23:48</td>\n",
       "      <td>1.0</td>\n",
       "      <td>0.95</td>\n",
       "      <td>1.0</td>\n",
       "      <td>N</td>\n",
       "      <td>92</td>\n",
       "      <td>90</td>\n",
       "      <td>Cash</td>\n",
       "      <td>2.5</td>\n",
       "      <td>3.983872</td>\n",
       "      <td>0.0</td>\n",
       "      <td>1.0</td>\n",
       "      <td>2.5</td>\n",
       "      <td>0.00</td>\n",
       "    </tr>\n",
       "    <tr>\n",
       "      <th>3</th>\n",
       "      <td>0</td>\n",
       "      <td>2023-06-30 21:33:53</td>\n",
       "      <td>2023-06-30 21:46:20</td>\n",
       "      <td>1.0</td>\n",
       "      <td>0.80</td>\n",
       "      <td>1.0</td>\n",
       "      <td>N</td>\n",
       "      <td>19</td>\n",
       "      <td>102</td>\n",
       "      <td>Credit Card</td>\n",
       "      <td>3.5</td>\n",
       "      <td>6.839341</td>\n",
       "      <td>0.0</td>\n",
       "      <td>1.0</td>\n",
       "      <td>2.5</td>\n",
       "      <td>0.00</td>\n",
       "    </tr>\n",
       "    <tr>\n",
       "      <th>4</th>\n",
       "      <td>1</td>\n",
       "      <td>2023-06-29 14:53:54</td>\n",
       "      <td>2023-06-29 15:22:17</td>\n",
       "      <td>1.0</td>\n",
       "      <td>4.01</td>\n",
       "      <td>1.0</td>\n",
       "      <td>N</td>\n",
       "      <td>131</td>\n",
       "      <td>229</td>\n",
       "      <td>Cash</td>\n",
       "      <td>0.0</td>\n",
       "      <td>1.468943</td>\n",
       "      <td>0.0</td>\n",
       "      <td>1.0</td>\n",
       "      <td>0.0</td>\n",
       "      <td>0.00</td>\n",
       "    </tr>\n",
       "    <tr>\n",
       "      <th>...</th>\n",
       "      <td>...</td>\n",
       "      <td>...</td>\n",
       "      <td>...</td>\n",
       "      <td>...</td>\n",
       "      <td>...</td>\n",
       "      <td>...</td>\n",
       "      <td>...</td>\n",
       "      <td>...</td>\n",
       "      <td>...</td>\n",
       "      <td>...</td>\n",
       "      <td>...</td>\n",
       "      <td>...</td>\n",
       "      <td>...</td>\n",
       "      <td>...</td>\n",
       "      <td>...</td>\n",
       "      <td>...</td>\n",
       "    </tr>\n",
       "    <tr>\n",
       "      <th>49995</th>\n",
       "      <td>1</td>\n",
       "      <td>2023-06-29 17:41:59</td>\n",
       "      <td>2023-06-29 18:30:36</td>\n",
       "      <td>1.0</td>\n",
       "      <td>0.61</td>\n",
       "      <td>1.0</td>\n",
       "      <td>N</td>\n",
       "      <td>48</td>\n",
       "      <td>72</td>\n",
       "      <td>Credit Card</td>\n",
       "      <td>2.5</td>\n",
       "      <td>4.043482</td>\n",
       "      <td>0.0</td>\n",
       "      <td>1.0</td>\n",
       "      <td>2.5</td>\n",
       "      <td>0.00</td>\n",
       "    </tr>\n",
       "    <tr>\n",
       "      <th>49996</th>\n",
       "      <td>1</td>\n",
       "      <td>2023-06-30 01:25:25</td>\n",
       "      <td>2023-06-30 01:10:40</td>\n",
       "      <td>1.0</td>\n",
       "      <td>5.02</td>\n",
       "      <td>1.0</td>\n",
       "      <td>N</td>\n",
       "      <td>57</td>\n",
       "      <td>103</td>\n",
       "      <td>Cash</td>\n",
       "      <td>1.0</td>\n",
       "      <td>2.895882</td>\n",
       "      <td>0.0</td>\n",
       "      <td>1.0</td>\n",
       "      <td>0.0</td>\n",
       "      <td>1.75</td>\n",
       "    </tr>\n",
       "    <tr>\n",
       "      <th>49997</th>\n",
       "      <td>1</td>\n",
       "      <td>2023-06-30 22:28:44</td>\n",
       "      <td>2023-06-30 21:49:37</td>\n",
       "      <td>1.0</td>\n",
       "      <td>1.92</td>\n",
       "      <td>1.0</td>\n",
       "      <td>N</td>\n",
       "      <td>150</td>\n",
       "      <td>78</td>\n",
       "      <td>Credit Card</td>\n",
       "      <td>1.0</td>\n",
       "      <td>5.636590</td>\n",
       "      <td>0.0</td>\n",
       "      <td>1.0</td>\n",
       "      <td>2.5</td>\n",
       "      <td>0.00</td>\n",
       "    </tr>\n",
       "    <tr>\n",
       "      <th>49998</th>\n",
       "      <td>0</td>\n",
       "      <td>2023-06-30 02:37:18</td>\n",
       "      <td>2023-06-30 02:10:33</td>\n",
       "      <td>1.0</td>\n",
       "      <td>5.40</td>\n",
       "      <td>1.0</td>\n",
       "      <td>N</td>\n",
       "      <td>4</td>\n",
       "      <td>154</td>\n",
       "      <td>Credit Card</td>\n",
       "      <td>3.5</td>\n",
       "      <td>7.293144</td>\n",
       "      <td>0.0</td>\n",
       "      <td>1.0</td>\n",
       "      <td>2.5</td>\n",
       "      <td>0.00</td>\n",
       "    </tr>\n",
       "    <tr>\n",
       "      <th>49999</th>\n",
       "      <td>1</td>\n",
       "      <td>2023-06-30 18:05:15</td>\n",
       "      <td>2023-06-30 17:15:16</td>\n",
       "      <td>1.0</td>\n",
       "      <td>1.31</td>\n",
       "      <td>1.0</td>\n",
       "      <td>N</td>\n",
       "      <td>7</td>\n",
       "      <td>174</td>\n",
       "      <td>Cash</td>\n",
       "      <td>2.5</td>\n",
       "      <td>1.966592</td>\n",
       "      <td>0.0</td>\n",
       "      <td>1.0</td>\n",
       "      <td>2.5</td>\n",
       "      <td>0.00</td>\n",
       "    </tr>\n",
       "  </tbody>\n",
       "</table>\n",
       "<p>50000 rows × 16 columns</p>\n",
       "</div>"
      ],
      "text/plain": [
       "       VendorID tpep_pickup_datetime tpep_dropoff_datetime  passenger_count  \\\n",
       "0             1  2023-06-29 00:21:20   2023-06-29 00:25:20              1.0   \n",
       "1             1  2023-06-30 17:44:43   2023-06-30 17:53:13              1.0   \n",
       "2             1  2023-06-29 18:17:04   2023-06-29 19:23:48              1.0   \n",
       "3             0  2023-06-30 21:33:53   2023-06-30 21:46:20              1.0   \n",
       "4             1  2023-06-29 14:53:54   2023-06-29 15:22:17              1.0   \n",
       "...         ...                  ...                   ...              ...   \n",
       "49995         1  2023-06-29 17:41:59   2023-06-29 18:30:36              1.0   \n",
       "49996         1  2023-06-30 01:25:25   2023-06-30 01:10:40              1.0   \n",
       "49997         1  2023-06-30 22:28:44   2023-06-30 21:49:37              1.0   \n",
       "49998         0  2023-06-30 02:37:18   2023-06-30 02:10:33              1.0   \n",
       "49999         1  2023-06-30 18:05:15   2023-06-30 17:15:16              1.0   \n",
       "\n",
       "       trip_distance  RatecodeID store_and_fwd_flag  PULocationID  \\\n",
       "0               4.95         1.0                  N            20   \n",
       "1               2.10         1.0                  N             9   \n",
       "2               0.95         1.0                  N            92   \n",
       "3               0.80         1.0                  N            19   \n",
       "4               4.01         1.0                  N           131   \n",
       "...              ...         ...                ...           ...   \n",
       "49995           0.61         1.0                  N            48   \n",
       "49996           5.02         1.0                  N            57   \n",
       "49997           1.92         1.0                  N           150   \n",
       "49998           5.40         1.0                  N             4   \n",
       "49999           1.31         1.0                  N             7   \n",
       "\n",
       "       DOLocationID payment_type  extra  tip_amount  tolls_amount  \\\n",
       "0                 3  Credit Card    1.0    6.067612           0.0   \n",
       "1                81  Credit Card    2.5    6.191269           0.0   \n",
       "2                90         Cash    2.5    3.983872           0.0   \n",
       "3               102  Credit Card    3.5    6.839341           0.0   \n",
       "4               229         Cash    0.0    1.468943           0.0   \n",
       "...             ...          ...    ...         ...           ...   \n",
       "49995            72  Credit Card    2.5    4.043482           0.0   \n",
       "49996           103         Cash    1.0    2.895882           0.0   \n",
       "49997            78  Credit Card    1.0    5.636590           0.0   \n",
       "49998           154  Credit Card    3.5    7.293144           0.0   \n",
       "49999           174         Cash    2.5    1.966592           0.0   \n",
       "\n",
       "       improvement_surcharge  congestion_surcharge  Airport_fee  \n",
       "0                        1.0                   2.5         0.00  \n",
       "1                        1.0                   2.5         0.00  \n",
       "2                        1.0                   2.5         0.00  \n",
       "3                        1.0                   2.5         0.00  \n",
       "4                        1.0                   0.0         0.00  \n",
       "...                      ...                   ...          ...  \n",
       "49995                    1.0                   2.5         0.00  \n",
       "49996                    1.0                   0.0         1.75  \n",
       "49997                    1.0                   2.5         0.00  \n",
       "49998                    1.0                   2.5         0.00  \n",
       "49999                    1.0                   2.5         0.00  \n",
       "\n",
       "[50000 rows x 16 columns]"
      ]
     },
     "execution_count": 50,
     "metadata": {},
     "output_type": "execute_result"
    }
   ],
   "source": [
    "test"
   ]
  },
  {
   "cell_type": "code",
   "execution_count": 51,
   "id": "58ec3516",
   "metadata": {
    "execution": {
     "iopub.execute_input": "2023-12-15T06:53:52.230826Z",
     "iopub.status.busy": "2023-12-15T06:53:52.230364Z",
     "iopub.status.idle": "2023-12-15T06:54:46.295793Z",
     "shell.execute_reply": "2023-12-15T06:54:46.294833Z"
    },
    "papermill": {
     "duration": 54.108168,
     "end_time": "2023-12-15T06:54:46.298590",
     "exception": false,
     "start_time": "2023-12-15T06:53:52.190422",
     "status": "completed"
    },
    "tags": []
   },
   "outputs": [],
   "source": [
    "transformed_test = full_pipeline.transform(test)"
   ]
  },
  {
   "cell_type": "code",
   "execution_count": 52,
   "id": "456e4970",
   "metadata": {
    "execution": {
     "iopub.execute_input": "2023-12-15T06:54:46.378156Z",
     "iopub.status.busy": "2023-12-15T06:54:46.377493Z",
     "iopub.status.idle": "2023-12-15T06:54:46.384107Z",
     "shell.execute_reply": "2023-12-15T06:54:46.383113Z"
    },
    "papermill": {
     "duration": 0.049365,
     "end_time": "2023-12-15T06:54:46.386392",
     "exception": false,
     "start_time": "2023-12-15T06:54:46.337027",
     "status": "completed"
    },
    "tags": []
   },
   "outputs": [
    {
     "data": {
      "text/plain": [
       "array([[0.        , 0.        , 1.        , ..., 0.00260222, 0.        ,\n",
       "        0.        ],\n",
       "       [0.        , 0.        , 1.        , ..., 0.00552971, 0.        ,\n",
       "        0.        ],\n",
       "       [0.        , 1.        , 0.        , ..., 0.04341368, 0.        ,\n",
       "        0.        ],\n",
       "       ...,\n",
       "       [0.        , 0.        , 1.        , ..., 0.02544753, 0.        ,\n",
       "        0.        ],\n",
       "       [0.        , 0.        , 1.        , ..., 0.01740234, 0.        ,\n",
       "        0.        ],\n",
       "       [0.        , 1.        , 0.        , ..., 0.03251689, 0.        ,\n",
       "        0.        ]])"
      ]
     },
     "execution_count": 52,
     "metadata": {},
     "output_type": "execute_result"
    }
   ],
   "source": [
    "transformed_test"
   ]
  },
  {
   "cell_type": "code",
   "execution_count": 53,
   "id": "37cd8499",
   "metadata": {
    "execution": {
     "iopub.execute_input": "2023-12-15T06:54:46.467408Z",
     "iopub.status.busy": "2023-12-15T06:54:46.466687Z",
     "iopub.status.idle": "2023-12-15T06:54:46.471171Z",
     "shell.execute_reply": "2023-12-15T06:54:46.470226Z"
    },
    "papermill": {
     "duration": 0.047285,
     "end_time": "2023-12-15T06:54:46.473402",
     "exception": false,
     "start_time": "2023-12-15T06:54:46.426117",
     "status": "completed"
    },
    "tags": []
   },
   "outputs": [],
   "source": [
    "pd.set_option('display.max_columns', None)"
   ]
  },
  {
   "cell_type": "markdown",
   "id": "b58f787a",
   "metadata": {
    "papermill": {
     "duration": 0.038442,
     "end_time": "2023-12-15T06:54:46.550703",
     "exception": false,
     "start_time": "2023-12-15T06:54:46.512261",
     "status": "completed"
    },
    "tags": []
   },
   "source": []
  },
  {
   "cell_type": "markdown",
   "id": "b093cde6",
   "metadata": {
    "papermill": {
     "duration": 0.038384,
     "end_time": "2023-12-15T06:54:46.628429",
     "exception": false,
     "start_time": "2023-12-15T06:54:46.590045",
     "status": "completed"
    },
    "tags": []
   },
   "source": []
  },
  {
   "cell_type": "code",
   "execution_count": 54,
   "id": "6237a2e0",
   "metadata": {
    "execution": {
     "iopub.execute_input": "2023-12-15T06:54:46.709329Z",
     "iopub.status.busy": "2023-12-15T06:54:46.708660Z",
     "iopub.status.idle": "2023-12-15T06:54:46.725048Z",
     "shell.execute_reply": "2023-12-15T06:54:46.723182Z"
    },
    "papermill": {
     "duration": 0.060258,
     "end_time": "2023-12-15T06:54:46.727921",
     "exception": false,
     "start_time": "2023-12-15T06:54:46.667663",
     "status": "completed"
    },
    "tags": []
   },
   "outputs": [
    {
     "name": "stdout",
     "output_type": "stream",
     "text": [
      "<class 'pandas.core.frame.DataFrame'>\n",
      "RangeIndex: 50000 entries, 0 to 49999\n",
      "Data columns (total 23 columns):\n",
      " #   Column  Non-Null Count  Dtype  \n",
      "---  ------  --------------  -----  \n",
      " 0   0       50000 non-null  float64\n",
      " 1   1       50000 non-null  float64\n",
      " 2   2       50000 non-null  float64\n",
      " 3   3       50000 non-null  float64\n",
      " 4   4       50000 non-null  float64\n",
      " 5   5       50000 non-null  float64\n",
      " 6   6       50000 non-null  float64\n",
      " 7   7       50000 non-null  float64\n",
      " 8   8       50000 non-null  float64\n",
      " 9   9       50000 non-null  float64\n",
      " 10  10      50000 non-null  float64\n",
      " 11  11      50000 non-null  float64\n",
      " 12  12      50000 non-null  float64\n",
      " 13  13      50000 non-null  float64\n",
      " 14  14      50000 non-null  float64\n",
      " 15  15      50000 non-null  float64\n",
      " 16  16      50000 non-null  float64\n",
      " 17  17      50000 non-null  float64\n",
      " 18  18      50000 non-null  float64\n",
      " 19  19      50000 non-null  float64\n",
      " 20  20      50000 non-null  float64\n",
      " 21  21      50000 non-null  float64\n",
      " 22  22      50000 non-null  float64\n",
      "dtypes: float64(23)\n",
      "memory usage: 8.8 MB\n"
     ]
    }
   ],
   "source": [
    "new_test = pd.DataFrame(transformed_test)\n",
    "new_test.info()"
   ]
  },
  {
   "cell_type": "code",
   "execution_count": 55,
   "id": "d9429499",
   "metadata": {
    "execution": {
     "iopub.execute_input": "2023-12-15T06:54:46.809057Z",
     "iopub.status.busy": "2023-12-15T06:54:46.808359Z",
     "iopub.status.idle": "2023-12-15T06:54:59.403871Z",
     "shell.execute_reply": "2023-12-15T06:54:59.402673Z"
    },
    "papermill": {
     "duration": 12.63947,
     "end_time": "2023-12-15T06:54:59.406765",
     "exception": false,
     "start_time": "2023-12-15T06:54:46.767295",
     "status": "completed"
    },
    "tags": []
   },
   "outputs": [],
   "source": [
    "y_pred = rf_regressor_1.predict(transformed_test)"
   ]
  },
  {
   "cell_type": "code",
   "execution_count": 56,
   "id": "0c2fc324",
   "metadata": {
    "execution": {
     "iopub.execute_input": "2023-12-15T06:54:59.486405Z",
     "iopub.status.busy": "2023-12-15T06:54:59.485763Z",
     "iopub.status.idle": "2023-12-15T06:54:59.551278Z",
     "shell.execute_reply": "2023-12-15T06:54:59.550082Z"
    },
    "papermill": {
     "duration": 0.108658,
     "end_time": "2023-12-15T06:54:59.554291",
     "exception": false,
     "start_time": "2023-12-15T06:54:59.445633",
     "status": "completed"
    },
    "tags": []
   },
   "outputs": [],
   "source": [
    "submission = pd.DataFrame(columns = [\"ID\",\"total_amount\"])\n",
    "submission[\"ID\"] = [i for i in range(1,50001)]\n",
    "submission[\"total_amount\"] = y_pred"
   ]
  },
  {
   "cell_type": "code",
   "execution_count": 57,
   "id": "656596d7",
   "metadata": {
    "execution": {
     "iopub.execute_input": "2023-12-15T06:54:59.635594Z",
     "iopub.status.busy": "2023-12-15T06:54:59.635093Z",
     "iopub.status.idle": "2023-12-15T06:54:59.648202Z",
     "shell.execute_reply": "2023-12-15T06:54:59.647280Z"
    },
    "papermill": {
     "duration": 0.055937,
     "end_time": "2023-12-15T06:54:59.650416",
     "exception": false,
     "start_time": "2023-12-15T06:54:59.594479",
     "status": "completed"
    },
    "tags": []
   },
   "outputs": [
    {
     "data": {
      "text/html": [
       "<div>\n",
       "<style scoped>\n",
       "    .dataframe tbody tr th:only-of-type {\n",
       "        vertical-align: middle;\n",
       "    }\n",
       "\n",
       "    .dataframe tbody tr th {\n",
       "        vertical-align: top;\n",
       "    }\n",
       "\n",
       "    .dataframe thead th {\n",
       "        text-align: right;\n",
       "    }\n",
       "</style>\n",
       "<table border=\"1\" class=\"dataframe\">\n",
       "  <thead>\n",
       "    <tr style=\"text-align: right;\">\n",
       "      <th></th>\n",
       "      <th>ID</th>\n",
       "      <th>total_amount</th>\n",
       "    </tr>\n",
       "  </thead>\n",
       "  <tbody>\n",
       "    <tr>\n",
       "      <th>0</th>\n",
       "      <td>1</td>\n",
       "      <td>36.344700</td>\n",
       "    </tr>\n",
       "    <tr>\n",
       "      <th>1</th>\n",
       "      <td>2</td>\n",
       "      <td>24.569825</td>\n",
       "    </tr>\n",
       "    <tr>\n",
       "      <th>2</th>\n",
       "      <td>3</td>\n",
       "      <td>15.527950</td>\n",
       "    </tr>\n",
       "    <tr>\n",
       "      <th>3</th>\n",
       "      <td>4</td>\n",
       "      <td>15.044625</td>\n",
       "    </tr>\n",
       "    <tr>\n",
       "      <th>4</th>\n",
       "      <td>5</td>\n",
       "      <td>22.296825</td>\n",
       "    </tr>\n",
       "    <tr>\n",
       "      <th>...</th>\n",
       "      <td>...</td>\n",
       "      <td>...</td>\n",
       "    </tr>\n",
       "    <tr>\n",
       "      <th>49995</th>\n",
       "      <td>49996</td>\n",
       "      <td>14.838100</td>\n",
       "    </tr>\n",
       "    <tr>\n",
       "      <th>49996</th>\n",
       "      <td>49997</td>\n",
       "      <td>26.651775</td>\n",
       "    </tr>\n",
       "    <tr>\n",
       "      <th>49997</th>\n",
       "      <td>49998</td>\n",
       "      <td>22.459950</td>\n",
       "    </tr>\n",
       "    <tr>\n",
       "      <th>49998</th>\n",
       "      <td>49999</td>\n",
       "      <td>35.613725</td>\n",
       "    </tr>\n",
       "    <tr>\n",
       "      <th>49999</th>\n",
       "      <td>50000</td>\n",
       "      <td>18.061750</td>\n",
       "    </tr>\n",
       "  </tbody>\n",
       "</table>\n",
       "<p>50000 rows × 2 columns</p>\n",
       "</div>"
      ],
      "text/plain": [
       "          ID  total_amount\n",
       "0          1     36.344700\n",
       "1          2     24.569825\n",
       "2          3     15.527950\n",
       "3          4     15.044625\n",
       "4          5     22.296825\n",
       "...      ...           ...\n",
       "49995  49996     14.838100\n",
       "49996  49997     26.651775\n",
       "49997  49998     22.459950\n",
       "49998  49999     35.613725\n",
       "49999  50000     18.061750\n",
       "\n",
       "[50000 rows x 2 columns]"
      ]
     },
     "execution_count": 57,
     "metadata": {},
     "output_type": "execute_result"
    }
   ],
   "source": [
    "submission"
   ]
  },
  {
   "cell_type": "code",
   "execution_count": 58,
   "id": "71210691",
   "metadata": {
    "execution": {
     "iopub.execute_input": "2023-12-15T06:54:59.733182Z",
     "iopub.status.busy": "2023-12-15T06:54:59.732538Z",
     "iopub.status.idle": "2023-12-15T06:54:59.946006Z",
     "shell.execute_reply": "2023-12-15T06:54:59.944865Z"
    },
    "papermill": {
     "duration": 0.25921,
     "end_time": "2023-12-15T06:54:59.948872",
     "exception": false,
     "start_time": "2023-12-15T06:54:59.689662",
     "status": "completed"
    },
    "tags": []
   },
   "outputs": [],
   "source": [
    "submission.to_csv(\"submission.csv\",index = False)"
   ]
  },
  {
   "cell_type": "markdown",
   "id": "020f482c",
   "metadata": {
    "papermill": {
     "duration": 0.041046,
     "end_time": "2023-12-15T06:55:00.029770",
     "exception": false,
     "start_time": "2023-12-15T06:54:59.988724",
     "status": "completed"
    },
    "tags": []
   },
   "source": [
    "# Things to try Out"
   ]
  },
  {
   "cell_type": "markdown",
   "id": "02816fd4",
   "metadata": {
    "papermill": {
     "duration": 0.039185,
     "end_time": "2023-12-15T06:55:00.109674",
     "exception": false,
     "start_time": "2023-12-15T06:55:00.070489",
     "status": "completed"
    },
    "tags": []
   },
   "source": [
    "### Creating a column called fare_without_extra (total_amount - surcharges)"
   ]
  },
  {
   "cell_type": "code",
   "execution_count": 59,
   "id": "79d1a280",
   "metadata": {
    "execution": {
     "iopub.execute_input": "2023-12-15T06:55:00.190406Z",
     "iopub.status.busy": "2023-12-15T06:55:00.189992Z",
     "iopub.status.idle": "2023-12-15T06:55:00.233274Z",
     "shell.execute_reply": "2023-12-15T06:55:00.232028Z"
    },
    "papermill": {
     "duration": 0.086685,
     "end_time": "2023-12-15T06:55:00.236015",
     "exception": false,
     "start_time": "2023-12-15T06:55:00.149330",
     "status": "completed"
    },
    "tags": []
   },
   "outputs": [
    {
     "data": {
      "text/html": [
       "<div>\n",
       "<style scoped>\n",
       "    .dataframe tbody tr th:only-of-type {\n",
       "        vertical-align: middle;\n",
       "    }\n",
       "\n",
       "    .dataframe tbody tr th {\n",
       "        vertical-align: top;\n",
       "    }\n",
       "\n",
       "    .dataframe thead th {\n",
       "        text-align: right;\n",
       "    }\n",
       "</style>\n",
       "<table border=\"1\" class=\"dataframe\">\n",
       "  <thead>\n",
       "    <tr style=\"text-align: right;\">\n",
       "      <th></th>\n",
       "      <th>VendorID</th>\n",
       "      <th>tpep_pickup_datetime</th>\n",
       "      <th>tpep_dropoff_datetime</th>\n",
       "      <th>passenger_count</th>\n",
       "      <th>trip_distance</th>\n",
       "      <th>RatecodeID</th>\n",
       "      <th>store_and_fwd_flag</th>\n",
       "      <th>PULocationID</th>\n",
       "      <th>DOLocationID</th>\n",
       "      <th>payment_type</th>\n",
       "      <th>extra</th>\n",
       "      <th>tip_amount</th>\n",
       "      <th>tolls_amount</th>\n",
       "      <th>improvement_surcharge</th>\n",
       "      <th>total_amount</th>\n",
       "      <th>congestion_surcharge</th>\n",
       "      <th>Airport_fee</th>\n",
       "      <th>fare_wthout_extra</th>\n",
       "    </tr>\n",
       "  </thead>\n",
       "  <tbody>\n",
       "    <tr>\n",
       "      <th>0</th>\n",
       "      <td>1</td>\n",
       "      <td>2023-06-28 17:20:21</td>\n",
       "      <td>2023-06-28 16:34:45</td>\n",
       "      <td>1.0</td>\n",
       "      <td>2.14</td>\n",
       "      <td>1.0</td>\n",
       "      <td>N</td>\n",
       "      <td>120</td>\n",
       "      <td>9</td>\n",
       "      <td>Credit Card</td>\n",
       "      <td>2.5</td>\n",
       "      <td>7.165589</td>\n",
       "      <td>0.0</td>\n",
       "      <td>1.0</td>\n",
       "      <td>20.64</td>\n",
       "      <td>2.5</td>\n",
       "      <td>0.00</td>\n",
       "      <td>17.14</td>\n",
       "    </tr>\n",
       "    <tr>\n",
       "      <th>1</th>\n",
       "      <td>0</td>\n",
       "      <td>2023-06-29 23:05:01</td>\n",
       "      <td>2023-06-29 22:01:35</td>\n",
       "      <td>1.0</td>\n",
       "      <td>2.70</td>\n",
       "      <td>1.0</td>\n",
       "      <td>N</td>\n",
       "      <td>15</td>\n",
       "      <td>215</td>\n",
       "      <td>Credit Card</td>\n",
       "      <td>3.5</td>\n",
       "      <td>6.067401</td>\n",
       "      <td>0.0</td>\n",
       "      <td>1.0</td>\n",
       "      <td>25.55</td>\n",
       "      <td>2.5</td>\n",
       "      <td>0.00</td>\n",
       "      <td>22.05</td>\n",
       "    </tr>\n",
       "    <tr>\n",
       "      <th>2</th>\n",
       "      <td>1</td>\n",
       "      <td>2023-06-30 10:19:31</td>\n",
       "      <td>2023-06-30 11:13:10</td>\n",
       "      <td>1.0</td>\n",
       "      <td>1.15</td>\n",
       "      <td>1.0</td>\n",
       "      <td>N</td>\n",
       "      <td>167</td>\n",
       "      <td>223</td>\n",
       "      <td>Credit Card</td>\n",
       "      <td>0.0</td>\n",
       "      <td>4.111547</td>\n",
       "      <td>0.0</td>\n",
       "      <td>1.0</td>\n",
       "      <td>17.64</td>\n",
       "      <td>2.5</td>\n",
       "      <td>0.00</td>\n",
       "      <td>14.14</td>\n",
       "    </tr>\n",
       "    <tr>\n",
       "      <th>3</th>\n",
       "      <td>0</td>\n",
       "      <td>2023-06-29 13:23:09</td>\n",
       "      <td>2023-06-29 14:20:01</td>\n",
       "      <td>1.0</td>\n",
       "      <td>0.40</td>\n",
       "      <td>1.0</td>\n",
       "      <td>N</td>\n",
       "      <td>128</td>\n",
       "      <td>239</td>\n",
       "      <td>Credit Card</td>\n",
       "      <td>2.5</td>\n",
       "      <td>6.411079</td>\n",
       "      <td>0.0</td>\n",
       "      <td>1.0</td>\n",
       "      <td>12.80</td>\n",
       "      <td>2.5</td>\n",
       "      <td>0.00</td>\n",
       "      <td>9.30</td>\n",
       "    </tr>\n",
       "    <tr>\n",
       "      <th>4</th>\n",
       "      <td>1</td>\n",
       "      <td>2023-06-29 22:03:32</td>\n",
       "      <td>2023-06-29 22:22:22</td>\n",
       "      <td>3.0</td>\n",
       "      <td>1.10</td>\n",
       "      <td>1.0</td>\n",
       "      <td>N</td>\n",
       "      <td>203</td>\n",
       "      <td>52</td>\n",
       "      <td>Credit Card</td>\n",
       "      <td>1.0</td>\n",
       "      <td>4.769377</td>\n",
       "      <td>0.0</td>\n",
       "      <td>1.0</td>\n",
       "      <td>18.00</td>\n",
       "      <td>2.5</td>\n",
       "      <td>0.00</td>\n",
       "      <td>14.50</td>\n",
       "    </tr>\n",
       "    <tr>\n",
       "      <th>...</th>\n",
       "      <td>...</td>\n",
       "      <td>...</td>\n",
       "      <td>...</td>\n",
       "      <td>...</td>\n",
       "      <td>...</td>\n",
       "      <td>...</td>\n",
       "      <td>...</td>\n",
       "      <td>...</td>\n",
       "      <td>...</td>\n",
       "      <td>...</td>\n",
       "      <td>...</td>\n",
       "      <td>...</td>\n",
       "      <td>...</td>\n",
       "      <td>...</td>\n",
       "      <td>...</td>\n",
       "      <td>...</td>\n",
       "      <td>...</td>\n",
       "      <td>...</td>\n",
       "    </tr>\n",
       "    <tr>\n",
       "      <th>174995</th>\n",
       "      <td>1</td>\n",
       "      <td>2023-06-30 22:50:57</td>\n",
       "      <td>2023-06-30 22:22:22</td>\n",
       "      <td>3.0</td>\n",
       "      <td>3.45</td>\n",
       "      <td>1.0</td>\n",
       "      <td>N</td>\n",
       "      <td>147</td>\n",
       "      <td>167</td>\n",
       "      <td>Credit Card</td>\n",
       "      <td>1.0</td>\n",
       "      <td>8.732495</td>\n",
       "      <td>0.0</td>\n",
       "      <td>1.0</td>\n",
       "      <td>28.08</td>\n",
       "      <td>2.5</td>\n",
       "      <td>0.00</td>\n",
       "      <td>24.58</td>\n",
       "    </tr>\n",
       "    <tr>\n",
       "      <th>174996</th>\n",
       "      <td>1</td>\n",
       "      <td>2023-06-30 13:03:33</td>\n",
       "      <td>2023-06-30 14:04:57</td>\n",
       "      <td>1.0</td>\n",
       "      <td>9.44</td>\n",
       "      <td>1.0</td>\n",
       "      <td>N</td>\n",
       "      <td>154</td>\n",
       "      <td>191</td>\n",
       "      <td>Cash</td>\n",
       "      <td>5.0</td>\n",
       "      <td>0.283275</td>\n",
       "      <td>0.0</td>\n",
       "      <td>1.0</td>\n",
       "      <td>59.95</td>\n",
       "      <td>2.5</td>\n",
       "      <td>1.75</td>\n",
       "      <td>54.70</td>\n",
       "    </tr>\n",
       "    <tr>\n",
       "      <th>174997</th>\n",
       "      <td>0</td>\n",
       "      <td>2023-06-29 11:03:32</td>\n",
       "      <td>2023-06-29 12:13:34</td>\n",
       "      <td>1.0</td>\n",
       "      <td>2.40</td>\n",
       "      <td>1.0</td>\n",
       "      <td>N</td>\n",
       "      <td>168</td>\n",
       "      <td>106</td>\n",
       "      <td>Credit Card</td>\n",
       "      <td>2.5</td>\n",
       "      <td>4.245354</td>\n",
       "      <td>0.0</td>\n",
       "      <td>1.0</td>\n",
       "      <td>33.50</td>\n",
       "      <td>2.5</td>\n",
       "      <td>0.00</td>\n",
       "      <td>30.00</td>\n",
       "    </tr>\n",
       "    <tr>\n",
       "      <th>174998</th>\n",
       "      <td>1</td>\n",
       "      <td>2023-06-29 19:47:17</td>\n",
       "      <td>2023-06-29 19:08:55</td>\n",
       "      <td>1.0</td>\n",
       "      <td>4.71</td>\n",
       "      <td>1.0</td>\n",
       "      <td>N</td>\n",
       "      <td>240</td>\n",
       "      <td>100</td>\n",
       "      <td>Credit Card</td>\n",
       "      <td>2.5</td>\n",
       "      <td>10.479776</td>\n",
       "      <td>0.0</td>\n",
       "      <td>1.0</td>\n",
       "      <td>40.80</td>\n",
       "      <td>2.5</td>\n",
       "      <td>0.00</td>\n",
       "      <td>37.30</td>\n",
       "    </tr>\n",
       "    <tr>\n",
       "      <th>174999</th>\n",
       "      <td>1</td>\n",
       "      <td>2023-06-30 21:26:43</td>\n",
       "      <td>2023-06-30 22:54:42</td>\n",
       "      <td>1.0</td>\n",
       "      <td>1.01</td>\n",
       "      <td>1.0</td>\n",
       "      <td>N</td>\n",
       "      <td>153</td>\n",
       "      <td>72</td>\n",
       "      <td>Credit Card</td>\n",
       "      <td>1.0</td>\n",
       "      <td>6.541699</td>\n",
       "      <td>0.0</td>\n",
       "      <td>1.0</td>\n",
       "      <td>16.32</td>\n",
       "      <td>2.5</td>\n",
       "      <td>0.00</td>\n",
       "      <td>12.82</td>\n",
       "    </tr>\n",
       "  </tbody>\n",
       "</table>\n",
       "<p>175000 rows × 18 columns</p>\n",
       "</div>"
      ],
      "text/plain": [
       "        VendorID tpep_pickup_datetime tpep_dropoff_datetime  passenger_count  \\\n",
       "0              1  2023-06-28 17:20:21   2023-06-28 16:34:45              1.0   \n",
       "1              0  2023-06-29 23:05:01   2023-06-29 22:01:35              1.0   \n",
       "2              1  2023-06-30 10:19:31   2023-06-30 11:13:10              1.0   \n",
       "3              0  2023-06-29 13:23:09   2023-06-29 14:20:01              1.0   \n",
       "4              1  2023-06-29 22:03:32   2023-06-29 22:22:22              3.0   \n",
       "...          ...                  ...                   ...              ...   \n",
       "174995         1  2023-06-30 22:50:57   2023-06-30 22:22:22              3.0   \n",
       "174996         1  2023-06-30 13:03:33   2023-06-30 14:04:57              1.0   \n",
       "174997         0  2023-06-29 11:03:32   2023-06-29 12:13:34              1.0   \n",
       "174998         1  2023-06-29 19:47:17   2023-06-29 19:08:55              1.0   \n",
       "174999         1  2023-06-30 21:26:43   2023-06-30 22:54:42              1.0   \n",
       "\n",
       "        trip_distance  RatecodeID store_and_fwd_flag  PULocationID  \\\n",
       "0                2.14         1.0                  N           120   \n",
       "1                2.70         1.0                  N            15   \n",
       "2                1.15         1.0                  N           167   \n",
       "3                0.40         1.0                  N           128   \n",
       "4                1.10         1.0                  N           203   \n",
       "...               ...         ...                ...           ...   \n",
       "174995           3.45         1.0                  N           147   \n",
       "174996           9.44         1.0                  N           154   \n",
       "174997           2.40         1.0                  N           168   \n",
       "174998           4.71         1.0                  N           240   \n",
       "174999           1.01         1.0                  N           153   \n",
       "\n",
       "        DOLocationID payment_type  extra  tip_amount  tolls_amount  \\\n",
       "0                  9  Credit Card    2.5    7.165589           0.0   \n",
       "1                215  Credit Card    3.5    6.067401           0.0   \n",
       "2                223  Credit Card    0.0    4.111547           0.0   \n",
       "3                239  Credit Card    2.5    6.411079           0.0   \n",
       "4                 52  Credit Card    1.0    4.769377           0.0   \n",
       "...              ...          ...    ...         ...           ...   \n",
       "174995           167  Credit Card    1.0    8.732495           0.0   \n",
       "174996           191         Cash    5.0    0.283275           0.0   \n",
       "174997           106  Credit Card    2.5    4.245354           0.0   \n",
       "174998           100  Credit Card    2.5   10.479776           0.0   \n",
       "174999            72  Credit Card    1.0    6.541699           0.0   \n",
       "\n",
       "        improvement_surcharge  total_amount  congestion_surcharge  \\\n",
       "0                         1.0         20.64                   2.5   \n",
       "1                         1.0         25.55                   2.5   \n",
       "2                         1.0         17.64                   2.5   \n",
       "3                         1.0         12.80                   2.5   \n",
       "4                         1.0         18.00                   2.5   \n",
       "...                       ...           ...                   ...   \n",
       "174995                    1.0         28.08                   2.5   \n",
       "174996                    1.0         59.95                   2.5   \n",
       "174997                    1.0         33.50                   2.5   \n",
       "174998                    1.0         40.80                   2.5   \n",
       "174999                    1.0         16.32                   2.5   \n",
       "\n",
       "        Airport_fee  fare_wthout_extra  \n",
       "0              0.00              17.14  \n",
       "1              0.00              22.05  \n",
       "2              0.00              14.14  \n",
       "3              0.00               9.30  \n",
       "4              0.00              14.50  \n",
       "...             ...                ...  \n",
       "174995         0.00              24.58  \n",
       "174996         1.75              54.70  \n",
       "174997         0.00              30.00  \n",
       "174998         0.00              37.30  \n",
       "174999         0.00              12.82  \n",
       "\n",
       "[175000 rows x 18 columns]"
      ]
     },
     "execution_count": 59,
     "metadata": {},
     "output_type": "execute_result"
    }
   ],
   "source": [
    "data['fare_wthout_extra'] = data['total_amount'] - (data['tolls_amount'] + data['improvement_surcharge'] + data['congestion_surcharge'] + data['Airport_fee'])\n",
    "data"
   ]
  },
  {
   "cell_type": "markdown",
   "id": "696e3908",
   "metadata": {
    "papermill": {
     "duration": 0.039503,
     "end_time": "2023-12-15T06:55:00.317050",
     "exception": false,
     "start_time": "2023-12-15T06:55:00.277547",
     "status": "completed"
    },
    "tags": []
   },
   "source": [
    "### Focus on negative fares"
   ]
  },
  {
   "cell_type": "code",
   "execution_count": 60,
   "id": "af6f1beb",
   "metadata": {
    "execution": {
     "iopub.execute_input": "2023-12-15T06:55:00.398998Z",
     "iopub.status.busy": "2023-12-15T06:55:00.398574Z",
     "iopub.status.idle": "2023-12-15T06:55:00.411652Z",
     "shell.execute_reply": "2023-12-15T06:55:00.410547Z"
    },
    "papermill": {
     "duration": 0.056934,
     "end_time": "2023-12-15T06:55:00.414148",
     "exception": false,
     "start_time": "2023-12-15T06:55:00.357214",
     "status": "completed"
    },
    "tags": []
   },
   "outputs": [
    {
     "data": {
      "text/plain": [
       "91       -87.30\n",
       "166      -22.80\n",
       "228      -18.50\n",
       "316       -9.70\n",
       "370       -7.00\n",
       "          ...  \n",
       "174504   -15.00\n",
       "174578   -80.55\n",
       "174784   -74.00\n",
       "174921   -10.20\n",
       "174992   -10.10\n",
       "Name: total_amount, Length: 1725, dtype: float64"
      ]
     },
     "execution_count": 60,
     "metadata": {},
     "output_type": "execute_result"
    }
   ],
   "source": [
    "negative_totalfare = data[data['total_amount'] < 0]\n",
    "negative_totalfare['total_amount']"
   ]
  },
  {
   "cell_type": "code",
   "execution_count": 61,
   "id": "da3ad322",
   "metadata": {
    "execution": {
     "iopub.execute_input": "2023-12-15T06:55:00.496180Z",
     "iopub.status.busy": "2023-12-15T06:55:00.495779Z",
     "iopub.status.idle": "2023-12-15T06:55:00.507551Z",
     "shell.execute_reply": "2023-12-15T06:55:00.506453Z"
    },
    "papermill": {
     "duration": 0.055885,
     "end_time": "2023-12-15T06:55:00.509961",
     "exception": false,
     "start_time": "2023-12-15T06:55:00.454076",
     "status": "completed"
    },
    "tags": []
   },
   "outputs": [
    {
     "data": {
      "text/plain": [
       "91       -75.5\n",
       "166      -19.3\n",
       "228      -15.0\n",
       "316       -8.7\n",
       "370       -3.5\n",
       "          ... \n",
       "174504   -11.5\n",
       "174578   -70.5\n",
       "174784   -70.5\n",
       "174921    -6.7\n",
       "174992    -6.6\n",
       "Name: fare_wthout_extra, Length: 1725, dtype: float64"
      ]
     },
     "execution_count": 61,
     "metadata": {},
     "output_type": "execute_result"
    }
   ],
   "source": [
    "negative_fare = data[data['fare_wthout_extra'] < 0]\n",
    "negative_fare['fare_wthout_extra']"
   ]
  },
  {
   "cell_type": "markdown",
   "id": "5dd80301",
   "metadata": {
    "papermill": {
     "duration": 0.039874,
     "end_time": "2023-12-15T06:55:00.589565",
     "exception": false,
     "start_time": "2023-12-15T06:55:00.549691",
     "status": "completed"
    },
    "tags": []
   },
   "source": []
  }
 ],
 "metadata": {
  "kaggle": {
   "accelerator": "none",
   "dataSources": [
    {
     "databundleVersionId": 6604167,
     "sourceId": 61246,
     "sourceType": "competition"
    }
   ],
   "dockerImageVersionId": 30558,
   "isGpuEnabled": false,
   "isInternetEnabled": true,
   "language": "python",
   "sourceType": "notebook"
  },
  "kernelspec": {
   "display_name": "Python 3",
   "language": "python",
   "name": "python3"
  },
  "language_info": {
   "codemirror_mode": {
    "name": "ipython",
    "version": 3
   },
   "file_extension": ".py",
   "mimetype": "text/x-python",
   "name": "python",
   "nbconvert_exporter": "python",
   "pygments_lexer": "ipython3",
   "version": "3.10.12"
  },
  "papermill": {
   "default_parameters": {},
   "duration": 1262.845892,
   "end_time": "2023-12-15T06:55:01.958931",
   "environment_variables": {},
   "exception": null,
   "input_path": "__notebook__.ipynb",
   "output_path": "__notebook__.ipynb",
   "parameters": {},
   "start_time": "2023-12-15T06:33:59.113039",
   "version": "2.4.0"
  }
 },
 "nbformat": 4,
 "nbformat_minor": 5
}
